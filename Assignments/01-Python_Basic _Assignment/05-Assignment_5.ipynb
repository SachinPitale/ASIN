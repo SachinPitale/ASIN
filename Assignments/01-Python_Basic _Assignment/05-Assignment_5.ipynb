{
 "cells": [
  {
   "cell_type": "code",
   "execution_count": null,
   "id": "2fb119a3",
   "metadata": {},
   "outputs": [],
   "source": [
    "\"\"\"\n",
    "1. What does an empty dictionary's code look like?\n",
    "\n",
    "Answer:\n",
    "d = {}\n",
    "\n",
    "\"\"\"\n",
    "d = {}\n",
    "type(d)"
   ]
  },
  {
   "cell_type": "code",
   "execution_count": null,
   "id": "d7c0e788",
   "metadata": {},
   "outputs": [],
   "source": [
    "\"\"\"\n",
    "2. What is the value of a dictionary value with the key 'foo' and the value 42?\n",
    "\n",
    "Answer:\n",
    "Dictionary value will be 42.\n",
    "\n",
    "\n",
    "\n",
    "\"\"\"\n",
    "#ex\n",
    "d = {'foo':42}\n",
    "d.values()"
   ]
  },
  {
   "cell_type": "code",
   "execution_count": null,
   "id": "326176c3",
   "metadata": {},
   "outputs": [],
   "source": [
    "\"\"\"\n",
    "3. What is the most significant distinction between a dictionary and a list?\n",
    "\n",
    "\n",
    "Answer:\n",
    "List\"\n",
    "1. It contain list of element.\n",
    "2. List is created by []\n",
    "3. The elements are accessed via indices.\n",
    "\n",
    "Dictionary:\n",
    "1. It contain key value pair.\n",
    "2. Dict is created by {}\n",
    "3. The elements are accessed via key-values.\n",
    "\"\"\""
   ]
  },
  {
   "cell_type": "code",
   "execution_count": null,
   "id": "824de960",
   "metadata": {},
   "outputs": [],
   "source": []
  },
  {
   "cell_type": "code",
   "execution_count": null,
   "id": "c4873495",
   "metadata": {},
   "outputs": [],
   "source": [
    "\"\"\"\n",
    "4. What happens if you try to access spam['foo'] if spam is {'bar': 100}?\n",
    "\n",
    "Answer:\n",
    "It will provide key error.\n",
    "\n",
    "\"\"\"\n",
    "# example\n",
    "spam = {'bar': 100}\n",
    "spam['foo']"
   ]
  },
  {
   "cell_type": "code",
   "execution_count": null,
   "id": "2a37a216",
   "metadata": {},
   "outputs": [],
   "source": [
    "\"\"\"\n",
    "5. If a dictionary is stored in spam, what is the difference between the expressions 'cat' in spam and 'cat' in spam.keys()?\n",
    "\n",
    "Answer:\n",
    "we used following code to add new key-value in dict\n",
    "spam['cat'] = 3\n",
    "\n",
    "'cat' in spam.keys() -> It will check cat is avaliable of dictionary keys. if condition is true, It will provide true as result. otherwise false\n",
    "\n",
    "\n",
    "\"\"\""
   ]
  },
  {
   "cell_type": "code",
   "execution_count": 2,
   "id": "9e34a74d",
   "metadata": {},
   "outputs": [
    {
     "data": {
      "text/plain": [
       "\"\\n6. If a dictionary is stored in spam, what is the difference between the expressions 'cat' in spam and 'cat' in spam.values()?\\n\\n\""
      ]
     },
     "execution_count": 2,
     "metadata": {},
     "output_type": "execute_result"
    }
   ],
   "source": [
    "\"\"\"\n",
    "6. If a dictionary is stored in spam, what is the difference between the expressions 'cat' in spam and 'cat' in spam.values()?\n",
    "\n",
    "Answer:\n",
    "\n",
    "we used following code to add new key-value in dict\n",
    "spam['animal'] = 'cat'\n",
    "\n",
    "'cat' in spam.keys() -> It will check cat is avaliable of dictionary values. if condition is true, It will provide true as result. otherwise false\n",
    "\n",
    "\n",
    "\"\"\""
   ]
  },
  {
   "cell_type": "code",
   "execution_count": 1,
   "id": "02fa3ba9",
   "metadata": {},
   "outputs": [
    {
     "name": "stdout",
     "output_type": "stream",
     "text": [
      "{'name': 'Pooka', 'age': 5}\n",
      "{'name': 'Pooka', 'age': 5, 'color': 'black'}\n"
     ]
    }
   ],
   "source": [
    "\"\"\"\n",
    "7. What is a shortcut for the following code?\n",
    "if 'color' not in spam:\n",
    "spam['color'] = 'black'\n",
    "\n",
    "Answer:\n",
    "\n",
    "spam.setdefault('color', 'black')\n",
    "\"\"\"\n",
    "# Answer\n",
    "spam = {'name': 'Pooka', 'age': 5}\n",
    "print(spam)\n",
    "spam.setdefault('color', 'black')\n",
    "print(spam)"
   ]
  },
  {
   "cell_type": "code",
   "execution_count": null,
   "id": "aa98b4d3",
   "metadata": {},
   "outputs": [],
   "source": [
    "\"\"\"\n",
    "8. How do you \"pretty print\" dictionary values using which module and function?\n",
    "\n",
    "Answer:\n",
    "\n",
    "pprint function is used to print dictionary as pretty print.\n",
    "It provide you better readability.\n",
    "\n",
    "\"\"\""
   ]
  }
 ],
 "metadata": {
  "kernelspec": {
   "display_name": "Python 3 (ipykernel)",
   "language": "python",
   "name": "python3"
  },
  "language_info": {
   "codemirror_mode": {
    "name": "ipython",
    "version": 3
   },
   "file_extension": ".py",
   "mimetype": "text/x-python",
   "name": "python",
   "nbconvert_exporter": "python",
   "pygments_lexer": "ipython3",
   "version": "3.9.7"
  }
 },
 "nbformat": 4,
 "nbformat_minor": 5
}
