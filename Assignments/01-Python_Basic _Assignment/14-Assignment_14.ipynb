{
 "cells": [
  {
   "cell_type": "code",
   "execution_count": null,
   "id": "725a57fb",
   "metadata": {},
   "outputs": [],
   "source": [
    "\"\"\"\n",
    "1. What does RGBA stand for?\n",
    "\n",
    "\"\"\""
   ]
  },
  {
   "cell_type": "code",
   "execution_count": null,
   "id": "0bad456c",
   "metadata": {},
   "outputs": [],
   "source": [
    "\"\"\"\n",
    "Ans:\n",
    "Red-Green-Blue-Alpha\n",
    "\"\"\""
   ]
  },
  {
   "cell_type": "code",
   "execution_count": null,
   "id": "c0f8abed",
   "metadata": {},
   "outputs": [],
   "source": [
    "\"\"\"\n",
    "\n",
    "2. From the Pillow module, how do you get the RGBA value of any images?\n",
    "\"\"\""
   ]
  },
  {
   "cell_type": "code",
   "execution_count": null,
   "id": "3d38048c",
   "metadata": {},
   "outputs": [],
   "source": [
    "\"\"\"\n",
    "img = Image.open(‘image.png’)\n",
    "\n",
    "rgba = img.convert(“RGBA”)\n",
    "\n",
    "datas = rgba.getdata()\n",
    "\"\"\""
   ]
  },
  {
   "cell_type": "code",
   "execution_count": null,
   "id": "e189ffba",
   "metadata": {},
   "outputs": [],
   "source": [
    "\"\"\"\n",
    "3. What is a box tuple, and how does it work?\n",
    "\n",
    "\"\"\""
   ]
  },
  {
   "cell_type": "code",
   "execution_count": null,
   "id": "05ff839f",
   "metadata": {},
   "outputs": [],
   "source": [
    "\"\"\"\n",
    "The box tuple submodule provides read-only access for the tuple userdata type. \n",
    "It allows, for a single tuple: selective retrieval of the field contents, retrieval of information about size, iteration over all the fields\n",
    "\n",
    "\"\"\""
   ]
  },
  {
   "cell_type": "code",
   "execution_count": null,
   "id": "9c690805",
   "metadata": {},
   "outputs": [],
   "source": [
    "\"\"\"\n",
    "4. Use your image and load in notebook then, How can you find out the width and height of an Image object?\n",
    "\n",
    "\"\"\""
   ]
  },
  {
   "cell_type": "code",
   "execution_count": null,
   "id": "237a548f",
   "metadata": {},
   "outputs": [],
   "source": [
    "\"\"\"\n",
    "\n",
    "\n",
    "\"\"\""
   ]
  }
 ],
 "metadata": {
  "kernelspec": {
   "display_name": "Python 3 (ipykernel)",
   "language": "python",
   "name": "python3"
  },
  "language_info": {
   "codemirror_mode": {
    "name": "ipython",
    "version": 3
   },
   "file_extension": ".py",
   "mimetype": "text/x-python",
   "name": "python",
   "nbconvert_exporter": "python",
   "pygments_lexer": "ipython3",
   "version": "3.9.7"
  }
 },
 "nbformat": 4,
 "nbformat_minor": 5
}
