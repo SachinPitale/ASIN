{
 "cells": [
  {
   "cell_type": "markdown",
   "id": "2b51b085",
   "metadata": {},
   "source": [
    " 1. What does RGBA stand for?\n",
    "\n",
    "Ans: RGBA is four channel format containing data for Red, Green, Blue and an Alpha value. Where Alpha represent the Opacity."
   ]
  },
  {
   "cell_type": "markdown",
   "id": "ab9f1eed",
   "metadata": {},
   "source": [
    "2. From the Pillow module, how do you get the RGBA value of any images?\n",
    "Ans: ImageColor.getcolor() gives rbga value of any color"
   ]
  },
  {
   "cell_type": "code",
   "execution_count": null,
   "id": "e189ffba",
   "metadata": {},
   "outputs": [],
   "source": [
    "3. What is a box tuple, and how does it work?\n",
    "\n",
    "Ans: A tuple is tuple value of four integers, the left-edge x-cordinate, the top-edge-y-coordinate with \n"
   ]
  },
  {
   "cell_type": "code",
   "execution_count": null,
   "id": "05ff839f",
   "metadata": {},
   "outputs": [],
   "source": [
    "\"\"\"\n",
    "The box tuple submodule provides read-only access for the tuple userdata type. \n",
    "It allows, for a single tuple: selective retrieval of the field contents, retrieval of information about size, iteration over all the fields\n",
    "\n",
    "\"\"\""
   ]
  },
  {
   "cell_type": "code",
   "execution_count": null,
   "id": "9c690805",
   "metadata": {},
   "outputs": [],
   "source": [
    "\"\"\"\n",
    "4. Use your image and load in notebook then, How can you find out the width and height of an Image object?\n",
    "\n",
    "\"\"\""
   ]
  },
  {
   "cell_type": "code",
   "execution_count": null,
   "id": "237a548f",
   "metadata": {},
   "outputs": [],
   "source": [
    "\"\"\"\n",
    "\n",
    "\n",
    "\"\"\""
   ]
  }
 ],
 "metadata": {
  "kernelspec": {
   "display_name": "Python 3 (ipykernel)",
   "language": "python",
   "name": "python3"
  },
  "language_info": {
   "codemirror_mode": {
    "name": "ipython",
    "version": 3
   },
   "file_extension": ".py",
   "mimetype": "text/x-python",
   "name": "python",
   "nbconvert_exporter": "python",
   "pygments_lexer": "ipython3",
   "version": "3.9.7"
  }
 },
 "nbformat": 4,
 "nbformat_minor": 5
}
