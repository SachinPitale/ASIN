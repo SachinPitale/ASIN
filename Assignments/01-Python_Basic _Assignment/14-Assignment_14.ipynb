{
 "cells": [
  {
   "cell_type": "markdown",
   "id": "bdb883ef",
   "metadata": {},
   "source": [
    "2. From the Pillow module, how do you get the RGBA value of any images?"
   ]
  },
  {
   "cell_type": "markdown",
   "id": "25a532b8",
   "metadata": {},
   "source": [
    "    Ans: ImageColor.getcolor() gives rbga value of any color"
   ]
  }
 ],
 "metadata": {
  "kernelspec": {
   "display_name": "Python 3 (ipykernel)",
   "language": "python",
   "name": "python3"
  },
  "language_info": {
   "codemirror_mode": {
    "name": "ipython",
    "version": 3
   },
   "file_extension": ".py",
   "mimetype": "text/x-python",
   "name": "python",
   "nbconvert_exporter": "python",
   "pygments_lexer": "ipython3",
   "version": "3.9.7"
  }
 },
 "nbformat": 4,
 "nbformat_minor": 5
}
