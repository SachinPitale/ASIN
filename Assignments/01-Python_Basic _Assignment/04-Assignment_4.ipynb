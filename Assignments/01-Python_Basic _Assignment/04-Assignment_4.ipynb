{
 "cells": [
  {
   "cell_type": "code",
   "execution_count": null,
   "id": "85a5dc2b",
   "metadata": {},
   "outputs": [],
   "source": [
    "\"\"\"\n",
    "1. What exactly is []?\n",
    "\n",
    "Answer:\n",
    "\n",
    "It's empty list.\n",
    "\"\"\"\n",
    "print(type([]))\n",
    "[]"
   ]
  },
  {
   "cell_type": "code",
   "execution_count": null,
   "id": "3a748e86",
   "metadata": {},
   "outputs": [],
   "source": []
  },
  {
   "cell_type": "code",
   "execution_count": null,
   "id": "ae7c32d4",
   "metadata": {},
   "outputs": [],
   "source": [
    "\"\"\"\n",
    "2. In a list of values stored in a variable called spam, how would you assign the value 'hello' as the third value? \n",
    "(Assume [2, 4, 6, 8, 10] are in spam.)\n",
    "\n",
    "\n",
    "\"\"\"\n",
    "# Answer\n",
    "# for a 3rd value\n",
    "spam = [2, 4, 6, 8, 10]\n",
    "spam.insert(2,'hello')\n",
    "print(spam)\n",
    "\n",
    "# for a 3rd index\n",
    "spam1= [2, 4, 6, 8, 10]\n",
    "spam1.insert(3,'hello')\n",
    "print(spam1)"
   ]
  },
  {
   "cell_type": "code",
   "execution_count": null,
   "id": "0cfb7e53",
   "metadata": {},
   "outputs": [],
   "source": []
  },
  {
   "cell_type": "code",
   "execution_count": null,
   "id": "39852e3c",
   "metadata": {},
   "outputs": [],
   "source": [
    "\"\"\"\n",
    "3. What is the value of spam[int(int('3' * 2) / 11)]?\n",
    "\n",
    "Answer:\n",
    "Spam value would be 3.\n",
    "\n",
    "\"\"\"\n",
    "#example\n",
    "spam=[int(int('3' * 2) / 11)]\n",
    "print(spam)"
   ]
  },
  {
   "cell_type": "code",
   "execution_count": null,
   "id": "a35425fa",
   "metadata": {},
   "outputs": [],
   "source": [
    "\"\"\"\n",
    "4. What is the value of spam[-1]?\n",
    "\n",
    "Answer:\n",
    "It will print last element of list\n",
    "\n",
    "\"\"\"\n",
    "# Example\n",
    "spam = [2, 4, 6, 8, 10]\n",
    "spam[-1]"
   ]
  },
  {
   "cell_type": "code",
   "execution_count": null,
   "id": "f9ebee14",
   "metadata": {},
   "outputs": [],
   "source": [
    "\"\"\"\n",
    "5. What is the value of spam[:2]?\n",
    "\n",
    "Answer:\n",
    "\n",
    "List will provide the output between 0 to 2 index, but excluding upper bound index is 2, the range will be (0,1)\n",
    "\n",
    "\"\"\"\n",
    "# Example\n",
    "spam = [2, 4, 6, 8, 10]\n",
    "spam[:2]"
   ]
  },
  {
   "cell_type": "code",
   "execution_count": null,
   "id": "a01e3d8e",
   "metadata": {},
   "outputs": [],
   "source": []
  },
  {
   "cell_type": "code",
   "execution_count": null,
   "id": "c9705b34",
   "metadata": {},
   "outputs": [],
   "source": [
    "\"\"\"\n",
    "\n",
    "Let's pretend bacon has the list [3.14, 'cat,' 11, 'cat,' True] for the next three questions.  \n",
    "\n",
    "\"\"\""
   ]
  },
  {
   "cell_type": "code",
   "execution_count": 1,
   "id": "a0b0ef44",
   "metadata": {},
   "outputs": [
    {
     "data": {
      "text/plain": [
       "1"
      ]
     },
     "execution_count": 1,
     "metadata": {},
     "output_type": "execute_result"
    }
   ],
   "source": [
    "\"\"\"\n",
    "6. What is the value of bacon.index('cat')?\n",
    "\n",
    "\n",
    "Answer:\n",
    "Output will be provide 1st index, because index method always provide the output of first occurance.\n",
    "In this example we have cat defined at 1st and 3rd index. As per the index method. it print index at 1st\n",
    "\"\"\"\n",
    "# example\n",
    "bacon=[3.14, 'cat', 11, 'cat', True]\n",
    "bacon.index('cat')"
   ]
  },
  {
   "cell_type": "code",
   "execution_count": 3,
   "id": "22aa9160",
   "metadata": {},
   "outputs": [
    {
     "name": "stdout",
     "output_type": "stream",
     "text": [
      "[3.14, 'cat', 11, 'cat', True]\n",
      "[3.14, 'cat', 11, 'cat', True, 99]\n"
     ]
    }
   ],
   "source": [
    "\"\"\"\n",
    "7. How does bacon.append(99) change the look of the list value in bacon?\n",
    "\n",
    "Answer:\n",
    "Append method will append the new element last of the list.\n",
    "\n",
    "\"\"\"\n",
    "#exmple\n",
    "print(bacon)\n",
    "bacon.append(99)\n",
    "print(bacon)"
   ]
  },
  {
   "cell_type": "code",
   "execution_count": null,
   "id": "12ac06ad",
   "metadata": {},
   "outputs": [],
   "source": []
  },
  {
   "cell_type": "code",
   "execution_count": 4,
   "id": "52081d32",
   "metadata": {},
   "outputs": [
    {
     "name": "stdout",
     "output_type": "stream",
     "text": [
      "[3.14, 'cat', 11, 'cat', True, 99]\n",
      "[3.14, 11, 'cat', True, 99]\n"
     ]
    }
   ],
   "source": [
    "\"\"\"\n",
    "8. How does bacon.remove('cat') change the look of the list in bacon?\n",
    "\n",
    "Answer:\n",
    "\n",
    "Above remove method will remove the 'cat' string from 1st index.\n",
    "\"\"\"\n",
    "print(bacon)\n",
    "bacon.remove('cat')\n",
    "print(bacon)"
   ]
  },
  {
   "cell_type": "code",
   "execution_count": null,
   "id": "ed051d63",
   "metadata": {},
   "outputs": [],
   "source": []
  },
  {
   "cell_type": "code",
   "execution_count": 7,
   "id": "b723d80e",
   "metadata": {},
   "outputs": [
    {
     "name": "stdout",
     "output_type": "stream",
     "text": [
      "[1, 2, 3, 4, 5, 5, 6, 7, 8, 9]\n",
      "[5, 6, 7, 8, 9, 5, 6, 7, 8, 9, 5, 6, 7, 8, 9]\n"
     ]
    }
   ],
   "source": [
    "\"\"\"\n",
    "9. What are the list concatenation and list replication operators?\n",
    "\n",
    "\"\"\"\n",
    "# example\n",
    "# concatenation two or multiple list in single list\n",
    "\n",
    "l = [1,2,3,4,5]\n",
    "l1 = [5,6,7,8,9]\n",
    "\n",
    "print(l + l1)\n",
    "\n",
    "# list replication, multiply the list \n",
    "\n",
    "print(l1 * 3)\n"
   ]
  },
  {
   "cell_type": "code",
   "execution_count": 13,
   "id": "92f33ca7",
   "metadata": {},
   "outputs": [
    {
     "name": "stdout",
     "output_type": "stream",
     "text": [
      "[1, 2, 3, 4, 5, 7]\n",
      "[1, 2, 'ds', 3, 4, 5, 7]\n"
     ]
    }
   ],
   "source": [
    "\n",
    "\n",
    "\"\"\"\n",
    "10. What is difference between the list methods append() and insert()?\n",
    "\n",
    "Answer:\n",
    "\n",
    "append() : It will append element as last element of list.\n",
    "insert() : It will insert or add the element at particuler index number, which is provided by user\n",
    "\n",
    "\n",
    "\n",
    "\"\"\"\n",
    "#example\n",
    "# append\n",
    "l = [1,2,3,4,5]\n",
    "l.append(7)\n",
    "\n",
    "print(l)\n",
    "\n",
    "# inset\n",
    "\n",
    "l.insert(2,'ds')\n",
    "print(l)"
   ]
  },
  {
   "cell_type": "code",
   "execution_count": null,
   "id": "42126d23",
   "metadata": {},
   "outputs": [],
   "source": [
    "\"\"\"\n",
    "11. What are the two methods for removing items from a list?\n",
    "\n",
    "Answer:\n",
    "1. pop() : It will remove last element of list\n",
    "2. remove() : It will remove user provided list element.\n",
    "\n",
    "\n",
    "\"\"\""
   ]
  },
  {
   "cell_type": "code",
   "execution_count": null,
   "id": "df604958",
   "metadata": {},
   "outputs": [],
   "source": []
  },
  {
   "cell_type": "code",
   "execution_count": null,
   "id": "5c92d5aa",
   "metadata": {},
   "outputs": [],
   "source": [
    "\"\"\"\n",
    "12. Describe how list values and string values are identical.\n",
    "\n",
    "Answer:\n",
    "We can access any list element and string char by it's index number.\n",
    "But list is mutable, means we can replace the any element of list\n",
    "and string is immutable, means we can't replace any index value of string.\n",
    "\n",
    "\"\"\""
   ]
  },
  {
   "cell_type": "code",
   "execution_count": null,
   "id": "c665d1cc",
   "metadata": {},
   "outputs": [],
   "source": [
    "\n",
    "\"\"\"\n",
    "13. What's the difference between tuples and lists?\n",
    "\n",
    "Answer:\n",
    "\n",
    "List:\n",
    "  - mutable object,\n",
    "  - support insert, append, remove methods\n",
    "tuple:\n",
    "  - immutable object\n",
    "  - doesn's support insert, append, remove method\n",
    "\"\"\""
   ]
  },
  {
   "cell_type": "code",
   "execution_count": null,
   "id": "887bcb7f",
   "metadata": {},
   "outputs": [],
   "source": []
  },
  {
   "cell_type": "code",
   "execution_count": 29,
   "id": "c7e80c54",
   "metadata": {},
   "outputs": [
    {
     "name": "stdout",
     "output_type": "stream",
     "text": [
      "<class 'int'> 42\n"
     ]
    }
   ],
   "source": [
    "\"\"\"\n",
    "14. How do you type a tuple value that only contains the integer 42?\n",
    "\n",
    "\"\"\"\n",
    "# Answer\n",
    "t = (42)\n",
    "print(type(t),t )\n"
   ]
  },
  {
   "cell_type": "code",
   "execution_count": null,
   "id": "b9ecc06e",
   "metadata": {},
   "outputs": [],
   "source": []
  },
  {
   "cell_type": "code",
   "execution_count": 33,
   "id": "5ce94ae9",
   "metadata": {},
   "outputs": [
    {
     "name": "stdout",
     "output_type": "stream",
     "text": [
      "list values [1, 2, 3, 4, 5]\n",
      "tuple values (1, 2, 3, 4, 5)\n",
      "tulpe to list [1, 2, 3, 4, 5]\n"
     ]
    }
   ],
   "source": [
    "\"\"\"\n",
    "15. How do you get a list value's tuple form? How do you get a tuple value's list form?\n",
    "\n",
    "Answer:\n",
    "1. convert list -> tuple\n",
    "2. convert tuple -> list\n",
    "\"\"\"\n",
    "# Answer:\n",
    "# list to tuple\n",
    "l = [1,2,3,4,5]\n",
    "print(\"list values\",l)\n",
    "t = tuple(l)\n",
    "print(\"tuple values\", t)\n",
    "\n",
    "# tuple to list\n",
    "\n",
    "l1 = list(t)\n",
    "print(\"tulpe to list\", l1)"
   ]
  },
  {
   "cell_type": "code",
   "execution_count": null,
   "id": "1abe6207",
   "metadata": {},
   "outputs": [],
   "source": []
  },
  {
   "cell_type": "code",
   "execution_count": null,
   "id": "d3492493",
   "metadata": {},
   "outputs": [],
   "source": [
    "\"\"\"\n",
    "16. Variables that \"contain\" list values are not necessarily lists themselves. Instead, what do they contain?\n",
    "\n",
    "Answer:\n",
    "\n",
    "We can directly pass the list element to list, instead \n",
    "\n",
    "\"\"\""
   ]
  },
  {
   "cell_type": "code",
   "execution_count": null,
   "id": "6e3e446c",
   "metadata": {},
   "outputs": [],
   "source": []
  },
  {
   "cell_type": "code",
   "execution_count": null,
   "id": "e8100c64",
   "metadata": {},
   "outputs": [],
   "source": []
  },
  {
   "cell_type": "code",
   "execution_count": null,
   "id": "73df4baa",
   "metadata": {},
   "outputs": [],
   "source": [
    "\"\"\"\n",
    "17. How do you distinguish between copy.copy() and copy.deepcopy()?\n",
    "\n",
    "copy() returns a shallow copy of list, A shallow copy means constructing a new collection object and then populating it\n",
    "deepcopy() return a deep copy of list.\n",
    "\n",
    "\"\"\""
   ]
  },
  {
   "cell_type": "code",
   "execution_count": 36,
   "id": "d551f982",
   "metadata": {},
   "outputs": [
    {
     "data": {
      "text/plain": [
       "[6, 2, [8, 5], 4]"
      ]
     },
     "execution_count": 36,
     "metadata": {},
     "output_type": "execute_result"
    }
   ],
   "source": []
  },
  {
   "cell_type": "code",
   "execution_count": null,
   "id": "e5a6beb7",
   "metadata": {},
   "outputs": [],
   "source": []
  }
 ],
 "metadata": {
  "kernelspec": {
   "display_name": "Python 3 (ipykernel)",
   "language": "python",
   "name": "python3"
  },
  "language_info": {
   "codemirror_mode": {
    "name": "ipython",
    "version": 3
   },
   "file_extension": ".py",
   "mimetype": "text/x-python",
   "name": "python",
   "nbconvert_exporter": "python",
   "pygments_lexer": "ipython3",
   "version": "3.9.7"
  }
 },
 "nbformat": 4,
 "nbformat_minor": 5
}
