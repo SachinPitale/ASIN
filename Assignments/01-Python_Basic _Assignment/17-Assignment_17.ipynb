{
 "cells": [
  {
   "cell_type": "markdown",
   "id": "5fd49f1d",
   "metadata": {},
   "source": [
    "# Assignment 17"
   ]
  },
  {
   "cell_type": "markdown",
   "id": "a1fb819b",
   "metadata": {},
   "source": [
    "1. Assign the value 7 to the variable guess_me. Then, write the conditional tests (if, else, and elif) to print the string 'too low' if guess_me is less than 7, 'too high' if greater than 7, and 'just right' if equal to 7."
   ]
  },
  {
   "cell_type": "code",
   "execution_count": 4,
   "id": "ba450c2e",
   "metadata": {},
   "outputs": [
    {
     "name": "stdout",
     "output_type": "stream",
     "text": [
      "too low\n",
      "too high\n",
      "just right\n"
     ]
    }
   ],
   "source": [
    "def guess(x):\n",
    "    guess_me = x\n",
    "    if guess_me < 7:\n",
    "        return \"too low\"\n",
    "    elif guess_me > 7:\n",
    "        return \"too high\"\n",
    "    else: \n",
    "        return \"just right\"\n",
    "\n",
    "print(guess(6))\n",
    "print(guess(8))\n",
    "print(guess(7))"
   ]
  },
  {
   "cell_type": "markdown",
   "id": "936e8cdc",
   "metadata": {},
   "source": [
    "2. Assign the value 7 to the variable guess_me and the value 1 to the variable start. Write a while loop that compares start with guess_me. Print too low if start is less than guess me. If start equals guess_me, print 'found it!' and exit the loop. If start is greater than guess_me, print 'oops' and exit the loop. Increment start at the end of the loop"
   ]
  },
  {
   "cell_type": "code",
   "execution_count": 3,
   "id": "93d87f41",
   "metadata": {},
   "outputs": [
    {
     "name": "stdout",
     "output_type": "stream",
     "text": [
      "too low\n",
      "too low\n",
      "too low\n",
      "too low\n",
      "too low\n",
      "too low\n",
      "found it!\n"
     ]
    }
   ],
   "source": [
    "guess_me = 7\n",
    "start = 1\n",
    "\n",
    "while True :\n",
    "    if start < guess_me:\n",
    "        print (\"too low\")\n",
    "    elif start == guess_me:\n",
    "        print (\"found it!\")\n",
    "        break\n",
    "    elif start > guess_me:\n",
    "        \n",
    "        print (\"oops\")\n",
    "        break\n",
    "    start += 1\n",
    "    "
   ]
  },
  {
   "cell_type": "markdown",
   "id": "66ed744e",
   "metadata": {},
   "source": [
    "3. Print the following values of the list [3, 2, 1, 0] using a for loop"
   ]
  },
  {
   "cell_type": "code",
   "execution_count": 4,
   "id": "d198fa5c",
   "metadata": {},
   "outputs": [
    {
     "name": "stdout",
     "output_type": "stream",
     "text": [
      "3\n",
      "2\n",
      "1\n",
      "0\n"
     ]
    }
   ],
   "source": [
    "for i in [3, 2, 1, 0]:\n",
    "    print (i)"
   ]
  },
  {
   "cell_type": "markdown",
   "id": "5aed368e",
   "metadata": {},
   "source": [
    "4. Use a list comprehension to make a list of the even numbers in range(10)"
   ]
  },
  {
   "cell_type": "code",
   "execution_count": 5,
   "id": "9fcb32e9",
   "metadata": {},
   "outputs": [
    {
     "data": {
      "text/plain": [
       "[0, 2, 4, 6, 8]"
      ]
     },
     "execution_count": 5,
     "metadata": {},
     "output_type": "execute_result"
    }
   ],
   "source": [
    "[i for i in range(10) if i %2 ==0]"
   ]
  },
  {
   "cell_type": "markdown",
   "id": "1761e33c",
   "metadata": {},
   "source": [
    "5. Use a dictionary comprehension to create the dictionary squares. Use range(10) to return the keys, and use the square of each key as its value."
   ]
  },
  {
   "cell_type": "code",
   "execution_count": 13,
   "id": "744301bb",
   "metadata": {},
   "outputs": [
    {
     "data": {
      "text/plain": [
       "[{0: 0},\n",
       " {1: 1},\n",
       " {2: 4},\n",
       " {3: 9},\n",
       " {4: 16},\n",
       " {5: 25},\n",
       " {6: 36},\n",
       " {7: 49},\n",
       " {8: 64},\n",
       " {9: 81}]"
      ]
     },
     "execution_count": 13,
     "metadata": {},
     "output_type": "execute_result"
    }
   ],
   "source": [
    "[{i: i**2}for i in range(10) ]"
   ]
  },
  {
   "cell_type": "markdown",
   "id": "c286018b",
   "metadata": {},
   "source": [
    "6. Construct the set odd from the odd numbers in the range using a set comprehension (10)."
   ]
  },
  {
   "cell_type": "code",
   "execution_count": 14,
   "id": "2e6c9936",
   "metadata": {},
   "outputs": [
    {
     "data": {
      "text/plain": [
       "{1, 3, 5, 7, 9}"
      ]
     },
     "execution_count": 14,
     "metadata": {},
     "output_type": "execute_result"
    }
   ],
   "source": [
    "set([i for i in range(10) if i%2 != 0])"
   ]
  },
  {
   "cell_type": "markdown",
   "id": "16dcef87",
   "metadata": {},
   "source": [
    "7. Use a generator comprehension to return the string 'Got ' and a number for the numbers in range(10). Iterate through this by using a for loop"
   ]
  },
  {
   "cell_type": "code",
   "execution_count": 17,
   "id": "060c8f36",
   "metadata": {},
   "outputs": [
    {
     "name": "stdout",
     "output_type": "stream",
     "text": [
      "Got0 Got1 Got2 Got3 Got4 Got5 Got6 Got7 Got8 Got9 "
     ]
    }
   ],
   "source": [
    "ge = (\"Got\"+str(i) for i in range(10))\n",
    "for i in ge:\n",
    "    print(i, end=\" \")"
   ]
  },
  {
   "cell_type": "markdown",
   "id": "9b9db02c",
   "metadata": {},
   "source": [
    "8. Define a function called good that returns the list ['Harry', 'Ron', 'Hermione']."
   ]
  },
  {
   "cell_type": "code",
   "execution_count": 21,
   "id": "397e4e25",
   "metadata": {},
   "outputs": [
    {
     "name": "stdout",
     "output_type": "stream",
     "text": [
      "['Harry', 'Ron', 'Hermione']\n"
     ]
    }
   ],
   "source": [
    "def good():\n",
    "    l = ['Harry', 'Ron', 'Hermione']\n",
    "    return l\n",
    "\n",
    "print(good())"
   ]
  },
  {
   "cell_type": "markdown",
   "id": "68afc5d7",
   "metadata": {},
   "source": [
    "9. Define a generator function called get_odds that returns the odd numbers from range(10). Use a for loop to find and print the third value returned."
   ]
  },
  {
   "cell_type": "code",
   "execution_count": 29,
   "id": "c97a792d",
   "metadata": {},
   "outputs": [],
   "source": [
    "def get_odds():\n",
    "    odd_num = [i for i in range(10) if i %2 != 0]\n",
    "    third_value = odd_num[2]\n",
    "    return third_value"
   ]
  },
  {
   "cell_type": "code",
   "execution_count": 30,
   "id": "75b904f6",
   "metadata": {},
   "outputs": [
    {
     "data": {
      "text/plain": [
       "5"
      ]
     },
     "execution_count": 30,
     "metadata": {},
     "output_type": "execute_result"
    }
   ],
   "source": [
    "get_odds()"
   ]
  },
  {
   "cell_type": "markdown",
   "id": "97bbd7c0",
   "metadata": {},
   "source": [
    "10. Define an exception called OopsException. Raise this exception to see what happens. Then write the code to catch this exception and print 'Caught an oops'."
   ]
  },
  {
   "cell_type": "code",
   "execution_count": 36,
   "id": "47122cf3",
   "metadata": {},
   "outputs": [
    {
     "name": "stdout",
     "output_type": "stream",
     "text": [
      "Caught an oops name 'x' is not defined\n"
     ]
    }
   ],
   "source": [
    "class OopsException:\n",
    "    pass\n",
    "def test(input):\n",
    "    raise OopsException(x)\n",
    "\n",
    "try:\n",
    "    test(-97)\n",
    "except Exception as e:\n",
    "    print(\"Caught an oops\", e)\n",
    "    "
   ]
  },
  {
   "cell_type": "markdown",
   "id": "1d16d6df",
   "metadata": {},
   "source": [
    "11. Use zip() to make a dictionary called movies that pairs these lists: titles = ['Creature of Habit', 'Crewel Fate'] and plots = ['A nun turns into a monster', 'A haunted yarn shop']."
   ]
  },
  {
   "cell_type": "code",
   "execution_count": 37,
   "id": "732d1e2e",
   "metadata": {},
   "outputs": [
    {
     "name": "stdout",
     "output_type": "stream",
     "text": [
      "{'Creature of Habit': 'A nun turns into a monster', 'Crewel Fate': 'A haunted yarn shop'}\n"
     ]
    }
   ],
   "source": [
    "titles =  ['Creature of Habit', 'Crewel Fate']\n",
    "plots = ['A nun turns into a monster', 'A haunted yarn shop']\n",
    "output= dict(zip(titles,plots))\n",
    "print(output)"
   ]
  },
  {
   "cell_type": "code",
   "execution_count": null,
   "id": "2b4554f0",
   "metadata": {},
   "outputs": [],
   "source": []
  }
 ],
 "metadata": {
  "kernelspec": {
   "display_name": "Python 3 (ipykernel)",
   "language": "python",
   "name": "python3"
  },
  "language_info": {
   "codemirror_mode": {
    "name": "ipython",
    "version": 3
   },
   "file_extension": ".py",
   "mimetype": "text/x-python",
   "name": "python",
   "nbconvert_exporter": "python",
   "pygments_lexer": "ipython3",
   "version": "3.9.7"
  }
 },
 "nbformat": 4,
 "nbformat_minor": 5
}
