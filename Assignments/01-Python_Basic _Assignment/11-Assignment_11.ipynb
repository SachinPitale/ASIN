{
 "cells": [
  {
   "cell_type": "code",
   "execution_count": 20,
   "id": "70cf4348",
   "metadata": {},
   "outputs": [],
   "source": [
    "\"\"\"\n",
    "1. Create an assert statement that throws an AssertionError if the variable spam is a negative integer.\n",
    "\n",
    "\"\"\"\n",
    "def numcheck(n):\n",
    "    try:\n",
    "        assert n > 0\n",
    "        print(\"your number is positive\", n)\n",
    "    except AssertionError as e:\n",
    "        print(\"AssertionError\",e)\n",
    "    \n"
   ]
  },
  {
   "cell_type": "code",
   "execution_count": 21,
   "id": "f853bf5f",
   "metadata": {},
   "outputs": [
    {
     "name": "stdout",
     "output_type": "stream",
     "text": [
      "AssertionError \n"
     ]
    }
   ],
   "source": [
    "numcheck(-10)"
   ]
  },
  {
   "cell_type": "code",
   "execution_count": 22,
   "id": "b859b6b8",
   "metadata": {},
   "outputs": [
    {
     "name": "stdout",
     "output_type": "stream",
     "text": [
      "your number is positive 10\n"
     ]
    }
   ],
   "source": [
    "numcheck(10)"
   ]
  },
  {
   "cell_type": "code",
   "execution_count": null,
   "id": "81da630b",
   "metadata": {},
   "outputs": [],
   "source": []
  },
  {
   "cell_type": "code",
   "execution_count": null,
   "id": "a3a336fe",
   "metadata": {},
   "outputs": [],
   "source": [
    "\n",
    "\"\"\"\n",
    "2. Write an assert statement that triggers an AssertionError if the variables eggs and bacon contain strings that are the same as each other, even if their cases are different (that is, 'hello' and 'hello' are considered the same, and 'goodbye' and 'GOODbye' are also considered the same).\"\"\"\n",
    "\"\"\"\n"
   ]
  },
  {
   "cell_type": "code",
   "execution_count": 38,
   "id": "426f626b",
   "metadata": {},
   "outputs": [],
   "source": [
    "class assertstring:\n",
    "    def __init__(self,a,b):\n",
    "        self.a = a\n",
    "        self.b = b\n",
    "    \n",
    "    def stringcheck(self):\n",
    "        if type(self.a) == str and type(self.b) == str:\n",
    "            eggs = self.a.upper()\n",
    "            becon = self.b.upper()\n",
    "            \n",
    "            try:\n",
    "                assert eggs != becon\n",
    "                print(\"both the variable value are different\", eggs,  \"=>\", becon )\n",
    "            except AssertionError as e:\n",
    "                print(\"AssertionError\",e)\n",
    "                \n",
    "                \n",
    "                \n",
    "            \n",
    "        \n",
    "    "
   ]
  },
  {
   "cell_type": "code",
   "execution_count": 39,
   "id": "92ffa5cb",
   "metadata": {},
   "outputs": [],
   "source": [
    "test1 = assertstring(\"HEllo\",'heLLoo')"
   ]
  },
  {
   "cell_type": "code",
   "execution_count": 40,
   "id": "6e412df3",
   "metadata": {},
   "outputs": [
    {
     "name": "stdout",
     "output_type": "stream",
     "text": [
      "both the variable value are different HELLO => HELLOO\n"
     ]
    }
   ],
   "source": [
    "test1.stringcheck()"
   ]
  },
  {
   "cell_type": "code",
   "execution_count": 41,
   "id": "d8ded1d7",
   "metadata": {},
   "outputs": [],
   "source": [
    "test2 = assertstring(\"HEllo\",'heLLo')"
   ]
  },
  {
   "cell_type": "code",
   "execution_count": 42,
   "id": "99c5b328",
   "metadata": {},
   "outputs": [
    {
     "name": "stdout",
     "output_type": "stream",
     "text": [
      "AssertionError \n"
     ]
    }
   ],
   "source": [
    "test2.stringcheck()"
   ]
  },
  {
   "cell_type": "code",
   "execution_count": null,
   "id": "55669ce5",
   "metadata": {},
   "outputs": [],
   "source": []
  },
  {
   "cell_type": "code",
   "execution_count": 50,
   "id": "e44ddbba",
   "metadata": {},
   "outputs": [
    {
     "name": "stdout",
     "output_type": "stream",
     "text": [
      "AssertionError \n"
     ]
    }
   ],
   "source": [
    "\"\"\"\n",
    "3. Create an assert statement that throws an AssertionError every time.\n",
    "\n",
    "\"\"\"\n",
    "\n",
    "n = 0\n",
    "c = 10\n",
    "try:\n",
    "    assert n > 10\n",
    "    n = n + 1\n",
    "except AssertionError as e:\n",
    "    print(\"AssertionError\",e)\n",
    "    \n",
    "\n"
   ]
  },
  {
   "cell_type": "code",
   "execution_count": null,
   "id": "0857eda9",
   "metadata": {},
   "outputs": [],
   "source": []
  },
  {
   "cell_type": "code",
   "execution_count": null,
   "id": "50eb12c3",
   "metadata": {},
   "outputs": [],
   "source": [
    "\"\"\"\n",
    "4. What are the two lines that must be present in your software in order to call logging.debug()?\n",
    "\n",
    "Answer:\n",
    "\n",
    "import logging as lg\n",
    "lg.basicConfig(filename = 'app4.log',level=lg.DEBUG, format='%(asctime)s %(name)s %(levelname)s %(message)s')\n",
    "lg.debug(\"This is message for debug\")\n",
    "\n",
    "\"\"\""
   ]
  },
  {
   "cell_type": "code",
   "execution_count": null,
   "id": "1666f392",
   "metadata": {},
   "outputs": [],
   "source": [
    "\"\"\"\n",
    "5. What are the two lines that your program must have in order to have logging.debug() send a logging message to a file named programLog.txt?\n",
    "\n",
    "Answer:\n",
    "import logging as lg\n",
    "lg.basicConfig(filename = 'programLog.txt',level=lg.DEBUG, format='%(asctime)s %(name)s %(levelname)s %(message)s')\n",
    "lg.debug(\"This is message for debug\")\n",
    "\"\"\""
   ]
  },
  {
   "cell_type": "code",
   "execution_count": null,
   "id": "dfb8fcf9",
   "metadata": {},
   "outputs": [],
   "source": [
    "\"\"\"\n",
    "6. What are the five levels of logging?\n",
    "\n",
    "Answer:\n",
    "\n",
    "1. Info\n",
    "2. Debug\n",
    "3. Error\n",
    "4. Warning\n",
    "5. Critical\n",
    "\n",
    "\"\"\""
   ]
  },
  {
   "cell_type": "code",
   "execution_count": null,
   "id": "46b2dbf7",
   "metadata": {},
   "outputs": [],
   "source": [
    "\"\"\"\n",
    "7. What line of code would you add to your software to disable all logging messages?\n",
    "\n",
    "Answer:\n",
    "\n",
    "logger.disable()\n",
    "\n",
    "or\n",
    "logger.shutdown()\n",
    "\n",
    "\"\"\""
   ]
  },
  {
   "cell_type": "code",
   "execution_count": null,
   "id": "2e4febe9",
   "metadata": {},
   "outputs": [],
   "source": [
    "\"\"\"\n",
    "8.Why is using logging messages better than using print() to display the same message?\n",
    "\n",
    "Answer:\n",
    "\n",
    "using logging we can capture the logs in file with different log levels(debug,error, critical,info,warning).\n",
    "So that user will get more idea about the program code exection.\n",
    "and Logger give us exect error message of system, code but print can't give exect error message, print will give hardcore error message.\n",
    "\"\"\""
   ]
  },
  {
   "cell_type": "code",
   "execution_count": null,
   "id": "af23b47d",
   "metadata": {},
   "outputs": [],
   "source": [
    "\"\"\"\n",
    "9. What are the differences between the Step Over, Step In, and Step Out buttons in the debugger?\n",
    "\n",
    "Answer:\n",
    "Step Over: When the next statement to execute reaches a method call, execute the method as a whole and stop\n",
    "Step In : When the next statement to execute reaches a method call, dont execute the method as a whole, but rather, execute the first line of that method and stop\n",
    "Step Out: Finish off executing the callee's code and stop when execution returns to the caller\n",
    "\"\"\""
   ]
  },
  {
   "cell_type": "code",
   "execution_count": null,
   "id": "472407c1",
   "metadata": {},
   "outputs": [],
   "source": [
    "\"\"\"\n",
    "10.After you click Continue, when will the debugger stop ?\n",
    "\n",
    "Answer:\n",
    "\n",
    "Once it complete it's all execution\n",
    "\"\"\""
   ]
  },
  {
   "cell_type": "code",
   "execution_count": 52,
   "id": "7457bd5b",
   "metadata": {},
   "outputs": [],
   "source": [
    "import ipdb\n",
    "def testdebug():\n",
    "    ipdb.set_trace()\n",
    "    l = []\n",
    "    for i in range(1,4):\n",
    "        l.append(i)\n",
    "        print(\"We have appened your data in list\",i)\n",
    "    return l"
   ]
  },
  {
   "cell_type": "code",
   "execution_count": 53,
   "id": "b52f60ae",
   "metadata": {},
   "outputs": [
    {
     "name": "stdout",
     "output_type": "stream",
     "text": [
      "> \u001b[1;32mc:\\users\\delll\\appdata\\local\\temp\\ipykernel_4156\\1542429649.py\u001b[0m(4)\u001b[0;36mtestdebug\u001b[1;34m()\u001b[0m\n",
      "\n",
      "ipdb> c\n",
      "We have appened your data in list 1\n",
      "We have appened your data in list 2\n",
      "We have appened your data in list 3\n"
     ]
    },
    {
     "data": {
      "text/plain": [
       "[1, 2, 3]"
      ]
     },
     "execution_count": 53,
     "metadata": {},
     "output_type": "execute_result"
    }
   ],
   "source": [
    "testdebug()"
   ]
  },
  {
   "cell_type": "code",
   "execution_count": null,
   "id": "921db276",
   "metadata": {},
   "outputs": [],
   "source": [
    "\"\"\"\n",
    "11. What is the concept of a breakpoint?\n",
    "\n",
    "Answer:\n",
    "\n",
    "A breakpoint is one way to pause the program being debugged. \n",
    "The programmer tells the debugger ‘pause when you get to this line of code’ by setting a breakpoint on that line. \n",
    "Breakpoints can also be conditional - ‘pause at this line of code if the value of X is more than 10’.\n",
    "\n",
    "\"\"\""
   ]
  },
  {
   "cell_type": "code",
   "execution_count": null,
   "id": "61e33459",
   "metadata": {},
   "outputs": [],
   "source": []
  }
 ],
 "metadata": {
  "kernelspec": {
   "display_name": "Python 3 (ipykernel)",
   "language": "python",
   "name": "python3"
  },
  "language_info": {
   "codemirror_mode": {
    "name": "ipython",
    "version": 3
   },
   "file_extension": ".py",
   "mimetype": "text/x-python",
   "name": "python",
   "nbconvert_exporter": "python",
   "pygments_lexer": "ipython3",
   "version": "3.9.7"
  }
 },
 "nbformat": 4,
 "nbformat_minor": 5
}
