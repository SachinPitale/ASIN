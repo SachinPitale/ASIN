{
 "cells": [
  {
   "cell_type": "markdown",
   "id": "c4cdb49d",
   "metadata": {},
   "source": [
    "# Assignment 25"
   ]
  },
  {
   "cell_type": "markdown",
   "id": "839ae2b4",
   "metadata": {},
   "source": [
    "#### 1) . What is the difference between enclosing a list comprehension in square brackets and parentheses?"
   ]
  },
  {
   "cell_type": "markdown",
   "id": "f754018a",
   "metadata": {},
   "source": [
    "**Ans**: Enclosing a list comprehension in squre brackets returns a list but where as enclosing list comprehension in parenthess returns a genetor object"
   ]
  },
  {
   "cell_type": "code",
   "execution_count": 3,
   "id": "d02aac91",
   "metadata": {},
   "outputs": [
    {
     "name": "stdout",
     "output_type": "stream",
     "text": [
      "[0, 1, 2, 3, 4, 5, 6, 7, 8, 9] <class 'list'>\n",
      "<generator object <genexpr> at 0x000001F851A357B0> <class 'generator'>\n"
     ]
    }
   ],
   "source": [
    "l1 = [ i for i in range(10)]\n",
    "print(l1, type(l1))\n",
    "l2 = (i for i in range(10))\n",
    "print(l2, type(l2))"
   ]
  },
  {
   "cell_type": "markdown",
   "id": "af880e3e",
   "metadata": {},
   "source": [
    "#### 2).What is the relationship between generators and iterators?"
   ]
  },
  {
   "cell_type": "markdown",
   "id": "f94fc18b",
   "metadata": {},
   "source": [
    "**Ans**: An `iterators` is object which contains a countable number of values and it is used to iterate over iterable objects like list, tuple sets. Iterators are implemented using a class. It follow lazy evaluation where the evaluation of the expression will be on hold and stored in the memory until the item is called specifically which helps us to avoid repeated evaluation. As lazy is implemented it requires only 1 memory location to process the value and when we are using a large dataset then, wastage of RAM space will be reduced the need to load the entire dataset at same time will not be there.\n",
    "\n",
    "`Generators` are an another way to creating iterators in a simple way where it uses the keyword `yield` statement instead of `return` statement in a defined function. Generators are implemented using a function returns the data without affecting or existing the function. It will return a sequence of data in an iterable format where we need to iterate over the seqence to use the data as they won't store the entire sequence in the memory"
   ]
  },
  {
   "cell_type": "code",
   "execution_count": 5,
   "id": "b7107190",
   "metadata": {},
   "outputs": [
    {
     "name": "stdout",
     "output_type": "stream",
     "text": [
      "<class 'list_iterator'>\n",
      "iNeuron\n",
      "Full\n",
      "Stack\n",
      "Data Science\n",
      "<list_iterator object at 0x000001F851ACAC70>\n",
      "0\n",
      "1\n",
      "8\n",
      "27\n",
      "64\n"
     ]
    }
   ],
   "source": [
    "# Example of iterartor\n",
    "iter_str = iter(['iNeuron','Full','Stack','Data Science'])\n",
    "print(type(iter_str))\n",
    "print(next(iter_str))\n",
    "print(next(iter_str))\n",
    "print(next(iter_str))\n",
    "print(next(iter_str))\n",
    "print(iter_str) # After the iterable object is completed, to use them again we have reassign them to the same object.\n",
    "\n",
    "# Example of Generator\n",
    "def cube_numbers(in_num):\n",
    "    for ele in range(in_num+1):\n",
    "        yield ele**3\n",
    "\n",
    "out_num = cube_numbers(4)\n",
    "print(next(out_num))\n",
    "print(next(out_num))\n",
    "print(next(out_num))\n",
    "print(next(out_num))\n",
    "print(next(out_num))"
   ]
  },
  {
   "cell_type": "markdown",
   "id": "bfcc40de",
   "metadata": {},
   "source": [
    "#### 3) What are the signs that a function is a generator function?"
   ]
  },
  {
   "cell_type": "markdown",
   "id": "436d2df4",
   "metadata": {},
   "source": [
    "**Ans** : A generator function uses a `yield` statement instead of a `return` statement instead of a return a object called generator. Where as a normal function can return a string/list/tuple/dict/NoneType"
   ]
  },
  {
   "cell_type": "markdown",
   "id": "b938a012",
   "metadata": {},
   "source": [
    "#### 4) What is the purpose of a yield statement?"
   ]
  },
  {
   "cell_type": "markdown",
   "id": "11bf4284",
   "metadata": {},
   "source": [
    "**Ans** : The yield statement suspends functions executions and sends a value back to the caller, but retains enough state to enable function to resume where it is left off. when resumed the function continues execution immediately after the last yield run. This allows its code to produce a series of values of values over time, rather than computing them at once and sending them back like a list. "
   ]
  },
  {
   "cell_type": "markdown",
   "id": "1fb928db",
   "metadata": {},
   "source": [
    "#### 5) What is the relationship between map calls and list comprehensions? Make a comparison and contrast between the two ?\n",
    "**Ans** :  \n",
    "1. List comprehension is more concise and easier to read as compared to map\n",
    "2. List comprehension allows filtering. In map we have no such facility. \n",
    "3. List comprehension are used when a list of results is required as final output. but map only returns a map object. It needs to be explicitly converted to desired datatype.\n",
    "4. List comprehension is faster than map when we need to evaluate expressions that are too long or complicated to express\n",
    "5. map is\n"
   ]
  },
  {
   "cell_type": "code",
   "execution_count": null,
   "id": "9c24d809",
   "metadata": {},
   "outputs": [],
   "source": []
  }
 ],
 "metadata": {
  "kernelspec": {
   "display_name": "Python 3 (ipykernel)",
   "language": "python",
   "name": "python3"
  },
  "language_info": {
   "codemirror_mode": {
    "name": "ipython",
    "version": 3
   },
   "file_extension": ".py",
   "mimetype": "text/x-python",
   "name": "python",
   "nbconvert_exporter": "python",
   "pygments_lexer": "ipython3",
   "version": "3.9.7"
  }
 },
 "nbformat": 4,
 "nbformat_minor": 5
}
