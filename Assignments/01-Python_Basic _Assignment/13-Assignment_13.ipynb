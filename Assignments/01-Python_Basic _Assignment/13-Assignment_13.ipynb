{
 "cells": [
  {
   "cell_type": "code",
   "execution_count": null,
   "id": "36f416da",
   "metadata": {},
   "outputs": [],
   "source": [
    "\"\"\"\n",
    "1. What advantages do Excel spreadsheets have over CSV spreadsheets?\n",
    "\"\"\""
   ]
  },
  {
   "cell_type": "code",
   "execution_count": null,
   "id": "aefd59e0",
   "metadata": {},
   "outputs": [],
   "source": [
    "\"\"\"\n",
    "Ans:\n",
    "Excel:\n",
    "- Excel can perform VBA Coding, functions, formulas and create summaries easily when compared to CSV.\n",
    "- Reading large data set is much easier for the end-user to read, comprehend and understand when compared to CSV.\n",
    "\n",
    "CSV:\n",
    "- CSV cannot perform VBA Coding, functions, formulas and create summaries easily when compared to Excel.\n",
    "- Reading large data set is much complicated for the end-user to read, comprehend and understand when compared to Excel.\n",
    "\"\"\""
   ]
  },
  {
   "cell_type": "code",
   "execution_count": null,
   "id": "ccefaab3",
   "metadata": {},
   "outputs": [],
   "source": []
  },
  {
   "cell_type": "code",
   "execution_count": null,
   "id": "fcb2c9d3",
   "metadata": {},
   "outputs": [],
   "source": [
    "\"\"\"\n",
    "2.What do you pass to csv.reader() and csv.writer() to create reader and writer objects?\n",
    "\n",
    "\"\"\""
   ]
  },
  {
   "cell_type": "code",
   "execution_count": null,
   "id": "d23ca862",
   "metadata": {},
   "outputs": [],
   "source": [
    "\"\"\"\n",
    "Ans:\n",
    "CSV reader:\n",
    "import csv\n",
    "file = open('test.csv')\n",
    "csv.reader(file)\n",
    "\n",
    "CSV Writer:\n",
    "import csv\n",
    "file = open('test.csv' ,'w', newline='')\n",
    "csv.writer(file)\n",
    "\"\"\""
   ]
  },
  {
   "cell_type": "code",
   "execution_count": null,
   "id": "b5e079d1",
   "metadata": {},
   "outputs": [],
   "source": []
  },
  {
   "cell_type": "code",
   "execution_count": null,
   "id": "0f71b931",
   "metadata": {},
   "outputs": [],
   "source": [
    "\"\"\"\n",
    "3. What modes do File objects for reader and writer objects need to be opened in?\n",
    "\n",
    "\"\"\""
   ]
  },
  {
   "cell_type": "code",
   "execution_count": null,
   "id": "a11f4ee1",
   "metadata": {},
   "outputs": [],
   "source": [
    "\"\"\"\n",
    "To read file: we need to user csv.reader() function\n",
    "To write file:  we need to user csv.writer() function\n",
    "\"\"\""
   ]
  },
  {
   "cell_type": "code",
   "execution_count": null,
   "id": "a2052340",
   "metadata": {},
   "outputs": [],
   "source": [
    "\"\"\"\n",
    "4. What method takes a list argument and writes it to a CSV file?\n",
    "\n",
    "\"\"\""
   ]
  },
  {
   "cell_type": "code",
   "execution_count": null,
   "id": "fe570691",
   "metadata": {},
   "outputs": [],
   "source": [
    "\"\"\"\n",
    "Ans:\n",
    "95\n",
    "\n",
    "The csv.writer writerow method takes an iterable as an argument. Your result set has to be a list (rows) of lists (columns).\n",
    "\n",
    "\n",
    "\"\"\""
   ]
  },
  {
   "cell_type": "code",
   "execution_count": null,
   "id": "1ae0ad87",
   "metadata": {},
   "outputs": [],
   "source": [
    "\"\"\"\n",
    "5. What do the keyword arguments delimiter and line terminator do?\n",
    "\n",
    "\"\"\""
   ]
  },
  {
   "cell_type": "code",
   "execution_count": null,
   "id": "ff7a54cd",
   "metadata": {},
   "outputs": [],
   "source": [
    "\"\"\"\n",
    "Ans:\n",
    "\n",
    "Passing delimeter='\\t' and lineterminator='\\n\\n' ❶ changes the character\n",
    "\"\"\""
   ]
  },
  {
   "cell_type": "code",
   "execution_count": null,
   "id": "db5e14f8",
   "metadata": {},
   "outputs": [],
   "source": [
    "\"\"\"\n",
    "6. What function takes a string of JSON data and returns a Python data structure?\n",
    "\n",
    "\n",
    "\"\"\""
   ]
  },
  {
   "cell_type": "code",
   "execution_count": null,
   "id": "5aca1b2f",
   "metadata": {},
   "outputs": [],
   "source": [
    "\"\"\"\n",
    "Ans:\n",
    "json.dumps(data)\n",
    "\n",
    "\"\"\""
   ]
  },
  {
   "cell_type": "code",
   "execution_count": null,
   "id": "77ad6411",
   "metadata": {},
   "outputs": [],
   "source": [
    "\"\"\"\n",
    "7. What function takes a Python data structure and returns a string of JSON data?\n",
    "\n",
    "\n",
    "\"\"\""
   ]
  },
  {
   "cell_type": "code",
   "execution_count": null,
   "id": "60addf70",
   "metadata": {},
   "outputs": [],
   "source": [
    "\"\"\"\n",
    "Ans:\n",
    "json.loads\n",
    "\"\"\""
   ]
  }
 ],
 "metadata": {
  "kernelspec": {
   "display_name": "Python 3 (ipykernel)",
   "language": "python",
   "name": "python3"
  },
  "language_info": {
   "codemirror_mode": {
    "name": "ipython",
    "version": 3
   },
   "file_extension": ".py",
   "mimetype": "text/x-python",
   "name": "python",
   "nbconvert_exporter": "python",
   "pygments_lexer": "ipython3",
   "version": "3.9.7"
  }
 },
 "nbformat": 4,
 "nbformat_minor": 5
}
