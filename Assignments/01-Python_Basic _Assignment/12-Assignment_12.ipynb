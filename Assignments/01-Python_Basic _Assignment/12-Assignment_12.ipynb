{
 "cells": [
  {
   "cell_type": "code",
   "execution_count": null,
   "id": "4492400d",
   "metadata": {},
   "outputs": [],
   "source": [
    "\"\"\"\n",
    "1. In what modes should the PdfFileReader() and PdfFileWriter() File objects will be opened?\n",
    "\"\"\""
   ]
  },
  {
   "cell_type": "code",
   "execution_count": null,
   "id": "24c17d85",
   "metadata": {},
   "outputs": [],
   "source": [
    "\"\"\"\n",
    "Ans:\n",
    "PdfFileReader() needs to be opened in read-binary mode by passing 'rb'\n",
    "PdfFileWriter() needs to be opened in write-binary mode with 'wb'.\n",
    "\n",
    "\"\"\""
   ]
  },
  {
   "cell_type": "code",
   "execution_count": null,
   "id": "6ecaa58a",
   "metadata": {},
   "outputs": [],
   "source": [
    "\"\"\"\n",
    "2. From a PdfFileReader object, how do you get a Page object for page 5?\n",
    "\"\"\""
   ]
  },
  {
   "cell_type": "code",
   "execution_count": null,
   "id": "d1a5181b",
   "metadata": {},
   "outputs": [],
   "source": [
    "\"\"\"\n",
    "Ans:\n",
    "We can get a Page object by calling the getPage() method\n",
    "\"\"\""
   ]
  },
  {
   "cell_type": "code",
   "execution_count": null,
   "id": "feafdf7b",
   "metadata": {},
   "outputs": [],
   "source": [
    "\"\"\"\n",
    "3. What PdfFileReader variable stores the number of pages in the PDF document?\n",
    "\"\"\""
   ]
  },
  {
   "cell_type": "code",
   "execution_count": null,
   "id": "4608e8a7",
   "metadata": {},
   "outputs": [],
   "source": [
    "\"\"\"\n",
    "Ans:\n",
    "The total number of pages in the document is stored in the numPages attribute of a PdfFileReader object\n",
    "\"\"\""
   ]
  },
  {
   "cell_type": "code",
   "execution_count": null,
   "id": "0904e6d6",
   "metadata": {},
   "outputs": [],
   "source": [
    "\"\"\"\n",
    "4. If a PdfFileReader object’s PDF is encrypted with the password swordfish, what must you do before you can obtain Page objects from it?\n",
    "\"\"\""
   ]
  },
  {
   "cell_type": "code",
   "execution_count": null,
   "id": "12e8fb9b",
   "metadata": {},
   "outputs": [],
   "source": [
    "\"\"\"\n",
    "Ans:\n",
    "We will use following command\n",
    "\n",
    "pdfReader.decrypt('swordfish')\n",
    "\n",
    "\"\"\""
   ]
  },
  {
   "cell_type": "code",
   "execution_count": null,
   "id": "4f68e9ce",
   "metadata": {},
   "outputs": [],
   "source": [
    "\"\"\"\n",
    "5. What methods do you use to rotate a page?\n",
    "\n",
    "\"\"\""
   ]
  },
  {
   "cell_type": "code",
   "execution_count": null,
   "id": "b8bb3d51",
   "metadata": {},
   "outputs": [],
   "source": [
    "\"\"\"\n",
    "Ans:\n",
    "write() method of the PdfFileWriter is used to produce the rotated PDF file\n",
    "\"\"\""
   ]
  },
  {
   "cell_type": "code",
   "execution_count": null,
   "id": "bd22b067",
   "metadata": {},
   "outputs": [],
   "source": [
    "\"\"\"\n",
    "\n",
    "6. What is the difference between a Run object and a Paragraph object?\n",
    "\"\"\""
   ]
  },
  {
   "cell_type": "code",
   "execution_count": null,
   "id": "729d5ae3",
   "metadata": {},
   "outputs": [],
   "source": [
    "\"\"\"\n",
    "Ans:\n",
    "Run object : It used Proxy object wrapping <w:r> element.\n",
    "Paragraph object: It used Proxy object wrapping <w:p> element.\n",
    "\n",
    "\"\"\""
   ]
  },
  {
   "cell_type": "code",
   "execution_count": null,
   "id": "6fbc4fa3",
   "metadata": {},
   "outputs": [],
   "source": [
    "\"\"\"\n",
    "7. How do you obtain a list of Paragraph objects for a Document object that’s stored in a variable named doc?\n",
    "\n",
    "\"\"\""
   ]
  },
  {
   "cell_type": "code",
   "execution_count": null,
   "id": "5a0872fd",
   "metadata": {},
   "outputs": [],
   "source": [
    "\"\"\"\n",
    "Word documents contain formatted text wrapped within three object levels. The Lowest level- run objects, middle level- paragraph objects,\n",
    "\n",
    "\"\"\""
   ]
  },
  {
   "cell_type": "code",
   "execution_count": null,
   "id": "b8b5c07d",
   "metadata": {},
   "outputs": [],
   "source": [
    "\"\"\"\n",
    "8. What type of object has bold, underline, italic, strike, and outline variables?\n",
    "\"\"\""
   ]
  },
  {
   "cell_type": "code",
   "execution_count": null,
   "id": "35395f7b",
   "metadata": {},
   "outputs": [],
   "source": [
    "\"\"\"\n",
    "Ans:\n",
    "The write() method takes a regular File object that has been opened in bold, underline, italic, strike, and outline\n",
    "\"\"\""
   ]
  },
  {
   "cell_type": "code",
   "execution_count": null,
   "id": "3bc16bf6",
   "metadata": {},
   "outputs": [],
   "source": [
    "\"\"\"\n",
    "9. What is the difference between False, True, and None for the bold variable?\n",
    "\n",
    "\"\"\""
   ]
  },
  {
   "cell_type": "code",
   "execution_count": null,
   "id": "28f987d7",
   "metadata": {},
   "outputs": [],
   "source": [
    "\"\"\"\n",
    "bold = True -> It will print the message in bold format\n",
    "bold = False -> It will not print the message in bold format\n",
    "bold = None -> The element is not present. The effective value is inherited from the style hierarchy. If no value for this property is present in the style hierarchy, the effective value is off.\n",
    "\"\"\""
   ]
  },
  {
   "cell_type": "code",
   "execution_count": null,
   "id": "5f7d94e5",
   "metadata": {},
   "outputs": [],
   "source": [
    "\"\"\"\n",
    "10. How do you create a Document object for a new Word document?\n",
    "\"\"\""
   ]
  },
  {
   "cell_type": "code",
   "execution_count": null,
   "id": "ea94d0f7",
   "metadata": {},
   "outputs": [],
   "source": [
    "\"\"\"\n",
    "Ans:\n",
    "import docx\n",
    "doc = docx.Document()\n",
    "\n",
    "\"\"\""
   ]
  },
  {
   "cell_type": "code",
   "execution_count": null,
   "id": "b9980e48",
   "metadata": {},
   "outputs": [],
   "source": [
    "\"\"\"\n",
    "11. How do you add a paragraph with the text 'Hello, there!' to a Document object stored in a variable named doc?\n",
    "\"\"\""
   ]
  },
  {
   "cell_type": "code",
   "execution_count": null,
   "id": "e092b99e",
   "metadata": {},
   "outputs": [],
   "source": [
    "\"\"\"\n",
    "Ans:\n",
    "import docx\n",
    "doc = docx.Document()\n",
    "doc.add_heading('Heading for the document', 0)\n",
    "doc_para = doc.add_paragraph('Your paragraph goes here, ')\n",
    "doc.save('path_to_document')\n",
    "\n",
    "\"\"\""
   ]
  },
  {
   "cell_type": "code",
   "execution_count": null,
   "id": "249ecf67",
   "metadata": {},
   "outputs": [],
   "source": [
    "\"\"\"\n",
    "12. What integers represent the levels of headings available in Word documents?\n",
    "\"\"\""
   ]
  },
  {
   "cell_type": "code",
   "execution_count": null,
   "id": "d1b5aba0",
   "metadata": {},
   "outputs": [],
   "source": [
    "\"\"\"\n",
    "Ans:\n",
    "Heading level 1 -> Heading level 9\n",
    "Heading level 1 is higher size\n",
    "Heading level 9 is smaller size\n",
    "\"\"\""
   ]
  },
  {
   "cell_type": "code",
   "execution_count": null,
   "id": "ee6bd13e",
   "metadata": {},
   "outputs": [],
   "source": []
  },
  {
   "cell_type": "code",
   "execution_count": null,
   "id": "65594f23",
   "metadata": {},
   "outputs": [],
   "source": []
  }
 ],
 "metadata": {
  "kernelspec": {
   "display_name": "Python 3 (ipykernel)",
   "language": "python",
   "name": "python3"
  },
  "language_info": {
   "codemirror_mode": {
    "name": "ipython",
    "version": 3
   },
   "file_extension": ".py",
   "mimetype": "text/x-python",
   "name": "python",
   "nbconvert_exporter": "python",
   "pygments_lexer": "ipython3",
   "version": "3.9.7"
  }
 },
 "nbformat": 4,
 "nbformat_minor": 5
}
