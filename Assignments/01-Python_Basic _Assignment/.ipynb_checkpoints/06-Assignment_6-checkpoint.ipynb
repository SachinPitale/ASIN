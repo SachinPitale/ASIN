{
 "cells": [
  {
   "cell_type": "code",
   "execution_count": null,
   "id": "cfa4e4e2",
   "metadata": {},
   "outputs": [],
   "source": [
    "\"\"\"\n",
    "1. What are escape characters, and how do you use them?\n",
    "\n",
    "Answer: \n",
    "1. \\' => Single code\n",
    "2. \\\\ => blackslash\n",
    "3. \\n => new line\n",
    "4. \\r => carriage Return\n",
    "5. \\t => tab\n",
    "6. \\b => backspace\n",
    "7. \\f => Form feed\n",
    "8. \\ooo => Octal Value\n",
    "9. \\xhh => Hex Value\n",
    "\n",
    "\"\"\""
   ]
  },
  {
   "cell_type": "code",
   "execution_count": null,
   "id": "3e663c09",
   "metadata": {},
   "outputs": [],
   "source": [
    "\"\"\"\n",
    "\n",
    "2. What do the escape characters n and t stand for?\n",
    "\n",
    "Answer:\n",
    "\n",
    "1. \\n => new line\n",
    "2. \\t => tab\n",
    "\n",
    "\n",
    "\"\"\""
   ]
  },
  {
   "cell_type": "code",
   "execution_count": null,
   "id": "1f5068b9",
   "metadata": {},
   "outputs": [],
   "source": [
    "\"\"\"\n",
    "3. What is the way to include backslash characters in a string?\n",
    "\n",
    "Answer:\n",
    "\n",
    "a = \"sac'\\\\'hin\"\n",
    "print(a)\n",
    "\"\"\"\n",
    "\n",
    "a = \"sac'\\\\'hin\"\n",
    "print(a)"
   ]
  },
  {
   "cell_type": "code",
   "execution_count": null,
   "id": "b8f89219",
   "metadata": {},
   "outputs": [],
   "source": [
    "\"\"\"\n",
    "4. The string \"Howl's Moving Castle\" is a correct value. Why isn't the single quote character in the word Howl's not escaped a problem?\n",
    "Answer:\n",
    "Because the whole string is encapsulated by quotes\n",
    "\"\"\""
   ]
  },
  {
   "cell_type": "code",
   "execution_count": 21,
   "id": "d240b588",
   "metadata": {},
   "outputs": [],
   "source": [
    "\"\"\"\n",
    "5. How do you write a string of newlines if you don't want to use the n character?\n",
    "\n",
    "Answer:\n",
    "use the triple quotes \n",
    "\"\"\"\n",
    "\n",
    "\"\"\"\n",
    "\n",
    "\"\"\"\n",
    "# example\n",
    "\n",
    "a = \"\"\"\n",
    "It's python programming,\n",
    "Which i am learning for ds\n",
    "I am enjoying the programming\n",
    "\"\"\""
   ]
  },
  {
   "cell_type": "code",
   "execution_count": 22,
   "id": "854352a6",
   "metadata": {},
   "outputs": [
    {
     "name": "stdout",
     "output_type": "stream",
     "text": [
      "\n",
      "It's python programming,\n",
      "Which i am learning for ds\n",
      "I am enjoying the programming\n",
      "\n"
     ]
    }
   ],
   "source": [
    "print(a)"
   ]
  },
  {
   "cell_type": "code",
   "execution_count": null,
   "id": "4c91ee31",
   "metadata": {},
   "outputs": [],
   "source": [
    "\"\"\"\n",
    "6. What are the values of the given expressions?\n",
    "'Hello, world!'[1]\n",
    "'Hello, world!'[0:5]\n",
    "'Hello, world!'[:5]\n",
    "'Hello, world!'[3:]\n",
    "\n",
    "Answer \n",
    " expressions               value\n",
    "'Hello, world!'[1]   =>    e\n",
    "'Hello, world!'[0:5] =>    Hello\n",
    "'Hello, world!'[:5]  =>    Hello\n",
    "'Hello, world!'[3:]  =>    lo, world!\n",
    "\n",
    "\"\"\"\n",
    "\n",
    "print('Hello, world!'[1])\n",
    "print('Hello, world!'[0:5])\n",
    "print('Hello, world!'[:5])\n",
    "print('Hello, world!'[3:])"
   ]
  },
  {
   "cell_type": "code",
   "execution_count": 6,
   "id": "18a5bcc6",
   "metadata": {},
   "outputs": [
    {
     "name": "stdout",
     "output_type": "stream",
     "text": [
      "HELLO\n",
      "True\n",
      "hello\n"
     ]
    }
   ],
   "source": [
    "\"\"\"\n",
    "\n",
    "7. What are the values of the following expressions?\n",
    "'Hello'.upper()\n",
    "'Hello'.upper().isupper()\n",
    "'Hello'.upper().lower()\n",
    "\n",
    "Answer:\n",
    "expressions                   values\n",
    "'Hello'.upper()           =>  HELLO\n",
    "'Hello'.upper().isupper() =>  True\n",
    "'Hello'.upper().lower()   =>  hello\n",
    "\n",
    "\"\"\"\n",
    "\n",
    "print('Hello'.upper())\n",
    "print('Hello'.upper().isupper())\n",
    "print('Hello'.upper().lower())"
   ]
  },
  {
   "cell_type": "code",
   "execution_count": null,
   "id": "6b65c8f3",
   "metadata": {},
   "outputs": [],
   "source": []
  },
  {
   "cell_type": "code",
   "execution_count": 11,
   "id": "543ef116",
   "metadata": {},
   "outputs": [
    {
     "name": "stdout",
     "output_type": "stream",
     "text": [
      "['Remember,', 'remember,', 'the', 'fifth', 'of', 'July.']\n",
      "There-can-only-one.\n"
     ]
    }
   ],
   "source": [
    "\"\"\"\n",
    "8. What are the values of the following expressions?\n",
    "'Remember, remember, the fifth of July.'.split()\n",
    "'-'.join('There can only one.'.split())\n",
    "\n",
    "Answer:\n",
    "\n",
    "1. It will add all the element in list\n",
    "2. It will join each element by '-'\n",
    "\"\"\"\n",
    "# Answer:\n",
    "#1\n",
    "print('Remember, remember, the fifth of July.'.split())\n",
    "#2.\n",
    "print('-'.join('There can only one.'.split()))\n",
    "\n"
   ]
  },
  {
   "cell_type": "code",
   "execution_count": null,
   "id": "49096708",
   "metadata": {},
   "outputs": [],
   "source": []
  },
  {
   "cell_type": "code",
   "execution_count": 18,
   "id": "e9c808f0",
   "metadata": {},
   "outputs": [
    {
     "name": "stdout",
     "output_type": "stream",
     "text": [
      "remove right space of string =>   this is string\n",
      "remove left space of string =>  this is string  \n",
      "remove space left and right side of string =>  this is string\n"
     ]
    }
   ],
   "source": [
    "\"\"\"\n",
    "9. What are the methods for right-justifying, left-justifying, and centering a string?\n",
    "\n",
    "Answer\n",
    "right => rstrip()\n",
    "left => lstrip()\n",
    "center => strip() \n",
    "\n",
    "\"\"\"\n",
    "\n",
    "#Answer\n",
    "\n",
    "a =\" this is string  \"\n",
    "\n",
    "#right justing\n",
    "print(\"remove right space of string => \" , a.rstrip())\n",
    "\n",
    "#left-justifying\n",
    "print(\"remove left space of string => \", a.lstrip())\n",
    "\n",
    "#center\n",
    "print(\"remove space left and right side of string => \",a.strip())"
   ]
  },
  {
   "cell_type": "code",
   "execution_count": null,
   "id": "07f4e710",
   "metadata": {},
   "outputs": [],
   "source": [
    "\"\"\"\n",
    "10. What is the best way to remove whitespace characters from the start or end?\n",
    "\n",
    "Answer:\n",
    "\n",
    "strip(), rstrip(), and lstrip()\n",
    "\n",
    "\"\"\""
   ]
  }
 ],
 "metadata": {
  "kernelspec": {
   "display_name": "Python 3 (ipykernel)",
   "language": "python",
   "name": "python3"
  },
  "language_info": {
   "codemirror_mode": {
    "name": "ipython",
    "version": 3
   },
   "file_extension": ".py",
   "mimetype": "text/x-python",
   "name": "python",
   "nbconvert_exporter": "python",
   "pygments_lexer": "ipython3",
   "version": "3.9.7"
  }
 },
 "nbformat": 4,
 "nbformat_minor": 5
}
