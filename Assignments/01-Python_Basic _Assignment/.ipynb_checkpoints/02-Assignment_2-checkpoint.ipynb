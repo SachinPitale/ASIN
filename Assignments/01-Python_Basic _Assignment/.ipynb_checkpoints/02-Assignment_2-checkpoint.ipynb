{
 "cells": [
  {
   "cell_type": "code",
   "execution_count": null,
   "id": "6230938d",
   "metadata": {},
   "outputs": [],
   "source": [
    "\"\"\"\n",
    "1.What are the two values of the Boolean data type? How do you write them?\n",
    "\n",
    "Answer:\n",
    "\n",
    "Boolen data type support True and False values.\n",
    "\n",
    "a = True\n",
    "type(a)\n",
    "b = False\n",
    "type(b)\n",
    "\"\"\"\n",
    "a = True\n",
    "type(a)"
   ]
  },
  {
   "cell_type": "code",
   "execution_count": null,
   "id": "2616602c",
   "metadata": {},
   "outputs": [],
   "source": [
    "b = False\n",
    "type(b)"
   ]
  },
  {
   "cell_type": "code",
   "execution_count": null,
   "id": "c1ce0e53",
   "metadata": {},
   "outputs": [],
   "source": []
  },
  {
   "cell_type": "code",
   "execution_count": null,
   "id": "c7691621",
   "metadata": {},
   "outputs": [],
   "source": [
    "\"\"\"\n",
    "2. What are the three different types of Boolean operators?\n",
    "\n",
    "Answer:\n",
    "\n",
    "1. and: It will check both conditions are true or not. If both the conditions are true then it will go to next block\n",
    "    ex:\n",
    "    if 10 < 15 and  5 == 5:\n",
    "2. or:  It will check one condition is true or not. If one  condition is  ture then it will go to next block\n",
    "    ex:\n",
    "    if 5 > 2 or 6 > 2:\n",
    "    \n",
    "2. not:  exclude words from your search\n",
    "    ex:\n",
    "    if not os.path.listfile(\"abc.txt\")\n",
    "\n",
    "\"\"\""
   ]
  },
  {
   "cell_type": "code",
   "execution_count": null,
   "id": "7fe3e68e",
   "metadata": {},
   "outputs": [],
   "source": []
  },
  {
   "cell_type": "code",
   "execution_count": null,
   "id": "ece98d42",
   "metadata": {},
   "outputs": [],
   "source": [
    "\"\"\"\n",
    "3. Make a list of each Boolean operator's truth tables (i.e. every possible combination of Boolean values for the operator and what it evaluate ).\n",
    "\n",
    "Answer:\n",
    "\n",
    "Condtion_1(ex:a)  condtion_2(ex: b)   Not(ex: not a)   and(ex: a and b)   or(ex a or b)\n",
    "false             false               true             false              false\n",
    "false             true                true             false              true\n",
    "true              false               false            false              true\n",
    "true              true                false            true               true\n",
    "\n",
    "\"\"\"b"
   ]
  },
  {
   "cell_type": "code",
   "execution_count": null,
   "id": "9fc6802b",
   "metadata": {},
   "outputs": [],
   "source": []
  },
  {
   "cell_type": "code",
   "execution_count": null,
   "id": "4870e650",
   "metadata": {},
   "outputs": [],
   "source": [
    "\"\"\"\n",
    "4. What are the values of the following expressions?\n",
    "(5 > 4) and (3 == 5)\n",
    "not (5 > 4)\n",
    "(5 > 4) or (3 == 5)\n",
    "not ((5 > 4) or (3 == 5))\n",
    "(True and True) and (True == False)\n",
    "(not False) or (not True)\n",
    "\n",
    "Answer \n",
    "(5 > 4) and (3 == 5)                   => False\n",
    "not (5 > 4)                            => False\n",
    "(5 > 4) or (3 == 5)                    => True\n",
    "not ((5 > 4) or (3 == 5))              => False\n",
    "(True and True) and (True == False)    => False\n",
    "(not False) or (not True)              => True\n",
    "\"\"\""
   ]
  },
  {
   "cell_type": "code",
   "execution_count": null,
   "id": "7e3292eb",
   "metadata": {},
   "outputs": [],
   "source": [
    "print((5 > 4) and (3 == 5))\n",
    "print(not (5 > 4))\n",
    "print((5 > 4) or (3 == 5))\n",
    "print(not ((5 > 4) or (3 == 5)))\n",
    "print((True and True) and (True == False))\n",
    "print((not False) or (not True))"
   ]
  },
  {
   "cell_type": "code",
   "execution_count": null,
   "id": "6dc19ff5",
   "metadata": {},
   "outputs": [],
   "source": []
  },
  {
   "cell_type": "code",
   "execution_count": null,
   "id": "61c0be1a",
   "metadata": {},
   "outputs": [],
   "source": [
    "\"\"\"\n",
    "5. What are the six comparison operators?\n",
    "\n",
    "Answer:\n",
    "1. Less than (<) : ex 2 < 4, it will return true\n",
    "2. Greater than (>) : ex 4> 2, It will return true\n",
    "3. Less than or equal to (<=): ex  4 <= 4   -> true\n",
    "4. Greater than or equal to (>=) : 4 >= 4   -> true\n",
    "5. Equal to (===) :ex 5 == 5 -> true\n",
    "6. Not equal to (!==) : ex 5 != 4 -> true\n",
    "\"\"\""
   ]
  },
  {
   "cell_type": "code",
   "execution_count": null,
   "id": "908636b6",
   "metadata": {},
   "outputs": [],
   "source": []
  },
  {
   "cell_type": "code",
   "execution_count": null,
   "id": "602bbf54",
   "metadata": {},
   "outputs": [],
   "source": [
    "\"\"\"\n",
    "6. How do you tell the difference between the equal to and assignment operators?Describe a condition and when you would use one.\n",
    "\n",
    "Answer:\n",
    "\n",
    "Assignement Opertator is use for to assign value to variable.\n",
    "equal to operator is use for comparison like(int,string,list,etc) \n",
    "\"\"\"\n",
    "#example\n",
    "# equal to operator\n",
    "print(5==5)\n",
    "print(5==4)\n",
    "\n",
    "# assignment operator\n",
    "a = 'DS'\n",
    "b = 48\n",
    "print(a,b)"
   ]
  },
  {
   "cell_type": "code",
   "execution_count": null,
   "id": "608eadcb",
   "metadata": {},
   "outputs": [],
   "source": []
  },
  {
   "cell_type": "code",
   "execution_count": null,
   "id": "6db6eea6",
   "metadata": {},
   "outputs": [],
   "source": [
    "\"\"\"\n",
    "7. Identify the three blocks in this code:\n",
    "spam = 0\n",
    "if spam == 10:\n",
    "print('eggs')\n",
    "if spam > 5:\n",
    "print('bacon')\n",
    "else:\n",
    "print('ham')\n",
    "print('spam')\n",
    "print('spam')\n",
    "\n",
    "\n",
    "Answer:\n",
    "\n",
    "First block:\n",
    "    if spam == 10:\n",
    "      print('eggs')\n",
    "    \n",
    "Second Block:\n",
    "   if spam > 5:\n",
    "     print('bacon')\n",
    "\n",
    "Third Block:\n",
    "   else:\n",
    "     print('ham')\n",
    "     print('spam')\n",
    "     print('spam')\n",
    "\n",
    "\n",
    "\n",
    "\"\"\""
   ]
  },
  {
   "cell_type": "code",
   "execution_count": 16,
   "id": "c6b7f778",
   "metadata": {},
   "outputs": [
    {
     "name": "stdout",
     "output_type": "stream",
     "text": [
      "Enter your spam value:  1\n",
      "Hello\n"
     ]
    }
   ],
   "source": [
    "\"\"\"\n",
    "8. Write code that prints Hello if 1 is stored in spam, prints Howdy if 2 is stored in spam, and prints Greetings! if anything else is stored in spam.\n",
    "\"\"\"\n",
    "# Answer:\n",
    "\n",
    "try:\n",
    "    spam = int(input(\"Enter your spam value:  \"))\n",
    "except Exception as e:\n",
    "    print (e)\n",
    "    print(\"pass only integer as parameter\")\n",
    "else:\n",
    "    if spam == 1:\n",
    "        print('Hello')\n",
    "    elif spam == 2:\n",
    "        print('Howday')\n",
    "    else:\n",
    "        print('Greetings')"
   ]
  }
 ],
 "metadata": {
  "kernelspec": {
   "display_name": "Python 3 (ipykernel)",
   "language": "python",
   "name": "python3"
  },
  "language_info": {
   "codemirror_mode": {
    "name": "ipython",
    "version": 3
   },
   "file_extension": ".py",
   "mimetype": "text/x-python",
   "name": "python",
   "nbconvert_exporter": "python",
   "pygments_lexer": "ipython3",
   "version": "3.9.7"
  }
 },
 "nbformat": 4,
 "nbformat_minor": 5
}
