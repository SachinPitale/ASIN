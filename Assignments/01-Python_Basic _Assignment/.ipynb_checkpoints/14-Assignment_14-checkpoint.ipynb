{
 "cells": [
  {
   "cell_type": "markdown",
   "id": "355b407d",
   "metadata": {},
   "source": [
    "# Assignment 14 Solutions"
   ]
  },
  {
   "cell_type": "markdown",
   "id": "87f52de1",
   "metadata": {},
   "source": [
    "    1. What does RGBA stand for?\n",
    "   \n",
    "       Ans: RGBA is a four-channel format containing data for Red, Green, Blue, and an Alpha value. Where Alpha Represents the Opacity"
   ]
  },
  {
   "cell_type": "markdown",
   "id": "a20204bd",
   "metadata": {},
   "source": [
    "    2. From the Pillow module, how do you get the RGBA value of any images?\n",
    "\n",
    "        Ans: ImageColor.getcolor() gives rgba value of any image"
   ]
  },
  {
   "cell_type": "code",
   "execution_count": null,
   "id": "bb8ca0ec",
   "metadata": {},
   "outputs": [],
   "source": []
  }
 ],
 "metadata": {
  "kernelspec": {
   "display_name": "Python 3 (ipykernel)",
   "language": "python",
   "name": "python3"
  },
  "language_info": {
   "codemirror_mode": {
    "name": "ipython",
    "version": 3
   },
   "file_extension": ".py",
   "mimetype": "text/x-python",
   "name": "python",
   "nbconvert_exporter": "python",
   "pygments_lexer": "ipython3",
   "version": "3.9.7"
  }
 },
 "nbformat": 4,
 "nbformat_minor": 5
}
