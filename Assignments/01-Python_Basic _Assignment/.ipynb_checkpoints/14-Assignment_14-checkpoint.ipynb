{
 "cells": [
  {
   "cell_type": "markdown",
   "id": "b4765e04",
   "metadata": {},
   "source": [
    "# Assignment 14 Solutions"
   ]
  },
  {
   "cell_type": "markdown",
   "id": "4fff6153",
   "metadata": {},
   "source": [
    "    1. What does RGBA stand for?\n",
    "       Ans: RGBA is a four-channel format containing data for Red, Green, Blue, and an Alpha value. Where Alpha Represents the Opacity"
   ]
  },
  {
   "cell_type": "markdown",
   "id": "4092032f",
   "metadata": {},
   "source": [
    "    2. From the Pillow module, how do you get the RGBA value of any images?\n",
    "        Ans: ImageColor.getcolor() gives rgba value of any image"
   ]
  }
 ],
 "metadata": {
  "kernelspec": {
   "display_name": "Python 3 (ipykernel)",
   "language": "python",
   "name": "python3"
  },
  "language_info": {
   "codemirror_mode": {
    "name": "ipython",
    "version": 3
   },
   "file_extension": ".py",
   "mimetype": "text/x-python",
   "name": "python",
   "nbconvert_exporter": "python",
   "pygments_lexer": "ipython3",
   "version": "3.9.7"
  }
 },
 "nbformat": 4,
 "nbformat_minor": 5
}
