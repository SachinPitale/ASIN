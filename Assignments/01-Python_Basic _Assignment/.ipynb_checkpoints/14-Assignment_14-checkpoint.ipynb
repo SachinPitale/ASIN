{
 "cells": [
  {
   "cell_type": "markdown",
   "id": "208f3c1e",
   "metadata": {},
   "source": [
    "# Assignment 14 "
   ]
  },
  {
   "cell_type": "markdown",
   "id": "e4c06737",
   "metadata": {},
   "source": [
    "    1. What does RGBA stand for?\n",
    "       Ans: RGBA is a four-channel format containing data for Red, Green, Blue, and an Alpha value. Where Alpha Represents the Opacity"
   ]
  },
  {
   "cell_type": "markdown",
   "id": "c9fa3c7a",
   "metadata": {},
   "source": [
    "    2. From the Pillow module, how do you get the RGBA value of any images?\n",
    "        Ans: ImageColor.getcolor() gives rgba value of any image"
   ]
  },
  {
   "cell_type": "markdown",
   "id": "cb08a401",
   "metadata": {},
   "source": [
    "    3. What is a box tuple, and how does it work?\n",
    "        Ans: A box is tuple value of four integers, the left-edge x-coordinate, the top edge y-coordinate the width and the height respectively"
   ]
  },
  {
   "cell_type": "markdown",
   "id": "5914078a",
   "metadata": {},
   "source": [
    "     4. Use your image and load in notebook then, How can you find out the width and height of an Image object?"
   ]
  },
  {
   "cell_type": "code",
   "execution_count": 13,
   "id": "50369d86",
   "metadata": {},
   "outputs": [
    {
     "name": "stdout",
     "output_type": "stream",
     "text": [
      "width, height -> 235,156\n",
      "width, height ->  (235, 156)\n",
      "widht, height -> 235,156\n"
     ]
    }
   ],
   "source": [
    "#Ans\n",
    "from PIL import Image\n",
    "pi = Image.open(\"im.jpg\")\n",
    "width,height = pi.size\n",
    "print (f\"width, height -> {width},{height}\")\n",
    "print(f\"width, height ->  {pi.size}\")\n",
    "print(f\"widht, height -> {pi.width},{pi.height}\")"
   ]
  },
  {
   "cell_type": "markdown",
   "id": "acdbb139",
   "metadata": {},
   "source": [
    "    5. What method would you call to get Image object for a 100×100 image, excluding the lower-left quarter of it?"
   ]
  },
  {
   "cell_type": "code",
   "execution_count": 18,
   "id": "77376a96",
   "metadata": {},
   "outputs": [],
   "source": [
    "#Ans\n",
    "from PIL import Image\n",
    "pi = Image.open(\"im.jpg\")\n",
    "new = pi.crop((0,50,50,50))"
   ]
  },
  {
   "cell_type": "markdown",
   "id": "656730e1",
   "metadata": {},
   "source": [
    "    6. After making changes to an Image object, how could you save it as an image file?"
   ]
  },
  {
   "cell_type": "code",
   "execution_count": 20,
   "id": "269700fd",
   "metadata": {},
   "outputs": [],
   "source": [
    "#Ans\n",
    "from PIL import Image\n",
    "pi = Image.open(\"im.jpg\")\n",
    "pi.save(\"new.jpg\")"
   ]
  },
  {
   "cell_type": "markdown",
   "id": "26b9654e",
   "metadata": {},
   "source": [
    "    7. What module contains Pillow’s shape-drawing code?\n",
    "    Ans: ImageDraw module contains shape drawing methods"
   ]
  },
  {
   "cell_type": "markdown",
   "id": "abed15aa",
   "metadata": {},
   "source": [
    "    8. Image objects do not have drawing methods. What kind of object does? How do you get this kind of object?\n",
    "    Ans: ImageDraw objects have shape-drawing methods such as point(), line() and rectangle(). They are retured by passing the image object to the ImageDraw.Draw() function"
   ]
  }
 ],
 "metadata": {
  "kernelspec": {
   "display_name": "Python 3 (ipykernel)",
   "language": "python",
   "name": "python3"
  },
  "language_info": {
   "codemirror_mode": {
    "name": "ipython",
    "version": 3
   },
   "file_extension": ".py",
   "mimetype": "text/x-python",
   "name": "python",
   "nbconvert_exporter": "python",
   "pygments_lexer": "ipython3",
   "version": "3.9.7"
  }
 },
 "nbformat": 4,
 "nbformat_minor": 5
}
