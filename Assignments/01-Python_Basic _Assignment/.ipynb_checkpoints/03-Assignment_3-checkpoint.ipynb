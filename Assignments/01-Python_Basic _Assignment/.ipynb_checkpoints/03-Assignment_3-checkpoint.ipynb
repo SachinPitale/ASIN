{
 "cells": [
  {
   "cell_type": "code",
   "execution_count": null,
   "id": "845756cc",
   "metadata": {},
   "outputs": [],
   "source": [
    "\"\"\"\n",
    "1. Why are functions advantageous to have in your programs?\n",
    "\n",
    "Answer:\n",
    "Function following advantage,\n",
    "\n",
    "1. It support moduler programing\n",
    "2. Reduce the size of code\n",
    "3. Declare once, and use many times by calling function.\n",
    "4. increase code readability\n",
    "\"\"\""
   ]
  },
  {
   "cell_type": "code",
   "execution_count": null,
   "id": "ec86918b",
   "metadata": {},
   "outputs": [],
   "source": []
  },
  {
   "cell_type": "code",
   "execution_count": null,
   "id": "dbffdbc6",
   "metadata": {},
   "outputs": [],
   "source": [
    "\"\"\"\n",
    "2. When does the code in a function run: when it's specified or when it's called?\n",
    "\n",
    "Answer:\n",
    "code in a function run:\n",
    "  -> When we call the function \n",
    "      ex:\n",
    "      test()\n",
    "\n",
    "when it's specified or when it's called\n",
    "  -> When we want perform same operation multiple times, instead of writting same code multiple times,\n",
    "     we can create a function and call whenever we want.\n",
    "     ex \n",
    "     def test():\n",
    "        return \"Hello\"\n",
    "\n",
    "\"\"\""
   ]
  },
  {
   "cell_type": "code",
   "execution_count": null,
   "id": "e7433502",
   "metadata": {},
   "outputs": [],
   "source": []
  },
  {
   "cell_type": "code",
   "execution_count": null,
   "id": "215ce708",
   "metadata": {},
   "outputs": [],
   "source": []
  },
  {
   "cell_type": "code",
   "execution_count": 1,
   "id": "c037304a",
   "metadata": {},
   "outputs": [
    {
     "data": {
      "text/plain": [
       "'Test function'"
      ]
     },
     "execution_count": 1,
     "metadata": {},
     "output_type": "execute_result"
    }
   ],
   "source": [
    "\"\"\"\n",
    "3. What statement creates a function?\n",
    "\n",
    "Answer:\n",
    "def statement creates a function\n",
    "ex:\n",
    "\n",
    "\n",
    "\"\"\"\n",
    "# example\n",
    "\n",
    "def test():\n",
    "    return \"Test function\"\n",
    "\n",
    "test()"
   ]
  },
  {
   "cell_type": "code",
   "execution_count": null,
   "id": "2cd955cd",
   "metadata": {},
   "outputs": [],
   "source": []
  },
  {
   "cell_type": "code",
   "execution_count": 2,
   "id": "0f3a7d49",
   "metadata": {},
   "outputs": [
    {
     "data": {
      "text/plain": [
       "'test1 function'"
      ]
     },
     "execution_count": 2,
     "metadata": {},
     "output_type": "execute_result"
    }
   ],
   "source": [
    "\"\"\"\n",
    "4. What is the difference between a function and a function call?\n",
    "\n",
    "Answer\n",
    "\n",
    "A function is a block of code that does a particular operation and returns a result.\n",
    "A function call is the code used to pass control to a function.\n",
    "\"\"\"\n",
    "# Example\n",
    "\n",
    "# function\n",
    "def test1():\n",
    "    return 'test1 function'\n",
    "\n",
    "# Function call\n",
    "test1()"
   ]
  },
  {
   "cell_type": "code",
   "execution_count": null,
   "id": "45a5899e",
   "metadata": {},
   "outputs": [],
   "source": []
  },
  {
   "cell_type": "code",
   "execution_count": null,
   "id": "597d6889",
   "metadata": {},
   "outputs": [],
   "source": [
    "\"\"\"\n",
    "5. How many global scopes are there in a Python program? How many local scopes?\n",
    "\n",
    "\n",
    "Answer:\n",
    "Local Scope: Always, a function will first look up for a variable name in its local scope.\n",
    "Global Scopes : If a variable is not defined in local scope, then, it is checked for in the higher scope, in this case, the global scope.\n",
    "  \n",
    "\n",
    "\"\"\""
   ]
  },
  {
   "cell_type": "code",
   "execution_count": null,
   "id": "5771349a",
   "metadata": {},
   "outputs": [],
   "source": [
    "\"\"\"\n",
    "6. What happens to variables in a local scope when the function call returns?\n",
    "\n",
    "Answer:\n",
    "\n",
    "Function will give first preference to local variable as well as override the value of global variable and return the output of\n",
    "local variable.\n",
    "\"\"\"\n"
   ]
  },
  {
   "cell_type": "code",
   "execution_count": 3,
   "id": "fdf6ecf3",
   "metadata": {},
   "outputs": [
    {
     "data": {
      "text/plain": [
       "(10, 5, 15, 5, 50, 2.0, 0)"
      ]
     },
     "execution_count": 3,
     "metadata": {},
     "output_type": "execute_result"
    }
   ],
   "source": [
    "\"\"\"\n",
    "7. What is the concept of a return value? Is it possible to have a return value in an expression?\n",
    "\n",
    "Answer:\n",
    "retrun value we basically used inside the function, while printing function output\n",
    "we can use return value in expression\n",
    "\n",
    "\"\"\"\n",
    "# Example\n",
    "\n",
    "def test2(a,b):\n",
    "    return a, b, a+b, a-b, a*b, a/b, a%b\n",
    "\n",
    "test2(10,5)"
   ]
  },
  {
   "cell_type": "code",
   "execution_count": null,
   "id": "e76063b0",
   "metadata": {},
   "outputs": [],
   "source": []
  },
  {
   "cell_type": "code",
   "execution_count": 4,
   "id": "5f49c954",
   "metadata": {},
   "outputs": [],
   "source": [
    "\"\"\"\n",
    "8. If a function does not have a return statement, what is the return value of a call to that function?\n",
    "\n",
    "Answer:\n",
    "If function doesn't have return statement, function wouldn't provide any output  value of function while function call.\n",
    "\n",
    "\n",
    "\"\"\"\n",
    "# example\n",
    "def test3():\n",
    "    a = 5 + 4\n",
    "\n",
    "test3()"
   ]
  },
  {
   "cell_type": "code",
   "execution_count": null,
   "id": "6630b81d",
   "metadata": {},
   "outputs": [],
   "source": []
  },
  {
   "cell_type": "code",
   "execution_count": null,
   "id": "6378a441",
   "metadata": {},
   "outputs": [],
   "source": [
    "\"\"\"\n",
    "9. How do you make a function variable refer to the global variable?\n",
    "\n",
    "Answer:\n",
    "\n",
    "To make function variable refer to global variable, we doesn't need to define a local variable inside the function.\n",
    "\"\"\""
   ]
  },
  {
   "cell_type": "code",
   "execution_count": null,
   "id": "d2147139",
   "metadata": {},
   "outputs": [],
   "source": []
  },
  {
   "cell_type": "code",
   "execution_count": 5,
   "id": "2764d51f",
   "metadata": {},
   "outputs": [
    {
     "name": "stdout",
     "output_type": "stream",
     "text": [
      "<class 'NoneType'>\n"
     ]
    }
   ],
   "source": [
    "\"\"\"\n",
    "10. What is the data type of None?\n",
    "Answer:\n",
    "\n",
    "None is used to define a null value. It is not the same as an empty string, False, or a zero. It is a data type of the class NoneType object. \n",
    "\n",
    "\"\"\"\n",
    "#example\n",
    "\n",
    "print(type(None))"
   ]
  },
  {
   "cell_type": "code",
   "execution_count": null,
   "id": "e1ed9719",
   "metadata": {},
   "outputs": [],
   "source": []
  },
  {
   "cell_type": "code",
   "execution_count": null,
   "id": "ccc48856",
   "metadata": {},
   "outputs": [],
   "source": [
    "\"\"\"\n",
    "11. What does the sentence import are all your pets namederic do?\n",
    "\n",
    "Answer:\n",
    "\n",
    "Import sentance basically use in python to import the particular module inside your function.\n",
    "Once you import the module in function, you will access the all the variable, function, method of that module.\n",
    "\n",
    "\n",
    "\"\"\""
   ]
  },
  {
   "cell_type": "code",
   "execution_count": null,
   "id": "8bf86e56",
   "metadata": {},
   "outputs": [],
   "source": []
  },
  {
   "cell_type": "code",
   "execution_count": null,
   "id": "13f9fd03",
   "metadata": {},
   "outputs": [],
   "source": [
    "\"\"\"\n",
    "\n",
    "12. If you had a bacon() feature in a spam module, what would you call it after importing spam?\n",
    "\n",
    "Answer\n",
    "import spam\n",
    "\n",
    "spam.becon()\n",
    "\n",
    "or \n",
    "\n",
    "from spam import becon\n",
    "\n",
    "becon()\n",
    "\"\"\""
   ]
  },
  {
   "cell_type": "code",
   "execution_count": null,
   "id": "3f864129",
   "metadata": {},
   "outputs": [],
   "source": []
  },
  {
   "cell_type": "code",
   "execution_count": null,
   "id": "8a181955",
   "metadata": {},
   "outputs": [],
   "source": [
    "\"\"\"\n",
    "13. What can you do to save a programme from crashing if it encounters an error?\n",
    "\n",
    "Answer:\n",
    "\n",
    "We can use try except block for encounter an error.\n",
    "\n",
    "try:\n",
    "   a = 4/0\n",
    "except Exceptions as e:\n",
    "   print (e)\n",
    "else:\n",
    "   a = 1\n",
    "\n",
    "\"\"\""
   ]
  },
  {
   "cell_type": "code",
   "execution_count": null,
   "id": "35217f72",
   "metadata": {},
   "outputs": [],
   "source": []
  },
  {
   "cell_type": "code",
   "execution_count": null,
   "id": "3ddc6c1c",
   "metadata": {},
   "outputs": [],
   "source": [
    "\"\"\"\n",
    "14. What is the purpose of the try clause? What is the purpose of the except clause?\n",
    "\n",
    "Answer:\n",
    "\n",
    "try block:\n",
    "Inside the try block, basically we define the code, which can encounter the error.\n",
    "\n",
    "except block:\n",
    "Inside the except block we define the exception for error, if error is encounter in try block, \n",
    "So we can handle the error, which we define inside except block.\n",
    "\n",
    "\"\"\""
   ]
  }
 ],
 "metadata": {
  "kernelspec": {
   "display_name": "Python 3 (ipykernel)",
   "language": "python",
   "name": "python3"
  },
  "language_info": {
   "codemirror_mode": {
    "name": "ipython",
    "version": 3
   },
   "file_extension": ".py",
   "mimetype": "text/x-python",
   "name": "python",
   "nbconvert_exporter": "python",
   "pygments_lexer": "ipython3",
   "version": "3.9.7"
  }
 },
 "nbformat": 4,
 "nbformat_minor": 5
}
