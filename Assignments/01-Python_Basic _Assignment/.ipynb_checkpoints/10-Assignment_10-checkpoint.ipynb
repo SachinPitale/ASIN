{
 "cells": [
  {
   "cell_type": "code",
   "execution_count": null,
   "id": "4250f622",
   "metadata": {},
   "outputs": [],
   "source": [
    "\"\"\"\n",
    "1. How do you distinguish between shutil.copy() and shutil.copytree()?\n",
    "\n",
    "Answer:\n",
    "\n",
    "shutil.copy() : method in Python is used to copy the content of source file to destination file or directory\n",
    "shutil.copytree() : method recursively copies an entire directory tree rooted at source (src) to the destination directory\n",
    "\n",
    "\"\"\""
   ]
  },
  {
   "cell_type": "code",
   "execution_count": null,
   "id": "8bffd85b",
   "metadata": {},
   "outputs": [],
   "source": [
    "\"\"\"\n",
    "2. What function is used to rename files??\n",
    "\n",
    "Answer:\n",
    "os.rename()\n",
    "\n",
    "\"\"\""
   ]
  },
  {
   "cell_type": "code",
   "execution_count": null,
   "id": "dbb507ab",
   "metadata": {},
   "outputs": [],
   "source": [
    "\"\"\"\n",
    "3. What is the difference between the delete functions in the send2trash and shutil modules?\n",
    "\n",
    "Answer:\n",
    "\n",
    "send2trash:  we can send files to the Trash or Recycle Bin instead of permanently deleting them.\n",
    "shutil.rmtree():  to delete an entire directory tree, the path must point to a directory (but not a symbolic link to a directory).\n",
    "\n",
    "\"\"\""
   ]
  },
  {
   "cell_type": "code",
   "execution_count": null,
   "id": "c8d3f172",
   "metadata": {},
   "outputs": [],
   "source": []
  }
 ],
 "metadata": {
  "kernelspec": {
   "display_name": "Python 3 (ipykernel)",
   "language": "python",
   "name": "python3"
  },
  "language_info": {
   "codemirror_mode": {
    "name": "ipython",
    "version": 3
   },
   "file_extension": ".py",
   "mimetype": "text/x-python",
   "name": "python",
   "nbconvert_exporter": "python",
   "pygments_lexer": "ipython3",
   "version": "3.9.7"
  }
 },
 "nbformat": 4,
 "nbformat_minor": 5
}
