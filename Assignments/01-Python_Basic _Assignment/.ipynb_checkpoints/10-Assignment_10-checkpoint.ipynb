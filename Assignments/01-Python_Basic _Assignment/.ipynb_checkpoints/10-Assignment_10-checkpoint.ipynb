{
 "cells": [
  {
   "cell_type": "code",
   "execution_count": null,
   "id": "affff638",
   "metadata": {},
   "outputs": [],
   "source": [
    "\"\"\"\n",
    "1. How do you distinguish between shutil.copy() and shutil.copytree()?\n",
    "\n",
    "Answer:\n",
    "\n",
    "shutil.copy() : method in Python is used to copy the content of source file to destination file or directory\n",
    "shutil.copytree() : method recursively copies an entire directory tree rooted at source (src) to the destination directory\n",
    "\n",
    "\"\"\""
   ]
  },
  {
   "cell_type": "code",
   "execution_count": null,
   "id": "ed3b37ff",
   "metadata": {},
   "outputs": [],
   "source": [
    "\"\"\"\n",
    "2. What function is used to rename files??\n",
    "\n",
    "Answer:\n",
    "os.rename()\n",
    "\n",
    "\"\"\""
   ]
  },
  {
   "cell_type": "code",
   "execution_count": null,
   "id": "75e9e089",
   "metadata": {},
   "outputs": [],
   "source": [
    "\"\"\"\n",
    "3. What is the difference between the delete functions in the send2trash and shutil modules?\n",
    "\n",
    "Answer:\n",
    "\n",
    "send2trash:  we can send files to the Trash or Recycle Bin instead of permanently deleting them.\n",
    "shutil.rmtree():  to delete an entire directory tree, the path must point to a directory (but not a symbolic link to a directory).\n",
    "\n",
    "\"\"\""
   ]
  },
  {
   "cell_type": "code",
   "execution_count": null,
   "id": "4ff0d1c8",
   "metadata": {},
   "outputs": [],
   "source": [
    "\"\"\"\n",
    "4.ZipFile objects have a close() method just like File objects’ close() method. What ZipFile method is equivalent to File objects’ open() method?\n",
    "\n",
    "Answer:\n",
    "\n",
    "yes, Zipfile close() to use close archieve file and file object close() use to close file object.\n",
    "\"\"\""
   ]
  },
  {
   "cell_type": "code",
   "execution_count": null,
   "id": "9ce66f4e",
   "metadata": {},
   "outputs": [],
   "source": [
    "\"\"\"\n",
    "\n",
    "5. Create a programme that searches a folder tree for files with a certain file extension (such as .pdf or .jpg). Copy these files from whatever location they are in to a new folder.\n",
    "\n",
    "\"\"\""
   ]
  },
  {
   "cell_type": "code",
   "execution_count": null,
   "id": "d0ca638c",
   "metadata": {},
   "outputs": [],
   "source": [
    "import os,string\n",
    "class filesearch:\n",
    "    def __init__(self,ext):\n",
    "        self.ext = ext\n",
    "    \n",
    "    def filesearchwithext(self):\n",
    "        pd_names=string.ascii_uppercase\n",
    "        for valid_drive in pd_names:\n",
    "            if os.path.exists(valid_drive + \":\\\\\"):\n",
    "                for r,d,f in os.walk(valid_drive + \":\\\\\"):\n",
    "                    for m in f:\n",
    "                        fname, extension = os.path.splitext(m)\n",
    "                        if extension == self.ext:\n",
    "                            fileAbsPath = r + os.path.sep + m\n",
    "                            print(fileAbsPath)\n",
    "                            \n",
    "                \n",
    "        \n",
    "        "
   ]
  },
  {
   "cell_type": "code",
   "execution_count": null,
   "id": "75543380",
   "metadata": {},
   "outputs": [],
   "source": []
  },
  {
   "cell_type": "code",
   "execution_count": null,
   "id": "d0cbf05f",
   "metadata": {},
   "outputs": [],
   "source": [
    "pdf = filesearch('.pdf')"
   ]
  },
  {
   "cell_type": "code",
   "execution_count": null,
   "id": "6658ae1a",
   "metadata": {},
   "outputs": [],
   "source": [
    "pdf.filesearchwithext()"
   ]
  },
  {
   "cell_type": "code",
   "execution_count": null,
   "id": "b48e75ae",
   "metadata": {},
   "outputs": [],
   "source": [
    "png = filesearch('.png')"
   ]
  },
  {
   "cell_type": "code",
   "execution_count": null,
   "id": "89efc046",
   "metadata": {},
   "outputs": [],
   "source": [
    "png.filesearchwithext()"
   ]
  },
  {
   "cell_type": "code",
   "execution_count": null,
   "id": "0203f6bf",
   "metadata": {},
   "outputs": [],
   "source": [
    "ipynp = filesearch('.ipynp')"
   ]
  },
  {
   "cell_type": "code",
   "execution_count": null,
   "id": "9bf86064",
   "metadata": {},
   "outputs": [],
   "source": [
    "ipynp.filesearchwithext()"
   ]
  },
  {
   "cell_type": "code",
   "execution_count": null,
   "id": "c0edd712",
   "metadata": {},
   "outputs": [],
   "source": []
  }
 ],
 "metadata": {
  "kernelspec": {
   "display_name": "Python 3 (ipykernel)",
   "language": "python",
   "name": "python3"
  },
  "language_info": {
   "codemirror_mode": {
    "name": "ipython",
    "version": 3
   },
   "file_extension": ".py",
   "mimetype": "text/x-python",
   "name": "python",
   "nbconvert_exporter": "python",
   "pygments_lexer": "ipython3",
   "version": "3.9.7"
  }
 },
 "nbformat": 4,
 "nbformat_minor": 5
}
