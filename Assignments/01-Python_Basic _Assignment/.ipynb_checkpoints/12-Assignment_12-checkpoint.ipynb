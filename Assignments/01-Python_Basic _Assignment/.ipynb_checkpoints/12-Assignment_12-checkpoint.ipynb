{
 "cells": [
  {
   "cell_type": "code",
   "execution_count": null,
   "id": "a0f7b781",
   "metadata": {},
   "outputs": [],
   "source": [
    "\"\"\"\n",
    "1. In what modes should the PdfFileReader() and PdfFileWriter() File objects will be opened?\n",
    "\"\"\""
   ]
  },
  {
   "cell_type": "code",
   "execution_count": null,
   "id": "449dcbf7",
   "metadata": {},
   "outputs": [],
   "source": [
    "\"\"\"\n",
    "Ans:\n",
    "PdfFileReader() needs to be opened in read-binary mode by passing 'rb'\n",
    "PdfFileWriter() needs to be opened in write-binary mode with 'wb'.\n",
    "\n",
    "\"\"\""
   ]
  },
  {
   "cell_type": "code",
   "execution_count": null,
   "id": "34ee001e",
   "metadata": {},
   "outputs": [],
   "source": [
    "\"\"\"\n",
    "2. From a PdfFileReader object, how do you get a Page object for page 5?\n",
    "\"\"\""
   ]
  },
  {
   "cell_type": "code",
   "execution_count": null,
   "id": "deacef91",
   "metadata": {},
   "outputs": [],
   "source": [
    "\"\"\"\n",
    "Ans:\n",
    "We can get a Page object by calling the getPage() method\n",
    "\"\"\""
   ]
  },
  {
   "cell_type": "code",
   "execution_count": null,
   "id": "1827f9c8",
   "metadata": {},
   "outputs": [],
   "source": [
    "\"\"\"\n",
    "3. What PdfFileReader variable stores the number of pages in the PDF document?\n",
    "\"\"\""
   ]
  },
  {
   "cell_type": "code",
   "execution_count": null,
   "id": "6d6910cf",
   "metadata": {},
   "outputs": [],
   "source": [
    "\"\"\"\n",
    "Ans:\n",
    "The total number of pages in the document is stored in the numPages attribute of a PdfFileReader object\n",
    "\"\"\""
   ]
  },
  {
   "cell_type": "code",
   "execution_count": null,
   "id": "076aa00a",
   "metadata": {},
   "outputs": [],
   "source": [
    "\"\"\"\n",
    "4. If a PdfFileReader object’s PDF is encrypted with the password swordfish, what must you do before you can obtain Page objects from it?\n",
    "\"\"\""
   ]
  },
  {
   "cell_type": "code",
   "execution_count": null,
   "id": "14f4ccb0",
   "metadata": {},
   "outputs": [],
   "source": [
    "\"\"\"\n",
    "Ans:\n",
    "We will use following command\n",
    "\n",
    "pdfReader.decrypt('swordfish')\n",
    "\n",
    "\"\"\""
   ]
  },
  {
   "cell_type": "code",
   "execution_count": null,
   "id": "2e717e9f",
   "metadata": {},
   "outputs": [],
   "source": [
    "\"\"\"\n",
    "5. What methods do you use to rotate a page?\n",
    "\n",
    "\"\"\""
   ]
  },
  {
   "cell_type": "code",
   "execution_count": null,
   "id": "0157b3ee",
   "metadata": {},
   "outputs": [],
   "source": [
    "\"\"\"\n",
    "Ans:\n",
    "write() method of the PdfFileWriter is used to produce the rotated PDF file\n",
    "\"\"\""
   ]
  },
  {
   "cell_type": "code",
   "execution_count": null,
   "id": "4d7dc6c3",
   "metadata": {},
   "outputs": [],
   "source": [
    "\"\"\"\n",
    "\n",
    "6. What is the difference between a Run object and a Paragraph object?\n",
    "\"\"\""
   ]
  },
  {
   "cell_type": "code",
   "execution_count": null,
   "id": "3c5dccfb",
   "metadata": {},
   "outputs": [],
   "source": [
    "\"\"\"\n",
    "Ans:\n",
    "Run object : It used Proxy object wrapping <w:r> element.\n",
    "Paragraph object: It used Proxy object wrapping <w:p> element.\n",
    "\n",
    "\"\"\""
   ]
  },
  {
   "cell_type": "code",
   "execution_count": null,
   "id": "3d337f1b",
   "metadata": {},
   "outputs": [],
   "source": [
    "\"\"\"\n",
    "7. How do you obtain a list of Paragraph objects for a Document object that’s stored in a variable named doc?\n",
    "\n",
    "\"\"\""
   ]
  },
  {
   "cell_type": "code",
   "execution_count": null,
   "id": "a877fe8a",
   "metadata": {},
   "outputs": [],
   "source": []
  },
  {
   "cell_type": "code",
   "execution_count": null,
   "id": "5794acb3",
   "metadata": {},
   "outputs": [],
   "source": [
    "\"\"\"\n",
    "8. What type of object has bold, underline, italic, strike, and outline variables?\n",
    "\"\"\""
   ]
  },
  {
   "cell_type": "code",
   "execution_count": null,
   "id": "f905c15f",
   "metadata": {},
   "outputs": [],
   "source": [
    "\"\"\"\n",
    "Ans:\n",
    "The write() method takes a regular File object that has been opened in bold, underline, italic, strike, and outline\n",
    "\"\"\""
   ]
  },
  {
   "cell_type": "code",
   "execution_count": null,
   "id": "cb5bea78",
   "metadata": {},
   "outputs": [],
   "source": [
    "\"\"\"\n",
    "9. What is the difference between False, True, and None for the bold variable?\n",
    "\n",
    "\"\"\""
   ]
  },
  {
   "cell_type": "code",
   "execution_count": null,
   "id": "74d09667",
   "metadata": {},
   "outputs": [],
   "source": []
  },
  {
   "cell_type": "code",
   "execution_count": null,
   "id": "c8a3b485",
   "metadata": {},
   "outputs": [],
   "source": [
    "\"\"\"\n",
    "10. How do you create a Document object for a new Word document?\n",
    "\"\"\""
   ]
  },
  {
   "cell_type": "code",
   "execution_count": null,
   "id": "2bd88da1",
   "metadata": {},
   "outputs": [],
   "source": [
    "\"\"\"\n",
    "Ans:\n",
    "import docx\n",
    "doc = docx.Document()\n",
    "\n",
    "\"\"\""
   ]
  },
  {
   "cell_type": "code",
   "execution_count": null,
   "id": "05c7d75f",
   "metadata": {},
   "outputs": [],
   "source": [
    "\"\"\"\n",
    "11. How do you add a paragraph with the text 'Hello, there!' to a Document object stored in a variable named doc?\n",
    "\"\"\""
   ]
  },
  {
   "cell_type": "code",
   "execution_count": null,
   "id": "751cf73d",
   "metadata": {},
   "outputs": [],
   "source": [
    "\"\"\"\n",
    "Ans:\n",
    "import docx\n",
    "doc = docx.Document()\n",
    "doc.add_heading('Heading for the document', 0)\n",
    "doc_para = doc.add_paragraph('Your paragraph goes here, ')\n",
    "doc.save('path_to_document')\n",
    "\n",
    "\"\"\""
   ]
  },
  {
   "cell_type": "code",
   "execution_count": 3,
   "id": "97dc6635",
   "metadata": {},
   "outputs": [],
   "source": [
    "# import docx NOT python-docx\n",
    "import docx\n",
    "\n",
    "# create an instance of a word document\n",
    "doc = docx.Document()\n",
    "\n",
    "# add a heading of level 0 (largest heading)\n",
    "doc.add_heading('Heading for the document', 0)\n",
    "\n",
    "# add a paragraph and store\n",
    "# the object in a variable\n",
    "doc_para = doc.add_paragraph('Your paragraph goes here, ')\n",
    "\n",
    "# add a run i.e, style like\n",
    "# bold, italic, underline, etc.\n",
    "doc_para.add_run('hey there, bold here').bold = True\n",
    "doc_para.add_run(', and ')\n",
    "doc_para.add_run('these words are italic').italic = True\n",
    "\n",
    "# add a page break to start a new page\n",
    "doc.add_page_break()\n",
    "\n",
    "# add a heading of level 2\n",
    "doc.add_heading('Heading level 2', 2)\n",
    "\n",
    "# pictures can also be added to our word document\n",
    "\n",
    "\n",
    "# now save the document to a location\n",
    "doc.save('test.docx')\n"
   ]
  },
  {
   "cell_type": "code",
   "execution_count": null,
   "id": "bffd8187",
   "metadata": {},
   "outputs": [],
   "source": []
  },
  {
   "cell_type": "code",
   "execution_count": null,
   "id": "1264e6ed",
   "metadata": {},
   "outputs": [],
   "source": []
  }
 ],
 "metadata": {
  "kernelspec": {
   "display_name": "Python 3 (ipykernel)",
   "language": "python",
   "name": "python3"
  },
  "language_info": {
   "codemirror_mode": {
    "name": "ipython",
    "version": 3
   },
   "file_extension": ".py",
   "mimetype": "text/x-python",
   "name": "python",
   "nbconvert_exporter": "python",
   "pygments_lexer": "ipython3",
   "version": "3.9.7"
  }
 },
 "nbformat": 4,
 "nbformat_minor": 5
}
