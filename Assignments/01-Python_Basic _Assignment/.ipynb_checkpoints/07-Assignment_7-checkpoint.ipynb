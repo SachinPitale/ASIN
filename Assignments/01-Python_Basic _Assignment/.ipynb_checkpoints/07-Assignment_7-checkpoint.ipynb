{
 "cells": [
  {
   "cell_type": "code",
   "execution_count": null,
   "id": "eec8e589",
   "metadata": {},
   "outputs": [],
   "source": [
    "\"\"\"\n",
    "1. What is the name of the feature responsible for generating Regex objects?\n",
    "\n",
    "Answer:\n",
    "The re.compile() function returns Regex objects.\n",
    "\n",
    "\"\"\""
   ]
  },
  {
   "cell_type": "code",
   "execution_count": null,
   "id": "812f70b8",
   "metadata": {},
   "outputs": [],
   "source": [
    "\"\"\"\n",
    "2. Why do raw strings often appear in Regex objects?\n",
    "\n",
    "Answer:\n",
    "Raw strings are used so that backslashes do not have to be escaped.\n",
    "\n",
    "\"\"\""
   ]
  },
  {
   "cell_type": "code",
   "execution_count": null,
   "id": "f9c94810",
   "metadata": {},
   "outputs": [],
   "source": [
    "\"\"\"\n",
    "3. What is the return value of the search() method?\n",
    "\n",
    "Answer:\n",
    "The search() method returns Match objects.\n",
    "\n",
    "\"\"\""
   ]
  },
  {
   "cell_type": "code",
   "execution_count": null,
   "id": "8b1aacff",
   "metadata": {},
   "outputs": [],
   "source": [
    "\"\"\"\n",
    "4. From a Match item, how do you get the actual strings that match the pattern?\n",
    "\n",
    "Answer:\n",
    "The group() method returns strings of the matched text.\n",
    "\n",
    "\"\"\""
   ]
  },
  {
   "cell_type": "code",
   "execution_count": null,
   "id": "39fe3397",
   "metadata": {},
   "outputs": [],
   "source": [
    "\"\"\"\n",
    "5. In the regex which created from the r'(\\d\\d\\d)-(\\d\\d\\d-\\d\\d\\d\\d)', what does group zero cover? Group 2? Group 1?\n",
    "\n",
    "Answer:\n",
    "\n",
    "Group 0 is the entire match, group 1 covers the first set of parentheses, and group 2 covers the second set of parentheses.\n",
    "\n",
    "\"\"\""
   ]
  },
  {
   "cell_type": "code",
   "execution_count": null,
   "id": "9f0e01fa",
   "metadata": {},
   "outputs": [],
   "source": [
    "\"\"\"\n",
    "6. In standard expression syntax, parentheses and intervals have distinct meanings. How can you tell a regex that you want it to fit real parentheses and periods?\n",
    "\n",
    "Answer:\n",
    "\n",
    "Periods and parentheses can be escaped with a backslash: \\., \\(, and \\).\n",
    "\n",
    "\"\"\""
   ]
  },
  {
   "cell_type": "code",
   "execution_count": null,
   "id": "bc786aa3",
   "metadata": {},
   "outputs": [],
   "source": [
    "\"\"\"\n",
    "7. The findall() method returns a string list or a list of string tuples. What causes it to return one of the two options?\n",
    "\n",
    "Answer:\n",
    "If the regex has no groups, a list of strings is returned. If the regex has groups, a list of tuples of strings is returned.\n",
    "\n",
    "\"\"\""
   ]
  },
  {
   "cell_type": "code",
   "execution_count": null,
   "id": "cf2bb362",
   "metadata": {},
   "outputs": [],
   "source": [
    "\"\"\"\n",
    "8. In standard expressions, what does the | character mean?\n",
    "\n",
    "Answer:\n",
    "The | character signifies matching \"either, or\" between two groups.\n",
    "\n",
    "\"\"\""
   ]
  },
  {
   "cell_type": "code",
   "execution_count": null,
   "id": "45e5ce09",
   "metadata": {},
   "outputs": [],
   "source": [
    "\"\"\"\n",
    "9. In regular expressions, what does the character stand for?\n",
    "\n",
    "Answer:\n",
    "The ? character can either mean \"match zero or one of the preceding group\" or be used to signify nongreedy matching.\n",
    "\n",
    "\"\"\""
   ]
  },
  {
   "cell_type": "code",
   "execution_count": null,
   "id": "57948dc8",
   "metadata": {},
   "outputs": [],
   "source": [
    "\"\"\"\n",
    "10.In regular expressions, what is the difference between the + and * characters?\n",
    "\n",
    "Answer:\n",
    "The + matches one or more. The * matches zero or more.\n",
    "\n",
    "\"\"\""
   ]
  },
  {
   "cell_type": "code",
   "execution_count": null,
   "id": "51146555",
   "metadata": {},
   "outputs": [],
   "source": [
    "\"\"\"\n",
    "11. What is the difference between {4} and {4,5} in regular expression?\n",
    "\n",
    "\n",
    "Answer:\n",
    "\n",
    "The {4} matches exactly four instances of the preceding group. The {4,5} matches between four and five instances.\n",
    "\"\"\""
   ]
  },
  {
   "cell_type": "code",
   "execution_count": null,
   "id": "5069c245",
   "metadata": {},
   "outputs": [],
   "source": [
    "\"\"\"\n",
    "12. What do you mean by the \\d, \\w, and \\s shorthand character classes signify in regular expressions?\n",
    "\n",
    "Answer:\n",
    "\n",
    "\\d,single digit\n",
    "\n",
    "\\w, word\n",
    "\\s, space character\n",
    "\n",
    "\n",
    "\n",
    "\"\"\""
   ]
  },
  {
   "cell_type": "code",
   "execution_count": null,
   "id": "ce905e2c",
   "metadata": {},
   "outputs": [],
   "source": [
    "\"\"\"\n",
    "13. What do means by \\D, \\W, and \\S shorthand character classes signify in regular expressions?\n",
    "\n",
    "Answer:\n",
    "\n",
    "\\D, single character that is not a digit,\n",
    "\n",
    "\\W, word,\n",
    "\n",
    "and \\S space character\n",
    "\n",
    "\"\"\""
   ]
  },
  {
   "cell_type": "code",
   "execution_count": null,
   "id": "f225b2ec",
   "metadata": {},
   "outputs": [],
   "source": [
    "\"\"\"\n",
    "14. What is the difference between .*? and .*?\n",
    "\n",
    "Answer:\n",
    ".*?  greedy match\n",
    "\n",
    ".*? not greedy match\n",
    "\n",
    "\n",
    "\"\"\""
   ]
  },
  {
   "cell_type": "code",
   "execution_count": null,
   "id": "c0bb7c62",
   "metadata": {},
   "outputs": [],
   "source": [
    "\"\"\"\n",
    "15. What is the syntax for matching both numbers and lowercase letters with a character class?\n",
    "\n",
    "Answer:\n",
    "Either [0-9a-z] or [a-z0-9]\n",
    "\n",
    "\"\"\""
   ]
  },
  {
   "cell_type": "code",
   "execution_count": null,
   "id": "4c024ea9",
   "metadata": {},
   "outputs": [],
   "source": [
    "\"\"\"\n",
    "16. What is the procedure for making a normal expression in regax case insensitive?\n",
    "\n",
    "Answer:\n",
    "Passing re.I or re.IGNORECASE as the second argument to re.compile() will make the matching case insensitive.\n",
    "\n",
    "\"\"\""
   ]
  },
  {
   "cell_type": "code",
   "execution_count": null,
   "id": "101886f6",
   "metadata": {},
   "outputs": [],
   "source": [
    "\"\"\"\n",
    "17. What does the . character normally match? What does it match if re.DOTALL is passed as 2nd argument in re.compile()?\n",
    "\n",
    "Answer:\n",
    "The . character normally matches any character except the newline character. If re.DOTALL is passed as the second argument to re.compile(), then the dot will also match newline characters.\n",
    "\n",
    "\"\"\""
   ]
  },
  {
   "cell_type": "code",
   "execution_count": null,
   "id": "28d6edc5",
   "metadata": {},
   "outputs": [],
   "source": [
    "\"\"\"\n",
    "18. If numReg = re.compile(r'\\d+'), what will numRegex.sub('X', '11 drummers, 10 pipers, five rings, 4 hen') return?\n",
    "\n",
    "Answer:\n",
    "'X drummers, X pipers, five rings, X hens'\n",
    "\n",
    "\"\"\""
   ]
  },
  {
   "cell_type": "code",
   "execution_count": null,
   "id": "9a7266e2",
   "metadata": {},
   "outputs": [],
   "source": [
    "\"\"\"\n",
    "19. What does passing re.VERBOSE as the 2nd argument to re.compile() allow to do?\n",
    "\n",
    "Answer:\n",
    "The re.VERBOSE argument allows you to add whitespace and comments to the string passed to re.compile().\n",
    "\n",
    "\"\"\""
   ]
  },
  {
   "cell_type": "code",
   "execution_count": null,
   "id": "a4c5d662",
   "metadata": {},
   "outputs": [],
   "source": [
    "\"\"\"\n",
    "20. How would you write a regex that match a number with comma for every three digits? It must match the given following:\n",
    "'42'\n",
    "'1,234'\n",
    "'6,368,745'\n",
    "but not the following:\n",
    "'12,34,567' (which has only two digits between the commas)\n",
    "'1234' (which lacks commas)\n",
    "\n",
    "Answer:\n",
    "\n",
    "re.compile(r'^\\d{1,3}(,\\d{3})*$') will create this regex,\n",
    "\n",
    "\"\"\""
   ]
  },
  {
   "cell_type": "code",
   "execution_count": null,
   "id": "43555e4c",
   "metadata": {},
   "outputs": [],
   "source": [
    "\"\"\"\n",
    "21. How would you write a regex that matches the full name of someone whose last name is Watanabe? You can assume that the first name that comes before it will always be one word that begins with a capital letter. The regex must match the following:\n",
    "'Haruto Watanabe'\n",
    "'Alice Watanabe'\n",
    "'RoboCop Watanabe'\n",
    "but not the following:\n",
    "'haruto Watanabe' (where the first name is not capitalized)\n",
    "'Mr. Watanabe' (where the preceding word has a nonletter character)\n",
    "'Watanabe' (which has no first name)\n",
    "'Haruto watanabe' (where Watanabe is not capitalized)\n",
    "\n",
    "\n",
    "Answer:\n",
    "\n",
    "re.compile(r'[A-Z][a-z]*\\sWatanabe')\n",
    "\n",
    "\"\"\""
   ]
  },
  {
   "cell_type": "code",
   "execution_count": null,
   "id": "f7af41ca",
   "metadata": {},
   "outputs": [],
   "source": [
    "\"\"\"\n",
    "22. How would you write a regex that matches a sentence where the first word is either Alice, Bob, or Carol; the second word is either eats, pets, or throws; the third word is apples, cats, or baseballs; and the sentence ends with a period? This regex should be case-insensitive. It must match the following:\n",
    "'Alice eats apples.'\n",
    "'Bob pets cats.'\n",
    "'Carol throws baseballs.'\n",
    "'Alice throws Apples.'\n",
    "'BOB EATS CATS.'\n",
    "but not the following:\n",
    "'RoboCop eats apples.'\n",
    "'ALICE THROWS FOOTBALLS.'\n",
    "'Carol eats 7 cats.'\n",
    "\n",
    "\n",
    "Answer:\n",
    "\n",
    "re.compile(r'(Alice|Bob|Carol)\\s(eats|pets|throws)\\s(apples|cats|baseballs)\\.', re.IGNORECASE)\n",
    "\n",
    "\n",
    "\"\"\""
   ]
  }
 ],
 "metadata": {
  "kernelspec": {
   "display_name": "Python 3 (ipykernel)",
   "language": "python",
   "name": "python3"
  },
  "language_info": {
   "codemirror_mode": {
    "name": "ipython",
    "version": 3
   },
   "file_extension": ".py",
   "mimetype": "text/x-python",
   "name": "python",
   "nbconvert_exporter": "python",
   "pygments_lexer": "ipython3",
   "version": "3.9.7"
  }
 },
 "nbformat": 4,
 "nbformat_minor": 5
}
