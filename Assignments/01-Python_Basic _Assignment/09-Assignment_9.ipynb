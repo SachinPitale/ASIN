{
 "cells": [
  {
   "cell_type": "code",
   "execution_count": null,
   "id": "2ad4de3a",
   "metadata": {},
   "outputs": [],
   "source": [
    "\"\"\"\n",
    "1. To what does a relative path refer?\n",
    "\n",
    "\n",
    "Answer:\n",
    "\n",
    "relative path refer your curent working directory.\n",
    "\n",
    "\"\"\""
   ]
  },
  {
   "cell_type": "code",
   "execution_count": 1,
   "id": "c4647382",
   "metadata": {},
   "outputs": [
    {
     "data": {
      "text/plain": [
       "'E:\\\\Data Science\\\\Assignments\\\\Assignments\\\\01-Python_Basic _Assignment'"
      ]
     },
     "execution_count": 1,
     "metadata": {},
     "output_type": "execute_result"
    }
   ],
   "source": [
    "\"\"\"\n",
    "2. What does an absolute path start with your operating system?\n",
    "\n",
    "Answer:\n",
    "\n",
    "E drive\n",
    "\n",
    "\"\"\"\n",
    "import os\n",
    "os.getcwd()"
   ]
  },
  {
   "cell_type": "code",
   "execution_count": 3,
   "id": "fda99153",
   "metadata": {},
   "outputs": [
    {
     "name": "stdout",
     "output_type": "stream",
     "text": [
      "E:\\Data Science\\Assignments\\Assignments\\01-Python_Basic _Assignment\n"
     ]
    }
   ],
   "source": [
    "\"\"\"\n",
    "3. What do the functions os.getcwd() and os.chdir() do?\n",
    "\n",
    "Answer:\n",
    "os.getcwd() : return the current working directory\n",
    "os.chdir() : all you move one directory to other directory\n",
    "\n",
    "\"\"\"\n",
    "print(os.getcwd())\n",
    "print(os.chdir('E:\\\\Doc\\\\DS\\\\'))"
   ]
  },
  {
   "cell_type": "code",
   "execution_count": null,
   "id": "ded763c8",
   "metadata": {},
   "outputs": [],
   "source": [
    "\"\"\"\n",
    "4. What are the . and .. folders?\n",
    "\n",
    "\n",
    "Answer:\n",
    "\n",
    "This structure is basically used in linux os\n",
    ". -> current working directory\n",
    ".. -> parent directory\n",
    "\n",
    "\"\"\""
   ]
  },
  {
   "cell_type": "code",
   "execution_count": 9,
   "id": "845998e1",
   "metadata": {},
   "outputs": [
    {
     "name": "stdout",
     "output_type": "stream",
     "text": [
      "C:\\bacon\\eggs\n"
     ]
    },
    {
     "data": {
      "text/plain": [
       "'spam.txt'"
      ]
     },
     "execution_count": 9,
     "metadata": {},
     "output_type": "execute_result"
    }
   ],
   "source": [
    "\"\"\"\n",
    "5. In C:\\bacon\\eggs\\spam.txt, which part is the dir name, and which part is the base name?\n",
    "\n",
    "Answer:\n",
    "\n",
    "dir name = C:\\bacon\\eggs\n",
    "base name = spam.txt\n",
    "\n",
    "\"\"\"\n",
    "import os\n",
    "print(os.path.dirname(\"C:\\\\bacon\\\\eggs\\\\spam.txt\"))\n",
    "os.path.basename(\"C:\\\\bacon\\\\eggs\\\\spam.txt\")"
   ]
  },
  {
   "cell_type": "code",
   "execution_count": null,
   "id": "4065a99d",
   "metadata": {},
   "outputs": [],
   "source": []
  },
  {
   "cell_type": "code",
   "execution_count": null,
   "id": "50c25e43",
   "metadata": {},
   "outputs": [],
   "source": [
    "\"\"\"\n",
    "\n",
    "6. What are the three “mode” arguments that can be passed to the open() function?\n",
    "\n",
    "Answer:\n",
    "\n",
    "read , open(filename,'r')\n",
    "write , open(filename,'w')\n",
    "append, open(filename, 'a')\n",
    "\n",
    "\"\"\""
   ]
  },
  {
   "cell_type": "code",
   "execution_count": null,
   "id": "bd88ea25",
   "metadata": {},
   "outputs": [],
   "source": [
    "\"\"\"\n",
    "7. What happens if an existing file is opened in write mode?\n",
    "\n",
    "Answer:\n",
    "\n",
    "An existing file opened in write mode is erased and completely overwritten.\n",
    "\n",
    "\"\"\""
   ]
  },
  {
   "cell_type": "code",
   "execution_count": null,
   "id": "aa1e4783",
   "metadata": {},
   "outputs": [],
   "source": []
  },
  {
   "cell_type": "code",
   "execution_count": null,
   "id": "406762fc",
   "metadata": {},
   "outputs": [],
   "source": [
    "\"\"\"\n",
    "8. How do you tell the difference between read() and readlines()?\n",
    "\n",
    "Answer:\n",
    "\n",
    "The read() method returns the file's entire contents as a single string value. \n",
    "The readlines() method returns a list of strings, where each string is a line from the file's contents.\n",
    "\"\"\""
   ]
  },
  {
   "cell_type": "code",
   "execution_count": null,
   "id": "ab5e7749",
   "metadata": {},
   "outputs": [],
   "source": [
    "\"\"\"\n",
    "9. What data structure does a shelf value resemble?\n",
    "\n",
    "\n",
    "Answer:\n",
    "\n",
    "A shelf value resembles a dictionary value; it has keys and values, along with keys() and values() methods.\n",
    "\n",
    "\n",
    "\"\"\""
   ]
  }
 ],
 "metadata": {
  "kernelspec": {
   "display_name": "Python 3 (ipykernel)",
   "language": "python",
   "name": "python3"
  },
  "language_info": {
   "codemirror_mode": {
    "name": "ipython",
    "version": 3
   },
   "file_extension": ".py",
   "mimetype": "text/x-python",
   "name": "python",
   "nbconvert_exporter": "python",
   "pygments_lexer": "ipython3",
   "version": "3.9.7"
  }
 },
 "nbformat": 4,
 "nbformat_minor": 5
}
