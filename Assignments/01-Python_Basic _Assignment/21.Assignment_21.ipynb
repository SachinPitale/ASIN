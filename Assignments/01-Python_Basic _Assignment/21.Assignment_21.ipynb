{
 "cells": [
  {
   "cell_type": "markdown",
   "id": "c6543b34",
   "metadata": {},
   "source": [
    "# Assignment 21 "
   ]
  },
  {
   "cell_type": "markdown",
   "id": "76c1bdb0",
   "metadata": {},
   "source": [
    "#### 1. Add the current date to the text file today.txt as a string."
   ]
  },
  {
   "cell_type": "code",
   "execution_count": 26,
   "id": "4e6a4137",
   "metadata": {},
   "outputs": [],
   "source": [
    "import datetime\n",
    "file = open('today.txt','w')\n",
    "file.write(datetime.datetime.now().strftime(\"%d-%m-%Y\"))\n",
    "file.close()\n"
   ]
  },
  {
   "cell_type": "markdown",
   "id": "f2e666de",
   "metadata": {},
   "source": [
    "#### 2. Read the text file today.txt into the string today_string"
   ]
  },
  {
   "cell_type": "code",
   "execution_count": 27,
   "id": "ecb1726b",
   "metadata": {},
   "outputs": [
    {
     "name": "stdout",
     "output_type": "stream",
     "text": [
      "16-04-2022\n"
     ]
    }
   ],
   "source": [
    "file = open('today.txt','r')\n",
    "today_string = (file.read())\n",
    "print(today_string)"
   ]
  },
  {
   "cell_type": "markdown",
   "id": "02d549ea",
   "metadata": {},
   "source": [
    "#### 3. Parse the date from today_string."
   ]
  },
  {
   "cell_type": "code",
   "execution_count": 29,
   "id": "1857443b",
   "metadata": {},
   "outputs": [
    {
     "name": "stdout",
     "output_type": "stream",
     "text": [
      "2022-04-16 00:00:00\n"
     ]
    }
   ],
   "source": [
    "from datetime import datetime\n",
    "parsed_data = datetime.strptime(today_string, '%d-%m-%Y')\n",
    "print(parsed_data)"
   ]
  },
  {
   "cell_type": "markdown",
   "id": "b8a63bae",
   "metadata": {},
   "source": [
    "#### 4. List the files in your current directory"
   ]
  },
  {
   "cell_type": "code",
   "execution_count": 33,
   "id": "b72fada2",
   "metadata": {},
   "outputs": [
    {
     "name": "stdout",
     "output_type": "stream",
     "text": [
      ".ipynb_checkpoints\n",
      "01-Assignment_1.ipynb\n",
      "02-Assignment_2.ipynb\n",
      "03-Assignment_3.ipynb\n",
      "04-Assignment_4.ipynb\n",
      "05-Assignment_5.ipynb\n",
      "06-Assignment_6.ipynb\n",
      "07-Assignment_7.ipynb\n",
      "08-Assignment_8.ipynb\n",
      "09-Assignment_9.ipynb\n",
      "10-Assignment_10.ipynb\n",
      "11-Assignment_11.ipynb\n",
      "12-Assignment_12.ipynb\n",
      "13-Assignment_13.ipynb\n",
      "14-Assignment_14.ipynb\n",
      "15-Assignment_15.ipynb\n",
      "16-Assignment_16.ipynb\n",
      "17-Assignment_17.ipynb\n",
      "18-Assignment_18.ipynb\n",
      "19-Assignment_19.ipynb\n",
      "20.Assignment_20.ipynb\n",
      "21.Assignment_21.ipynb\n",
      "books.csv\n",
      "books.db\n",
      "im.jpg\n",
      "new.jpg\n",
      "test.docx\n",
      "test.txt\n",
      "today.txt\n",
      "zoo.py\n",
      "__pycache__\n"
     ]
    }
   ],
   "source": [
    "#!dir\n",
    "import os\n",
    "for i in os.listdir():\n",
    "    print(i)"
   ]
  },
  {
   "cell_type": "markdown",
   "id": "41b2cd96",
   "metadata": {},
   "source": [
    "#### 5. Create a list of all of the files in your parent directory (minimum five files should be available)."
   ]
  },
  {
   "cell_type": "code",
   "execution_count": 34,
   "id": "028b6725",
   "metadata": {},
   "outputs": [
    {
     "data": {
      "text/plain": [
       "['.ipynb_checkpoints',\n",
       " '01-Assignment_1.ipynb',\n",
       " '02-Assignment_2.ipynb',\n",
       " '03-Assignment_3.ipynb',\n",
       " '04-Assignment_4.ipynb',\n",
       " '05-Assignment_5.ipynb',\n",
       " '06-Assignment_6.ipynb',\n",
       " '07-Assignment_7.ipynb',\n",
       " '08-Assignment_8.ipynb',\n",
       " '09-Assignment_9.ipynb',\n",
       " '10-Assignment_10.ipynb',\n",
       " '11-Assignment_11.ipynb',\n",
       " '12-Assignment_12.ipynb',\n",
       " '13-Assignment_13.ipynb',\n",
       " '14-Assignment_14.ipynb',\n",
       " '15-Assignment_15.ipynb',\n",
       " '16-Assignment_16.ipynb',\n",
       " '17-Assignment_17.ipynb',\n",
       " '18-Assignment_18.ipynb',\n",
       " '19-Assignment_19.ipynb',\n",
       " '20.Assignment_20.ipynb',\n",
       " '21.Assignment_21.ipynb',\n",
       " 'books.csv',\n",
       " 'books.db',\n",
       " 'im.jpg',\n",
       " 'new.jpg',\n",
       " 'test.docx',\n",
       " 'test.txt',\n",
       " 'today.txt',\n",
       " 'zoo.py',\n",
       " '__pycache__']"
      ]
     },
     "execution_count": 34,
     "metadata": {},
     "output_type": "execute_result"
    }
   ],
   "source": [
    "import os\n",
    "os.listdir()"
   ]
  },
  {
   "cell_type": "markdown",
   "id": "6d3d8c63",
   "metadata": {},
   "source": [
    "#### 6. Use multiprocessing to create three separate processes. Make each one wait a random number of seconds between one and five, print the current time, and then exit."
   ]
  },
  {
   "cell_type": "code",
   "execution_count": 41,
   "id": "52bc51b7",
   "metadata": {},
   "outputs": [],
   "source": [
    "import multiprocessing\n",
    "import time\n",
    "import random\n",
    "import datetime\n",
    "\n",
    "\n",
    "def pone():\n",
    "    print(f'pone start time : {datetime.datetime.now()}')\n",
    "    time.sleep(random.randint(1,5))\n",
    "    print(f'pone end time : {datetime.datetime.now()}' )  \n",
    "\n",
    "def ptwo():\n",
    "    print(f'ptwo start time : {datetime.datetime.now()}')\n",
    "    time.sleep(random.randint(1,5))\n",
    "    print(f'ptwo end time : {datetime.datetime.now()} ') \n",
    "\n",
    "def pthree():\n",
    "    print(f'pthree start time : {datetime.datetime.now()}')\n",
    "    time.sleep(random.randint(1,5))\n",
    "    print(f'pthree end time : {datetime.datetime.now()} ')\n",
    "\n",
    "if __name__ == \"__main__\":\n",
    "          p1 = multiprocessing.Process(target=pone)\n",
    "          p2 = multiprocessing.Process(target=ptwo)\n",
    "          p3 = multiprocessing.Process(target=pthree)\n",
    "          \n",
    "          p1.start()\n",
    "          p2.start()\n",
    "          p3.start()\n",
    "\n",
    "          p1.join()\n",
    "          p2.join()\n",
    "          p3.join()\n",
    "\n"
   ]
  },
  {
   "cell_type": "markdown",
   "id": "3f18c9f6",
   "metadata": {},
   "source": [
    "#### 7. Create a date object of your day of birth."
   ]
  },
  {
   "cell_type": "code",
   "execution_count": 43,
   "id": "67f138f6",
   "metadata": {},
   "outputs": [
    {
     "name": "stdout",
     "output_type": "stream",
     "text": [
      "1991-01-22 00:00:00\n"
     ]
    }
   ],
   "source": [
    "from datetime import datetime\n",
    "My_date = datetime.strptime('22/01/1991','%d/%m/%Y')\n",
    "print(My_date)"
   ]
  },
  {
   "cell_type": "markdown",
   "id": "2dd5ac5e",
   "metadata": {},
   "source": [
    "#### 8. What day of the week was your day of birth?"
   ]
  },
  {
   "cell_type": "code",
   "execution_count": 45,
   "id": "150e2e17",
   "metadata": {},
   "outputs": [
    {
     "data": {
      "text/plain": [
       "'Tuesday'"
      ]
     },
     "execution_count": 45,
     "metadata": {},
     "output_type": "execute_result"
    }
   ],
   "source": [
    "from datetime import datetime\n",
    "my_date = datetime(1991,1,22)\n",
    "my_date.strftime(\"%A\")\n"
   ]
  },
  {
   "cell_type": "markdown",
   "id": "4f579f96",
   "metadata": {},
   "source": [
    "#### 9. When will you be (or when were you) 10,000 days old?"
   ]
  },
  {
   "cell_type": "code",
   "execution_count": 50,
   "id": "ccef08db",
   "metadata": {},
   "outputs": [
    {
     "name": "stdout",
     "output_type": "stream",
     "text": [
      "2018-06-09 00:00:00\n"
     ]
    }
   ],
   "source": [
    "from datetime import datetime, timedelta\n",
    "my_bob = datetime.strptime('22/01/1991','%d/%m/%Y')\n",
    "w_year = my_bob+timedelta(10000) \n",
    "print(w_year)"
   ]
  },
  {
   "cell_type": "code",
   "execution_count": null,
   "id": "7b94455f",
   "metadata": {},
   "outputs": [],
   "source": []
  }
 ],
 "metadata": {
  "kernelspec": {
   "display_name": "Python 3 (ipykernel)",
   "language": "python",
   "name": "python3"
  },
  "language_info": {
   "codemirror_mode": {
    "name": "ipython",
    "version": 3
   },
   "file_extension": ".py",
   "mimetype": "text/x-python",
   "name": "python",
   "nbconvert_exporter": "python",
   "pygments_lexer": "ipython3",
   "version": "3.9.7"
  }
 },
 "nbformat": 4,
 "nbformat_minor": 5
}
