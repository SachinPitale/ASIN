{
 "cells": [
  {
   "cell_type": "code",
   "execution_count": null,
   "id": "7024344b",
   "metadata": {},
   "outputs": [],
   "source": [
    "\"\"\"\n",
    "1. In the below elements which of them are values or an expression? eg:- values can be integer or string and expressions will be mathematical operators.\n",
    "* \n",
    "'hello'\n",
    "-87.8\n",
    "- \n",
    "/ \n",
    "+\n",
    "6 \n",
    "\"\"\"\n"
   ]
  },
  {
   "cell_type": "code",
   "execution_count": null,
   "id": "e6c3a7ac",
   "metadata": {},
   "outputs": [],
   "source": [
    "#Answer:\n",
    "# 'hello' -> string datatype\n",
    "#  -87.8 -> float\n",
    "# - -> subtraction Operator\n",
    "# /  -> Division Operator\n",
    "# + -> Addition Operator\n",
    "# 6 -> Integer Operator"
   ]
  },
  {
   "cell_type": "code",
   "execution_count": null,
   "id": "28916607",
   "metadata": {},
   "outputs": [],
   "source": []
  },
  {
   "cell_type": "code",
   "execution_count": null,
   "id": "05a071bc",
   "metadata": {},
   "outputs": [],
   "source": [
    "\"\"\"\n",
    "2. What is the difference between string and variable?\n",
    "\n",
    "Answer : \n",
    "\n",
    "String is datatype which can hold multiple char.\n",
    "Variable is dynamic memory(RAM), which store value in memory and assign the reference to that value in memory\n",
    "Variable is use in program to execution of later stage.\n",
    "\n",
    "\"\"\""
   ]
  },
  {
   "cell_type": "code",
   "execution_count": null,
   "id": "59007e95",
   "metadata": {},
   "outputs": [],
   "source": [
    "\"\"\"\n",
    "3. Describe three different data types.\n",
    "\n",
    "Answer:\n",
    "1. String : The string is Immutable, A string is the values inside the quotes assigned to a string.\n",
    "2. list: List is Mutable object, List store the collection of element with different datatype\n",
    "3. Tuple: It is Immutable object, We can add and extend the tuple once we created\n",
    "4. Dict: It is Mutable Objet, Dict store the data in key-value format\n",
    "5. int: It is integer datatype, which store only number\n",
    "6. float : Store only decimal numbers\n",
    "7. boolen: It always provide the result True and False, Based on condition we defined\n",
    "8. complex: It contain real and imaginary number like (64+8J)\n",
    "9. set: It contain unorder element as well as unique \n",
    "\"\"\""
   ]
  },
  {
   "cell_type": "code",
   "execution_count": null,
   "id": "1ce2d123",
   "metadata": {},
   "outputs": [],
   "source": []
  },
  {
   "cell_type": "code",
   "execution_count": null,
   "id": "1b53bdd3",
   "metadata": {},
   "outputs": [],
   "source": [
    "\"\"\"\n",
    "4. What is an expression made up of? What do all expressions do?\n",
    "\n",
    "Answer:\n",
    "An expression is a combination of values, variables, operators, and calls to functions. Expressions need to be evaluated.\n",
    "Using expression we can do, variable assignment opertaon as well as perform arthematic operation\n",
    "\"\"\""
   ]
  },
  {
   "cell_type": "code",
   "execution_count": null,
   "id": "9cf1b7c1",
   "metadata": {},
   "outputs": [],
   "source": []
  },
  {
   "cell_type": "code",
   "execution_count": null,
   "id": "2a2e9611",
   "metadata": {},
   "outputs": [],
   "source": [
    "\"\"\"\n",
    "5. This assignment statements, like spam = 10. What is the difference between an expression and a statement?\n",
    "\n",
    "Answer:\n",
    "Expression is made up of values, containers, and mathematical operators.\n",
    "statement is just like a command that a python interpreter executes like print.\n",
    "\"\"\""
   ]
  },
  {
   "cell_type": "code",
   "execution_count": null,
   "id": "90e639ef",
   "metadata": {},
   "outputs": [],
   "source": []
  },
  {
   "cell_type": "code",
   "execution_count": 1,
   "id": "22d6f03d",
   "metadata": {},
   "outputs": [
    {
     "data": {
      "text/plain": [
       "23"
      ]
     },
     "execution_count": 1,
     "metadata": {},
     "output_type": "execute_result"
    }
   ],
   "source": [
    "\"\"\"\n",
    "6. After running the following code, what does the variable bacon contain?\n",
    "bacon = 22\n",
    "bacon + 1\n",
    "\n",
    "Answer: \n",
    "becon will contain 23\n",
    "\"\"\"\n",
    "bacon = 22\n",
    "bacon + 1"
   ]
  },
  {
   "cell_type": "code",
   "execution_count": null,
   "id": "8db9bc78",
   "metadata": {},
   "outputs": [],
   "source": []
  },
  {
   "cell_type": "code",
   "execution_count": 4,
   "id": "4e9b47ed",
   "metadata": {},
   "outputs": [
    {
     "data": {
      "text/plain": [
       "'spamspamspam'"
      ]
     },
     "execution_count": 4,
     "metadata": {},
     "output_type": "execute_result"
    }
   ],
   "source": [
    "\"\"\"\n",
    "7. What should the values of the following two terms be?\n",
    "'spam' + 'spamspam'\n",
    "'spam' * 3\n",
    "\n",
    "Answer:\n",
    "'spam' + 'spamspam' -> spamspamspam\n",
    "'spam' * 3     -> spamspamspam\n",
    "\n",
    "\"\"\"\n",
    "'spam' + 'spamspam'\n",
    "'spam' * 3"
   ]
  },
  {
   "cell_type": "code",
   "execution_count": null,
   "id": "bddf3332",
   "metadata": {},
   "outputs": [],
   "source": []
  },
  {
   "cell_type": "code",
   "execution_count": null,
   "id": "13be77f8",
   "metadata": {},
   "outputs": [],
   "source": []
  },
  {
   "cell_type": "code",
   "execution_count": null,
   "id": "0c05b6c3",
   "metadata": {},
   "outputs": [],
   "source": [
    "\"\"\"\n",
    "8. Why is eggs a valid variable name while 100 is invalid?\n",
    "Answer :\n",
    "\n",
    "In python, Python support same standard while defining a variable,\n",
    "Python always allow to define the variable by char of underscore\n",
    "\n",
    "like:\n",
    "eggs: 10\n",
    "_eggs : 20\n",
    "\n",
    "Python doesn't support the integer while define a variable\n",
    "if we want to add any integer value in variable, we can do like this\n",
    "\n",
    "eggs10 =10\n",
    "eg10gs =10\n",
    "\"\"\""
   ]
  }
 ],
 "metadata": {
  "kernelspec": {
   "display_name": "Python 3 (ipykernel)",
   "language": "python",
   "name": "python3"
  },
  "language_info": {
   "codemirror_mode": {
    "name": "ipython",
    "version": 3
   },
   "file_extension": ".py",
   "mimetype": "text/x-python",
   "name": "python",
   "nbconvert_exporter": "python",
   "pygments_lexer": "ipython3",
   "version": "3.9.7"
  }
 },
 "nbformat": 4,
 "nbformat_minor": 5
}
