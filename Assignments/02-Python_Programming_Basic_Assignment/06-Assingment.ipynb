{
 "cells": [
  {
   "cell_type": "code",
   "execution_count": null,
   "id": "8ebebf16",
   "metadata": {},
   "outputs": [],
   "source": [
    "\"\"\"\n",
    "1.\tWrite a Python Program to Display Fibonacci Sequence Using Recursion?\n",
    "\n",
    "\"\"\""
   ]
  },
  {
   "cell_type": "code",
   "execution_count": 5,
   "id": "1af6c47b",
   "metadata": {},
   "outputs": [
    {
     "name": "stdout",
     "output_type": "stream",
     "text": [
      "Enter the your number:  10\n",
      "Fibonacci sequence:\n",
      "0\n",
      "1\n",
      "1\n",
      "2\n",
      "3\n",
      "5\n",
      "8\n",
      "13\n",
      "21\n",
      "34\n"
     ]
    }
   ],
   "source": [
    "\n",
    "\n",
    "def recur_fibo(n):\n",
    "   if n <= 1:\n",
    "       return n\n",
    "   else:\n",
    "       return(recur_fibo(n-1) + recur_fibo(n-2))\n",
    "\n",
    "nterms = int(input(\"Enter the your number:  \"))\n",
    "\n",
    "if nterms <= 0:\n",
    "   print(\"Plese enter a positive integer\")\n",
    "else:\n",
    "   print(\"Fibonacci sequence:\")\n",
    "   for i in range(nterms):\n",
    "       print(recur_fibo(i))\n"
   ]
  },
  {
   "cell_type": "code",
   "execution_count": null,
   "id": "af2451be",
   "metadata": {},
   "outputs": [],
   "source": [
    "\"\"\"\n",
    "2.\tWrite a Python Program to Find Factorial of Number Using Recursion?\n",
    "\n",
    "\"\"\""
   ]
  },
  {
   "cell_type": "code",
   "execution_count": 17,
   "id": "73d0faf1",
   "metadata": {},
   "outputs": [
    {
     "name": "stdout",
     "output_type": "stream",
     "text": [
      "Enter your Number : 9\n",
      "The factorial of 9 is 362880\n"
     ]
    }
   ],
   "source": [
    "def recur_factorial(n):\n",
    "   if n == 1:\n",
    "       return n\n",
    "   else:\n",
    "       return n*recur_factorial(n-1)\n",
    "\n",
    "num = int(input(\"Enter your Number : \"))\n",
    "\n",
    "if num < 0:\n",
    "   print(\"Sorry, factorial does not exist for negative numbers\")\n",
    "elif num == 0:\n",
    "   print(\"The factorial of 0 is 1\")\n",
    "else:\n",
    "   print(\"The factorial of\", num, \"is\", recur_factorial(num))\n"
   ]
  },
  {
   "cell_type": "code",
   "execution_count": null,
   "id": "ff79bd41",
   "metadata": {},
   "outputs": [],
   "source": [
    "\"\"\"\n",
    "\n",
    "3.\tWrite a Python Program to calculate your Body Mass Index?\n",
    "\n",
    "\"\"\""
   ]
  },
  {
   "cell_type": "code",
   "execution_count": 58,
   "id": "a08d4c08",
   "metadata": {},
   "outputs": [],
   "source": [
    "class bodyofmass:\n",
    "    def __init__(self,weight,height):\n",
    "        self.weight = weight\n",
    "        self.height = height\n",
    "    \n",
    "    def bodymass(self):\n",
    "        return   self.weight/(self.height*self.height)"
   ]
  },
  {
   "cell_type": "code",
   "execution_count": 61,
   "id": "d7b2fe1f",
   "metadata": {},
   "outputs": [],
   "source": [
    "b1 = bodyofmass(75,6)"
   ]
  },
  {
   "cell_type": "code",
   "execution_count": 62,
   "id": "935694fd",
   "metadata": {},
   "outputs": [
    {
     "data": {
      "text/plain": [
       "2.0833333333333335"
      ]
     },
     "execution_count": 62,
     "metadata": {},
     "output_type": "execute_result"
    }
   ],
   "source": [
    "b1.bodymass()"
   ]
  },
  {
   "cell_type": "code",
   "execution_count": 63,
   "id": "f26bae36",
   "metadata": {},
   "outputs": [],
   "source": [
    "b2 = bodyofmass(278,15)"
   ]
  },
  {
   "cell_type": "code",
   "execution_count": 64,
   "id": "934aca82",
   "metadata": {},
   "outputs": [
    {
     "data": {
      "text/plain": [
       "1.2355555555555555"
      ]
     },
     "execution_count": 64,
     "metadata": {},
     "output_type": "execute_result"
    }
   ],
   "source": [
    "b2.bodymass()"
   ]
  },
  {
   "cell_type": "code",
   "execution_count": null,
   "id": "81e55031",
   "metadata": {},
   "outputs": [],
   "source": []
  },
  {
   "cell_type": "code",
   "execution_count": null,
   "id": "4e5ea443",
   "metadata": {},
   "outputs": [],
   "source": [
    "\"\"\"\n",
    "4.\tWrite a Python Program to calculate the natural logarithm of any number?\n",
    "\n",
    "\"\"\""
   ]
  },
  {
   "cell_type": "code",
   "execution_count": 67,
   "id": "eef40ccf",
   "metadata": {},
   "outputs": [],
   "source": [
    "import math\n",
    "class naturalLogarithm:\n",
    "    def __init__(self,num):\n",
    "        self.num = num\n",
    "    \n",
    "    def logarithm(self):\n",
    "        return (math.log(self.num))\n",
    "        \n",
    "        "
   ]
  },
  {
   "cell_type": "code",
   "execution_count": 71,
   "id": "fae83d5d",
   "metadata": {},
   "outputs": [
    {
     "data": {
      "text/plain": [
       "3.044522437723423"
      ]
     },
     "execution_count": 71,
     "metadata": {},
     "output_type": "execute_result"
    }
   ],
   "source": [
    "c1 = naturalLogarithm(21)\n",
    "c1.logarithm()"
   ]
  },
  {
   "cell_type": "code",
   "execution_count": 72,
   "id": "676c1278",
   "metadata": {},
   "outputs": [
    {
     "data": {
      "text/plain": [
       "5.971261839790462"
      ]
     },
     "execution_count": 72,
     "metadata": {},
     "output_type": "execute_result"
    }
   ],
   "source": [
    "c2 = naturalLogarithm(392)\n",
    "c2.logarithm()\n"
   ]
  },
  {
   "cell_type": "code",
   "execution_count": null,
   "id": "e68edad5",
   "metadata": {},
   "outputs": [],
   "source": []
  },
  {
   "cell_type": "code",
   "execution_count": null,
   "id": "7d41b025",
   "metadata": {},
   "outputs": [],
   "source": [
    "\"\"\"\n",
    "5.\tWrite a Python Program for cube sum of first n natural numbers?\n",
    "\n",
    "\"\"\""
   ]
  },
  {
   "cell_type": "code",
   "execution_count": 86,
   "id": "51178bfd",
   "metadata": {},
   "outputs": [],
   "source": [
    "class naturalnumber:\n",
    "    def __init__(self,num):\n",
    "        self.num = num\n",
    "    \n",
    "    def cube_sum(self):\n",
    "        self.sum = 0\n",
    "        for i in range(1,self.num+1):\n",
    "            self.sum = self.sum + i **3\n",
    "        return self.sum"
   ]
  },
  {
   "cell_type": "code",
   "execution_count": 87,
   "id": "826a1e0a",
   "metadata": {},
   "outputs": [],
   "source": [
    "n1 = naturalnumber(5)"
   ]
  },
  {
   "cell_type": "code",
   "execution_count": 88,
   "id": "a4d1fced",
   "metadata": {},
   "outputs": [
    {
     "data": {
      "text/plain": [
       "225"
      ]
     },
     "execution_count": 88,
     "metadata": {},
     "output_type": "execute_result"
    }
   ],
   "source": [
    "n1.cube_sum()"
   ]
  },
  {
   "cell_type": "code",
   "execution_count": 89,
   "id": "e18284aa",
   "metadata": {},
   "outputs": [],
   "source": [
    "n2 = naturalnumber(27)"
   ]
  },
  {
   "cell_type": "code",
   "execution_count": 90,
   "id": "155b8bed",
   "metadata": {},
   "outputs": [
    {
     "data": {
      "text/plain": [
       "142884"
      ]
     },
     "execution_count": 90,
     "metadata": {},
     "output_type": "execute_result"
    }
   ],
   "source": [
    "n2.cube_sum()"
   ]
  },
  {
   "cell_type": "code",
   "execution_count": null,
   "id": "b801c950",
   "metadata": {},
   "outputs": [],
   "source": []
  }
 ],
 "metadata": {
  "kernelspec": {
   "display_name": "Python 3 (ipykernel)",
   "language": "python",
   "name": "python3"
  },
  "language_info": {
   "codemirror_mode": {
    "name": "ipython",
    "version": 3
   },
   "file_extension": ".py",
   "mimetype": "text/x-python",
   "name": "python",
   "nbconvert_exporter": "python",
   "pygments_lexer": "ipython3",
   "version": "3.9.7"
  }
 },
 "nbformat": 4,
 "nbformat_minor": 5
}
