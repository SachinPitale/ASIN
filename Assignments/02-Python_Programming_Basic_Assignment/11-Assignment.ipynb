{
 "cells": [
  {
   "cell_type": "markdown",
   "id": "21809638",
   "metadata": {},
   "source": [
    "# Assignment 11"
   ]
  },
  {
   "cell_type": "markdown",
   "id": "0135c1d2",
   "metadata": {},
   "source": [
    "#### 1.write a Python program to find words which are greater than given length k?"
   ]
  },
  {
   "cell_type": "code",
   "execution_count": 11,
   "id": "7a2a3d61",
   "metadata": {},
   "outputs": [
    {
     "name": "stdout",
     "output_type": "stream",
     "text": [
      "Enter the string: I am learning data science\n",
      "Enter the length of the string: 4\n"
     ]
    },
    {
     "data": {
      "text/plain": [
       "['learning', 'science']"
      ]
     },
     "execution_count": 11,
     "metadata": {},
     "output_type": "execute_result"
    }
   ],
   "source": [
    "def wordcount():\n",
    "    string = input(\"Enter the string: \")\n",
    "    num = int(input(\"Enter the length of the string: \"))\n",
    "    output = []\n",
    "    for i in string.split():\n",
    "        if len(i) > num:\n",
    "            output.append(i)\n",
    "    \n",
    "    return output\n",
    "wordcount()   "
   ]
  },
  {
   "cell_type": "markdown",
   "id": "fe408166",
   "metadata": {},
   "source": [
    "#### 2.Write a Python program for removing i-th character from a string?"
   ]
  },
  {
   "cell_type": "code",
   "execution_count": 29,
   "id": "a2a41f25",
   "metadata": {},
   "outputs": [
    {
     "name": "stdout",
     "output_type": "stream",
     "text": [
      "Enter the string: sachin\n",
      "Enter the index number, which you want to delete: 1\n",
      " schin\n"
     ]
    }
   ],
   "source": [
    "def wordcount():\n",
    "    string = input(\"Enter the string: \")\n",
    "    num = int(input(\"Enter the index number, which you want to delete: \"))\n",
    "    output = ' '\n",
    "    for i in range(len(string)):\n",
    "        if i != num:\n",
    "            output = output + string[i]\n",
    "    print(output)\n",
    "wordcount() "
   ]
  },
  {
   "cell_type": "markdown",
   "id": "67cd8d31",
   "metadata": {},
   "source": [
    "#### 3. Write a Python program to split and join a string ?"
   ]
  },
  {
   "cell_type": "code",
   "execution_count": 46,
   "id": "60366c2d",
   "metadata": {},
   "outputs": [
    {
     "name": "stdout",
     "output_type": "stream",
     "text": [
      "Enter your string:  I am learning datascience\n",
      "split string:  ['I', 'am', 'learning', 'datascience']\n",
      "join string:  I am learning datascience\n"
     ]
    }
   ],
   "source": [
    "def splitandjoin():\n",
    "    string = input(\"Enter your string:  \")\n",
    "    print(\"split string: \", string.split( ))\n",
    "    print(\"join string: \", ' '.join(string.split(' ')))\n",
    "    \n",
    "    \n",
    "splitandjoin()"
   ]
  },
  {
   "cell_type": "code",
   "execution_count": 53,
   "id": "b0fbef03",
   "metadata": {},
   "outputs": [],
   "source": [
    "import os"
   ]
  },
  {
   "cell_type": "markdown",
   "id": "0720014b",
   "metadata": {},
   "source": [
    "#### 4. Write a Python to check if a given string is binary string or not ?"
   ]
  },
  {
   "cell_type": "code",
   "execution_count": 2,
   "id": "0e538748",
   "metadata": {},
   "outputs": [
    {
     "name": "stdout",
     "output_type": "stream",
     "text": [
      "Enter your string which you want to validate:  101010\n",
      "It is a binary string\n",
      "Enter your string which you want to validate:  23478\n",
      "It is not binary string\n"
     ]
    }
   ],
   "source": [
    "def validatebinary():\n",
    "    string = input(\"Enter your string which you want to validate:  \")\n",
    "    num = 0\n",
    "    for i in string:\n",
    "        if i in ['0','1']:\n",
    "            num = 1\n",
    "            continue\n",
    "        else:\n",
    "            num = 0\n",
    "            break\n",
    "    \n",
    "    validate = 'It is a binary string' if num ==1 else 'It is not binary string'\n",
    "    print(validate)\n",
    "            \n",
    "    \n",
    "\n",
    "validatebinary()\n",
    "validatebinary()    "
   ]
  },
  {
   "cell_type": "markdown",
   "id": "289251df",
   "metadata": {},
   "source": [
    "#### 5. Write a Python program to find uncommon words from two Strings ?"
   ]
  },
  {
   "cell_type": "code",
   "execution_count": 17,
   "id": "39b3db17",
   "metadata": {},
   "outputs": [
    {
     "name": "stdout",
     "output_type": "stream",
     "text": [
      "Enter your 1st string:  Machine Learning\n",
      "Enter your 2nd string:  Deep Learning\n",
      "{'Machine', 'Deep'}\n"
     ]
    }
   ],
   "source": [
    "def uncommonwords():\n",
    "    string_1 = set(input(\"Enter your 1st string:  \").split( ' '))\n",
    "    string_2 = set(input(\"Enter your 2nd string:  \").split( ' '))\n",
    "    uncommon = string_1.union(string_2).difference(string_1.intersection(string_2))\n",
    "    print(uncommon)\n",
    "\n",
    "uncommonwords()"
   ]
  },
  {
   "cell_type": "markdown",
   "id": "a59743d2",
   "metadata": {},
   "source": [
    "#### 6. Write a Python to find all duplicate characters in string ?"
   ]
  },
  {
   "cell_type": "code",
   "execution_count": 23,
   "id": "e0dc944f",
   "metadata": {},
   "outputs": [
    {
     "name": "stdout",
     "output_type": "stream",
     "text": [
      "Enter your string: I am learning data science\n",
      "Duplicate characters are ['a', ' ', 'n', 'e', 'c', 'i']\n"
     ]
    }
   ],
   "source": [
    "def duplicateChars():\n",
    "    in_string = input(\"Enter your string: \")\n",
    "    non_duplicate = [] \n",
    "    duplicate = []\n",
    "    for i in in_string:\n",
    "        if i not in non_duplicate:\n",
    "            non_duplicate.append(i)\n",
    "        else:\n",
    "            duplicate.append(i)\n",
    "    print(f'Duplicate characters are {list(set(duplicate))}')\n",
    "\n",
    "duplicateChars()      "
   ]
  },
  {
   "cell_type": "markdown",
   "id": "f3645537",
   "metadata": {},
   "source": [
    "#### 7. Write a Python Program to check if a string contains any special character?"
   ]
  },
  {
   "cell_type": "code",
   "execution_count": 24,
   "id": "e20d19da",
   "metadata": {},
   "outputs": [
    {
     "name": "stdout",
     "output_type": "stream",
     "text": [
      "Enter you string:  sachinpitale@abc.com\n",
      "special character {'@'}\n"
     ]
    }
   ],
   "source": [
    "def validatespecialchar():\n",
    "    spl_chars = '[@_!#$%^&*()<>?/\\|}{~:]'\n",
    "    string = input(\"Enter you string:  \")\n",
    "    special_char_list = []\n",
    "    for i in string:\n",
    "        if i in spl_chars:\n",
    "            special_char_list.append(i)\n",
    "        \n",
    "    print(f'special character {set(special_char_list)}')\n",
    "validatespecialchar()"
   ]
  },
  {
   "cell_type": "code",
   "execution_count": null,
   "id": "6f9cff37",
   "metadata": {},
   "outputs": [],
   "source": []
  }
 ],
 "metadata": {
  "kernelspec": {
   "display_name": "Python 3 (ipykernel)",
   "language": "python",
   "name": "python3"
  },
  "language_info": {
   "codemirror_mode": {
    "name": "ipython",
    "version": 3
   },
   "file_extension": ".py",
   "mimetype": "text/x-python",
   "name": "python",
   "nbconvert_exporter": "python",
   "pygments_lexer": "ipython3",
   "version": "3.9.7"
  }
 },
 "nbformat": 4,
 "nbformat_minor": 5
}
