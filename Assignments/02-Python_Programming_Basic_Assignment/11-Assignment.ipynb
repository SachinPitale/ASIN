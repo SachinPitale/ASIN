{
 "cells": [
  {
   "cell_type": "code",
   "execution_count": null,
   "id": "063ed9e3",
   "metadata": {},
   "outputs": [],
   "source": [
    "\"\"\"\n",
    "1.\tWrite a Python program to find words which are greater than given length k?\n",
    "\"\"\""
   ]
  },
  {
   "cell_type": "code",
   "execution_count": 14,
   "id": "7a2a3d61",
   "metadata": {},
   "outputs": [],
   "source": [
    "def wordcount(a,b):\n",
    "    \"\"\"\n",
    "    The function will accept two user input parameter\n",
    "    1. string: It will contain user message\n",
    "    2. lenght: it would be integer value to check length\n",
    "    \"\"\"\n",
    "    l1 = []\n",
    "    l=a.split()\n",
    "    for i in l:\n",
    "        if b < len(i):\n",
    "            l1.append(i)\n",
    "\n",
    "    return l1\n",
    "            \n"
   ]
  },
  {
   "cell_type": "raw",
   "id": "7ac8aa3e",
   "metadata": {},
   "source": [
    "wordcount(\"I am learning data science\",7)"
   ]
  },
  {
   "cell_type": "code",
   "execution_count": 15,
   "id": "4d3d5c6e",
   "metadata": {},
   "outputs": [
    {
     "data": {
      "text/plain": [
       "['learning']"
      ]
     },
     "execution_count": 15,
     "metadata": {},
     "output_type": "execute_result"
    }
   ],
   "source": [
    "wordcount(\"I am learning data science\",7)"
   ]
  },
  {
   "cell_type": "code",
   "execution_count": 16,
   "id": "e4848c9c",
   "metadata": {},
   "outputs": [
    {
     "data": {
      "text/plain": [
       "['learning', 'science']"
      ]
     },
     "execution_count": 16,
     "metadata": {},
     "output_type": "execute_result"
    }
   ],
   "source": [
    "wordcount(\"I am learning data science\",5)"
   ]
  },
  {
   "cell_type": "code",
   "execution_count": null,
   "id": "f0d29487",
   "metadata": {},
   "outputs": [],
   "source": [
    "\"\"\"\n",
    "2.\tWrite a Python program for removing i-th character from a string?\n",
    "\n",
    "\"\"\""
   ]
  }
 ],
 "metadata": {
  "kernelspec": {
   "display_name": "Python 3 (ipykernel)",
   "language": "python",
   "name": "python3"
  },
  "language_info": {
   "codemirror_mode": {
    "name": "ipython",
    "version": 3
   },
   "file_extension": ".py",
   "mimetype": "text/x-python",
   "name": "python",
   "nbconvert_exporter": "python",
   "pygments_lexer": "ipython3",
   "version": "3.9.7"
  }
 },
 "nbformat": 4,
 "nbformat_minor": 5
}
