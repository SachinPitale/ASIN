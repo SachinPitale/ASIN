{
 "cells": [
  {
   "cell_type": "code",
   "execution_count": null,
   "id": "98b8c223",
   "metadata": {},
   "outputs": [],
   "source": [
    "\"\"\"\n",
    "1.\tWrite a Python Program to Find LCM?\n",
    "\n",
    "\"\"\""
   ]
  },
  {
   "cell_type": "code",
   "execution_count": 1,
   "id": "9de7f29f",
   "metadata": {},
   "outputs": [],
   "source": [
    "class computelcm:\n",
    "    def __init__(self,num1,num2):\n",
    "        self.num1 = num1\n",
    "        self.num2 = num2\n",
    "    \n",
    "    def lcm(self):\n",
    "        if self.num1 > self.num2:\n",
    "            self.greater = self.num1\n",
    "        else:\n",
    "            self.greater = self.num2\n",
    "        \n",
    "        while(True):\n",
    "            if ((self.greater % self.num1 == 0) and (self.greater % self.num2 == 0)):\n",
    "                lc = self.greater\n",
    "                break\n",
    "            self.greater += 1\n",
    "        \n",
    "        return lc\n",
    "    "
   ]
  },
  {
   "cell_type": "code",
   "execution_count": 5,
   "id": "45816d39",
   "metadata": {},
   "outputs": [],
   "source": [
    "c1 = computelcm(56,78)"
   ]
  },
  {
   "cell_type": "code",
   "execution_count": 6,
   "id": "bf78fcbf",
   "metadata": {},
   "outputs": [
    {
     "data": {
      "text/plain": [
       "2184"
      ]
     },
     "execution_count": 6,
     "metadata": {},
     "output_type": "execute_result"
    }
   ],
   "source": [
    "c1.lcm()"
   ]
  },
  {
   "cell_type": "code",
   "execution_count": 8,
   "id": "919e1c10",
   "metadata": {},
   "outputs": [],
   "source": [
    "c2 = computelcm(156,278)"
   ]
  },
  {
   "cell_type": "code",
   "execution_count": 9,
   "id": "1713126b",
   "metadata": {},
   "outputs": [
    {
     "data": {
      "text/plain": [
       "21684"
      ]
     },
     "execution_count": 9,
     "metadata": {},
     "output_type": "execute_result"
    }
   ],
   "source": [
    "c2.lcm()"
   ]
  },
  {
   "cell_type": "code",
   "execution_count": null,
   "id": "08ad5260",
   "metadata": {},
   "outputs": [],
   "source": [
    "\"\"\"\n",
    "2.\tWrite a Python Program to Find HCF?\n",
    "\n",
    "\"\"\""
   ]
  },
  {
   "cell_type": "code",
   "execution_count": 12,
   "id": "c72f9f2d",
   "metadata": {},
   "outputs": [],
   "source": [
    "class computehcm:\n",
    "    def __init__(self,num1,num2):\n",
    "        self.num1 = num1\n",
    "        self.num2 = num2\n",
    "    \n",
    "    def hcm(self):\n",
    "        if self.num1 < self.num2:\n",
    "            self.smaller = self.num1\n",
    "        else:\n",
    "            self.smaller = self.num2\n",
    "        \n",
    "        for i in range(1, self.smaller+1):\n",
    "            if ((self.num1 % i == 0) and (self.num2 % i == 0)):\n",
    "                hc = i\n",
    "            \n",
    "        \n",
    "        return hc"
   ]
  },
  {
   "cell_type": "code",
   "execution_count": 15,
   "id": "42da6676",
   "metadata": {},
   "outputs": [],
   "source": [
    "ch1 = computehcm(154,224)"
   ]
  },
  {
   "cell_type": "code",
   "execution_count": 16,
   "id": "d0d72a9d",
   "metadata": {},
   "outputs": [
    {
     "data": {
      "text/plain": [
       "14"
      ]
     },
     "execution_count": 16,
     "metadata": {},
     "output_type": "execute_result"
    }
   ],
   "source": [
    "ch1.hcm()"
   ]
  },
  {
   "cell_type": "code",
   "execution_count": 21,
   "id": "ec198c9b",
   "metadata": {},
   "outputs": [],
   "source": [
    "ch2 = computehcm(152,228)"
   ]
  },
  {
   "cell_type": "code",
   "execution_count": 22,
   "id": "51171d06",
   "metadata": {},
   "outputs": [
    {
     "data": {
      "text/plain": [
       "76"
      ]
     },
     "execution_count": 22,
     "metadata": {},
     "output_type": "execute_result"
    }
   ],
   "source": [
    "ch2.hcm()"
   ]
  },
  {
   "cell_type": "code",
   "execution_count": null,
   "id": "d7ae8831",
   "metadata": {},
   "outputs": [],
   "source": [
    "\"\"\"\n",
    "\n",
    "3.\tWrite a Python Program to Convert Decimal to Binary, Octal and Hexadecimal?\n",
    "\n",
    "\"\"\""
   ]
  },
  {
   "cell_type": "code",
   "execution_count": 23,
   "id": "395314b8",
   "metadata": {},
   "outputs": [],
   "source": [
    "class numcoversion:\n",
    "    def __init__(self,num):\n",
    "        self.num = num\n",
    "    \n",
    "    def Binary(self):\n",
    "        return bin(self.num)\n",
    "    def Octal(self):\n",
    "        return oct(self.num)\n",
    "    def Hexadecimal(self):\n",
    "        return hex(self.num)"
   ]
  },
  {
   "cell_type": "code",
   "execution_count": 28,
   "id": "b28eae0a",
   "metadata": {},
   "outputs": [],
   "source": [
    "n1 = numcoversion(367)"
   ]
  },
  {
   "cell_type": "code",
   "execution_count": 29,
   "id": "b1e1cbfe",
   "metadata": {},
   "outputs": [
    {
     "data": {
      "text/plain": [
       "'0b101101111'"
      ]
     },
     "execution_count": 29,
     "metadata": {},
     "output_type": "execute_result"
    }
   ],
   "source": [
    "n1.Binary()"
   ]
  },
  {
   "cell_type": "code",
   "execution_count": 30,
   "id": "1813e926",
   "metadata": {},
   "outputs": [
    {
     "data": {
      "text/plain": [
       "'0x16f'"
      ]
     },
     "execution_count": 30,
     "metadata": {},
     "output_type": "execute_result"
    }
   ],
   "source": [
    "n1.Hexadecimal()"
   ]
  },
  {
   "cell_type": "code",
   "execution_count": 31,
   "id": "1a2b40ba",
   "metadata": {},
   "outputs": [
    {
     "data": {
      "text/plain": [
       "'0o557'"
      ]
     },
     "execution_count": 31,
     "metadata": {},
     "output_type": "execute_result"
    }
   ],
   "source": [
    "n1.Octal()"
   ]
  },
  {
   "cell_type": "code",
   "execution_count": null,
   "id": "1b740c7c",
   "metadata": {},
   "outputs": [],
   "source": []
  },
  {
   "cell_type": "code",
   "execution_count": null,
   "id": "1cb63724",
   "metadata": {},
   "outputs": [],
   "source": [
    "\"\"\"\n",
    "4.\tWrite a Python Program To Find ASCII value of a character?\n",
    "\n",
    "\"\"\""
   ]
  },
  {
   "cell_type": "code",
   "execution_count": 33,
   "id": "9c7d7c10",
   "metadata": {},
   "outputs": [],
   "source": [
    "class findascii:\n",
    "    def __init__(self,char):\n",
    "        self.char = char\n",
    "    \n",
    "    \n",
    "    def ascii(self):\n",
    "        return ord(self.char)"
   ]
  },
  {
   "cell_type": "code",
   "execution_count": 39,
   "id": "68d0140f",
   "metadata": {},
   "outputs": [],
   "source": [
    "c1 = findascii('q')"
   ]
  },
  {
   "cell_type": "code",
   "execution_count": 40,
   "id": "0b9491b7",
   "metadata": {},
   "outputs": [
    {
     "data": {
      "text/plain": [
       "113"
      ]
     },
     "execution_count": 40,
     "metadata": {},
     "output_type": "execute_result"
    }
   ],
   "source": [
    "c1.ascii()"
   ]
  },
  {
   "cell_type": "code",
   "execution_count": 43,
   "id": "b7ceceda",
   "metadata": {},
   "outputs": [],
   "source": [
    "c2 = findascii('S')"
   ]
  },
  {
   "cell_type": "code",
   "execution_count": 44,
   "id": "81e5225a",
   "metadata": {},
   "outputs": [
    {
     "data": {
      "text/plain": [
       "83"
      ]
     },
     "execution_count": 44,
     "metadata": {},
     "output_type": "execute_result"
    }
   ],
   "source": [
    "c2.ascii()"
   ]
  },
  {
   "cell_type": "code",
   "execution_count": null,
   "id": "d561b1f2",
   "metadata": {},
   "outputs": [],
   "source": []
  },
  {
   "cell_type": "code",
   "execution_count": null,
   "id": "9d0770d0",
   "metadata": {},
   "outputs": [],
   "source": [
    "\"\"\"\n",
    "5.\tWrite a Python Program to Make a Simple Calculator with 4 basic mathematical operations?\n",
    "\"\"\""
   ]
  },
  {
   "cell_type": "code",
   "execution_count": 51,
   "id": "b3d5baa6",
   "metadata": {},
   "outputs": [],
   "source": [
    "class cal:\n",
    "    def __init__(self,num1,num2):\n",
    "        self.num1 = num1\n",
    "        self.num2 = num2\n",
    "    \n",
    "    \n",
    "    def add(self):\n",
    "        return self.num1 + self.num2\n",
    "    \n",
    "    \n",
    "    def sub(self):\n",
    "        return self.num1 - self.num2\n",
    "    \n",
    "    def mul(self):\n",
    "        return self.num1 * self.num2\n",
    "    \n",
    "    def div(self):\n",
    "        return self.num1 / self.num2\n",
    "    \n",
    "    \n",
    "    \n",
    "    "
   ]
  },
  {
   "cell_type": "code",
   "execution_count": 52,
   "id": "8000edd4",
   "metadata": {},
   "outputs": [],
   "source": [
    "c1 = cal(20,10)"
   ]
  },
  {
   "cell_type": "code",
   "execution_count": 53,
   "id": "88a0ef20",
   "metadata": {},
   "outputs": [
    {
     "data": {
      "text/plain": [
       "30"
      ]
     },
     "execution_count": 53,
     "metadata": {},
     "output_type": "execute_result"
    }
   ],
   "source": [
    "c1.add()"
   ]
  },
  {
   "cell_type": "code",
   "execution_count": 54,
   "id": "6442a979",
   "metadata": {},
   "outputs": [
    {
     "data": {
      "text/plain": [
       "10"
      ]
     },
     "execution_count": 54,
     "metadata": {},
     "output_type": "execute_result"
    }
   ],
   "source": [
    "c1.sub()"
   ]
  },
  {
   "cell_type": "code",
   "execution_count": 55,
   "id": "b556a50d",
   "metadata": {},
   "outputs": [
    {
     "data": {
      "text/plain": [
       "200"
      ]
     },
     "execution_count": 55,
     "metadata": {},
     "output_type": "execute_result"
    }
   ],
   "source": [
    "c1.mul()"
   ]
  },
  {
   "cell_type": "code",
   "execution_count": 56,
   "id": "43b26dc6",
   "metadata": {},
   "outputs": [
    {
     "data": {
      "text/plain": [
       "2.0"
      ]
     },
     "execution_count": 56,
     "metadata": {},
     "output_type": "execute_result"
    }
   ],
   "source": [
    "c1.div()"
   ]
  },
  {
   "cell_type": "code",
   "execution_count": null,
   "id": "bceb4505",
   "metadata": {},
   "outputs": [],
   "source": []
  }
 ],
 "metadata": {
  "kernelspec": {
   "display_name": "Python 3 (ipykernel)",
   "language": "python",
   "name": "python3"
  },
  "language_info": {
   "codemirror_mode": {
    "name": "ipython",
    "version": 3
   },
   "file_extension": ".py",
   "mimetype": "text/x-python",
   "name": "python",
   "nbconvert_exporter": "python",
   "pygments_lexer": "ipython3",
   "version": "3.9.7"
  }
 },
 "nbformat": 4,
 "nbformat_minor": 5
}
