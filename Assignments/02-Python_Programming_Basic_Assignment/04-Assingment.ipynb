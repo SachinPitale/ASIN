{
 "cells": [
  {
   "cell_type": "code",
   "execution_count": null,
   "id": "1f2ee39a",
   "metadata": {},
   "outputs": [],
   "source": [
    "\"\"\"\n",
    "1.\tWrite a Python Program to Find the Factorial of a Number?\n",
    "\n",
    "\"\"\""
   ]
  },
  {
   "cell_type": "code",
   "execution_count": 15,
   "id": "4f2152ec",
   "metadata": {},
   "outputs": [],
   "source": [
    "class factorialnum:\n",
    "    def __init__(self,num):\n",
    "        self.num = num\n",
    "    \n",
    "    def factorial(self):\n",
    "        self.f = 1\n",
    "        if self.num < 0:\n",
    "            return \"Factorial doesn't exist for negative number\", self.num\n",
    "        elif self.num == 0:\n",
    "            return \"Factorial of 0 is 1\"\n",
    "        else:\n",
    "            for i in range(1,self.num +1):\n",
    "                self.f = self.f * i \n",
    "            return \"Factorial of\", self.num, \"is => \", self.f\n",
    "        "
   ]
  },
  {
   "cell_type": "code",
   "execution_count": 16,
   "id": "7ecb8e9b",
   "metadata": {},
   "outputs": [],
   "source": [
    "f1 = factorialnum(3)"
   ]
  },
  {
   "cell_type": "code",
   "execution_count": 17,
   "id": "6f70a0c1",
   "metadata": {},
   "outputs": [
    {
     "data": {
      "text/plain": [
       "('Factorial of', 3, 'is => ', 6)"
      ]
     },
     "execution_count": 17,
     "metadata": {},
     "output_type": "execute_result"
    }
   ],
   "source": [
    "f1.factorial()"
   ]
  },
  {
   "cell_type": "code",
   "execution_count": 18,
   "id": "54c589d0",
   "metadata": {},
   "outputs": [],
   "source": [
    "f2 = factorialnum(10)"
   ]
  },
  {
   "cell_type": "code",
   "execution_count": 19,
   "id": "a759d969",
   "metadata": {},
   "outputs": [
    {
     "data": {
      "text/plain": [
       "('Factorial of', 10, 'is => ', 3628800)"
      ]
     },
     "execution_count": 19,
     "metadata": {},
     "output_type": "execute_result"
    }
   ],
   "source": [
    "f2.factorial()"
   ]
  },
  {
   "cell_type": "code",
   "execution_count": null,
   "id": "799b1c7f",
   "metadata": {},
   "outputs": [],
   "source": []
  },
  {
   "cell_type": "code",
   "execution_count": null,
   "id": "94f090fb",
   "metadata": {},
   "outputs": [],
   "source": [
    "\"\"\"\n",
    "2.\tWrite a Python Program to Display the multiplication Table?\n",
    "\n",
    "\"\"\""
   ]
  },
  {
   "cell_type": "code",
   "execution_count": 24,
   "id": "70f9785f",
   "metadata": {},
   "outputs": [],
   "source": [
    "class table:\n",
    "    def __init__(self,num):\n",
    "        self.num = num\n",
    "    \n",
    "    def multiplication(self):\n",
    "        for i in range(1,11):\n",
    "            print (self.num ,'*', i, \" =>\", self.num*i )"
   ]
  },
  {
   "cell_type": "code",
   "execution_count": 25,
   "id": "2a43a7d4",
   "metadata": {},
   "outputs": [],
   "source": [
    "t1 = table(10)"
   ]
  },
  {
   "cell_type": "code",
   "execution_count": 26,
   "id": "57baf6fa",
   "metadata": {},
   "outputs": [
    {
     "name": "stdout",
     "output_type": "stream",
     "text": [
      "10 * 1  => 10\n",
      "10 * 2  => 20\n",
      "10 * 3  => 30\n",
      "10 * 4  => 40\n",
      "10 * 5  => 50\n",
      "10 * 6  => 60\n",
      "10 * 7  => 70\n",
      "10 * 8  => 80\n",
      "10 * 9  => 90\n",
      "10 * 10  => 100\n"
     ]
    }
   ],
   "source": [
    "t1.multiplication()"
   ]
  },
  {
   "cell_type": "code",
   "execution_count": 29,
   "id": "5fdcbd1a",
   "metadata": {},
   "outputs": [],
   "source": [
    "t2 = table(27)"
   ]
  },
  {
   "cell_type": "code",
   "execution_count": 30,
   "id": "78cacceb",
   "metadata": {},
   "outputs": [
    {
     "name": "stdout",
     "output_type": "stream",
     "text": [
      "27 * 1  => 27\n",
      "27 * 2  => 54\n",
      "27 * 3  => 81\n",
      "27 * 4  => 108\n",
      "27 * 5  => 135\n",
      "27 * 6  => 162\n",
      "27 * 7  => 189\n",
      "27 * 8  => 216\n",
      "27 * 9  => 243\n",
      "27 * 10  => 270\n"
     ]
    }
   ],
   "source": [
    "t2.multiplication()"
   ]
  },
  {
   "cell_type": "code",
   "execution_count": null,
   "id": "8fb6d51b",
   "metadata": {},
   "outputs": [],
   "source": []
  },
  {
   "cell_type": "code",
   "execution_count": null,
   "id": "2cc43833",
   "metadata": {},
   "outputs": [],
   "source": []
  },
  {
   "cell_type": "code",
   "execution_count": null,
   "id": "7ba4c5c5",
   "metadata": {},
   "outputs": [],
   "source": [
    "\"\"\"\n",
    "3.\tWrite a Python Program to Print the Fibonacci sequence?\n",
    "\n",
    "\"\"\""
   ]
  },
  {
   "cell_type": "code",
   "execution_count": 37,
   "id": "5c68470d",
   "metadata": {},
   "outputs": [],
   "source": [
    "class Fibonaccisequence:\n",
    "    def __init__(self, num):\n",
    "        self.num = num\n",
    "    \n",
    "    def Fibonacci(self):\n",
    "        output = []\n",
    "        self.a = 1\n",
    "        self.b = 1\n",
    "        \n",
    "        for i in range(self.num):\n",
    "            output.append(self.a)\n",
    "            self.a,self.b = self.b, self.b + self.a\n",
    "        return output"
   ]
  },
  {
   "cell_type": "code",
   "execution_count": 38,
   "id": "d3001ac0",
   "metadata": {},
   "outputs": [],
   "source": [
    "fi1 = Fibonaccisequence(10)"
   ]
  },
  {
   "cell_type": "code",
   "execution_count": 39,
   "id": "35d255e0",
   "metadata": {},
   "outputs": [
    {
     "data": {
      "text/plain": [
       "[1, 1, 2, 3, 5, 8, 13, 21, 34, 55]"
      ]
     },
     "execution_count": 39,
     "metadata": {},
     "output_type": "execute_result"
    }
   ],
   "source": [
    "fi1.Fibonacci()"
   ]
  },
  {
   "cell_type": "code",
   "execution_count": 40,
   "id": "cd9fa57e",
   "metadata": {},
   "outputs": [],
   "source": [
    "fi2 = Fibonaccisequence(15)"
   ]
  },
  {
   "cell_type": "code",
   "execution_count": 41,
   "id": "1d405412",
   "metadata": {},
   "outputs": [
    {
     "data": {
      "text/plain": [
       "[1, 1, 2, 3, 5, 8, 13, 21, 34, 55, 89, 144, 233, 377, 610]"
      ]
     },
     "execution_count": 41,
     "metadata": {},
     "output_type": "execute_result"
    }
   ],
   "source": [
    "fi2.Fibonacci()"
   ]
  },
  {
   "cell_type": "code",
   "execution_count": null,
   "id": "a91b0fe1",
   "metadata": {},
   "outputs": [],
   "source": []
  },
  {
   "cell_type": "code",
   "execution_count": null,
   "id": "94cb5fbd",
   "metadata": {},
   "outputs": [],
   "source": [
    "\"\"\"\n",
    "4.\tWrite a Python Program to Check Armstrong Number?\n",
    "\n",
    "\"\"\""
   ]
  },
  {
   "cell_type": "code",
   "execution_count": 75,
   "id": "b7b5acd5",
   "metadata": {},
   "outputs": [],
   "source": [
    "class ArmstrongNum:\n",
    "    def __init__(self,num):\n",
    "        self.num = num\n",
    "    \n",
    "    def Armstrong(self):\n",
    "        self.sum = 0\n",
    "        self.temp = self.num\n",
    "        \n",
    "        while self.temp > 0:\n",
    "            d = self.temp % 10\n",
    "            self.sum += d ** 3\n",
    "            self.temp //= 10\n",
    "        \n",
    "        if self.num == self.temp:\n",
    "            return \"your number is an Armstrong number\", self.num\n",
    "        else:\n",
    "            return \"your number isn't an Armstrong number\", self.num"
   ]
  },
  {
   "cell_type": "code",
   "execution_count": 76,
   "id": "6d26074a",
   "metadata": {},
   "outputs": [],
   "source": [
    "a1 = ArmstrongNum(153)"
   ]
  },
  {
   "cell_type": "code",
   "execution_count": 77,
   "id": "b55eac2b",
   "metadata": {},
   "outputs": [
    {
     "data": {
      "text/plain": [
       "(\"your number isn't an Armstrong number\", 153)"
      ]
     },
     "execution_count": 77,
     "metadata": {},
     "output_type": "execute_result"
    }
   ],
   "source": [
    "a1.Armstrong()"
   ]
  },
  {
   "cell_type": "code",
   "execution_count": 78,
   "id": "4f51b435",
   "metadata": {},
   "outputs": [],
   "source": [
    "a2 = ArmstrongNum(278)"
   ]
  },
  {
   "cell_type": "code",
   "execution_count": 79,
   "id": "28ae5227",
   "metadata": {},
   "outputs": [
    {
     "data": {
      "text/plain": [
       "(\"your number isn't an Armstrong number\", 278)"
      ]
     },
     "execution_count": 79,
     "metadata": {},
     "output_type": "execute_result"
    }
   ],
   "source": [
    "a2.Armstrong()"
   ]
  },
  {
   "cell_type": "code",
   "execution_count": null,
   "id": "82d1233a",
   "metadata": {},
   "outputs": [],
   "source": []
  },
  {
   "cell_type": "code",
   "execution_count": null,
   "id": "f88abdf3",
   "metadata": {},
   "outputs": [],
   "source": [
    "\"\"\"\n",
    "5.\tWrite a Python Program to Find Armstrong Number in an Interval?\n",
    "\n",
    "\"\"\""
   ]
  },
  {
   "cell_type": "code",
   "execution_count": 105,
   "id": "31e33f31",
   "metadata": {},
   "outputs": [
    {
     "name": "stdout",
     "output_type": "stream",
     "text": [
      "number is an Armstrong number 1\n",
      "number is an Armstrong number 153\n",
      "number is an Armstrong number 370\n",
      "number is an Armstrong number 371\n",
      "number is an Armstrong number 407\n"
     ]
    }
   ],
   "source": [
    "sum = 0\n",
    "for num in range(1, 1000):\n",
    "    temp = num\n",
    "    sum = 0\n",
    "    while temp > 0:\n",
    "        d = temp % 10\n",
    "        sum += d ** 3\n",
    "        temp //= 10\n",
    "    \n",
    "    if num == sum:\n",
    "        print (\"number is an Armstrong number\", num)\n",
    "    \n",
    "    \n",
    "    \n",
    "    "
   ]
  },
  {
   "cell_type": "code",
   "execution_count": null,
   "id": "c2e9f89b",
   "metadata": {},
   "outputs": [],
   "source": []
  },
  {
   "cell_type": "code",
   "execution_count": null,
   "id": "3a66be86",
   "metadata": {},
   "outputs": [],
   "source": [
    "\"\"\"\n",
    "6.\tWrite a Python Program to Find the Sum of Natural Numbers?\n",
    "\n",
    "\"\"\""
   ]
  },
  {
   "cell_type": "code",
   "execution_count": 83,
   "id": "925a1088",
   "metadata": {},
   "outputs": [],
   "source": [
    "class sumofnaturalnumber:\n",
    "    def __init__(self,num):\n",
    "        self.num = num\n",
    "    \n",
    "    \n",
    "    def sum(self):\n",
    "        s = 0\n",
    "        for i in range(1,self.num +1):\n",
    "            s = s + i\n",
    "        return s"
   ]
  },
  {
   "cell_type": "code",
   "execution_count": 84,
   "id": "7c8ccfbc",
   "metadata": {},
   "outputs": [],
   "source": [
    "s1 = sumofnaturalnumber(9)"
   ]
  },
  {
   "cell_type": "code",
   "execution_count": 85,
   "id": "f8d312cb",
   "metadata": {},
   "outputs": [
    {
     "data": {
      "text/plain": [
       "45"
      ]
     },
     "execution_count": 85,
     "metadata": {},
     "output_type": "execute_result"
    }
   ],
   "source": [
    "s1.sum()"
   ]
  },
  {
   "cell_type": "code",
   "execution_count": 86,
   "id": "4547e69e",
   "metadata": {},
   "outputs": [],
   "source": [
    "s2 = sumofnaturalnumber(16)"
   ]
  },
  {
   "cell_type": "code",
   "execution_count": 87,
   "id": "cdff4bce",
   "metadata": {},
   "outputs": [
    {
     "data": {
      "text/plain": [
       "136"
      ]
     },
     "execution_count": 87,
     "metadata": {},
     "output_type": "execute_result"
    }
   ],
   "source": [
    "s2.sum()"
   ]
  },
  {
   "cell_type": "code",
   "execution_count": null,
   "id": "93591555",
   "metadata": {},
   "outputs": [],
   "source": []
  }
 ],
 "metadata": {
  "kernelspec": {
   "display_name": "Python 3 (ipykernel)",
   "language": "python",
   "name": "python3"
  },
  "language_info": {
   "codemirror_mode": {
    "name": "ipython",
    "version": 3
   },
   "file_extension": ".py",
   "mimetype": "text/x-python",
   "name": "python",
   "nbconvert_exporter": "python",
   "pygments_lexer": "ipython3",
   "version": "3.9.7"
  }
 },
 "nbformat": 4,
 "nbformat_minor": 5
}
