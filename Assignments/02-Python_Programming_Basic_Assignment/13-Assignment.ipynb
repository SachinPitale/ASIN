{
 "cells": [
  {
   "cell_type": "markdown",
   "id": "47998c0f",
   "metadata": {},
   "source": [
    "# Assignment 13"
   ]
  },
  {
   "cell_type": "markdown",
   "id": "b11a49ac",
   "metadata": {},
   "source": [
    "#### 1.Write a program that calculates and prints the value according to the given formula:\n",
    "`Q = Square root of [(2 * C * D)/H]`  \n",
    "Following are the fixed values of C and H:  \n",
    "C is 50. H is 30.  \n",
    "D is the variable whose values should be input to your program in a comma-separated sequence.  \n",
    "**Example:** Let us assume the following comma separated input sequence is given to the program:`100,150,180`  \n",
    "The output of the program should be:  `18,22,24`    "
   ]
  },
  {
   "cell_type": "markdown",
   "id": "cff38658",
   "metadata": {},
   "source": []
  }
 ],
 "metadata": {
  "kernelspec": {
   "display_name": "Python 3 (ipykernel)",
   "language": "python",
   "name": "python3"
  },
  "language_info": {
   "codemirror_mode": {
    "name": "ipython",
    "version": 3
   },
   "file_extension": ".py",
   "mimetype": "text/x-python",
   "name": "python",
   "nbconvert_exporter": "python",
   "pygments_lexer": "ipython3",
   "version": "3.9.7"
  }
 },
 "nbformat": 4,
 "nbformat_minor": 5
}
