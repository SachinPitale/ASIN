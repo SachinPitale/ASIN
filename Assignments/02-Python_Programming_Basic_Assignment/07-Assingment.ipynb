{
 "cells": [
  {
   "cell_type": "code",
   "execution_count": null,
   "id": "d737deb5",
   "metadata": {},
   "outputs": [],
   "source": [
    "\"\"\"\n",
    "1.\tWrite a Python Program to find sum of array?\n",
    "\"\"\""
   ]
  },
  {
   "cell_type": "code",
   "execution_count": 1,
   "id": "5b9ef5d2",
   "metadata": {},
   "outputs": [],
   "source": [
    "import sys\n",
    "class array:\n",
    "    def __init__(self,numbers):\n",
    "        self.numbers = numbers\n",
    "        if type(self.numbers) != list:\n",
    "            sys.exit()\n",
    "    \n",
    "    def sum(self):\n",
    "        total = 0\n",
    "        for i in self.numbers:\n",
    "            total = total + i\n",
    "        \n",
    "        return total\n",
    "            \n",
    "            \n",
    "    \n",
    "    \n",
    "    "
   ]
  },
  {
   "cell_type": "code",
   "execution_count": 2,
   "id": "f9087e28",
   "metadata": {},
   "outputs": [],
   "source": [
    "a1 = array([2,3,7,9])"
   ]
  },
  {
   "cell_type": "code",
   "execution_count": 3,
   "id": "b0694237",
   "metadata": {},
   "outputs": [
    {
     "data": {
      "text/plain": [
       "21"
      ]
     },
     "execution_count": 3,
     "metadata": {},
     "output_type": "execute_result"
    }
   ],
   "source": [
    "a1.sum()"
   ]
  },
  {
   "cell_type": "code",
   "execution_count": 4,
   "id": "e095b8bb",
   "metadata": {},
   "outputs": [],
   "source": [
    "a2 = array([2,3,7,9,11,15])"
   ]
  },
  {
   "cell_type": "code",
   "execution_count": 5,
   "id": "3713be0f",
   "metadata": {},
   "outputs": [
    {
     "data": {
      "text/plain": [
       "47"
      ]
     },
     "execution_count": 5,
     "metadata": {},
     "output_type": "execute_result"
    }
   ],
   "source": [
    "a2.sum()"
   ]
  },
  {
   "cell_type": "code",
   "execution_count": null,
   "id": "c5fd1f3b",
   "metadata": {},
   "outputs": [],
   "source": [
    "\"\"\"\n",
    "2.\tWrite a Python Program to find largest element in an array?\n",
    "\"\"\""
   ]
  },
  {
   "cell_type": "code",
   "execution_count": 15,
   "id": "a398c957",
   "metadata": {},
   "outputs": [],
   "source": [
    "class listarray:\n",
    "    def __init__(self,numbers):\n",
    "        self.numbers = numbers\n",
    "        if type(self.numbers) != list:\n",
    "            sys.exit()\n",
    "    \n",
    "    def largest(self):\n",
    "        return max(self.numbers)"
   ]
  },
  {
   "cell_type": "code",
   "execution_count": 10,
   "id": "e03f960c",
   "metadata": {},
   "outputs": [],
   "source": [
    "l1 =  listarray([1,2,5,47,5])"
   ]
  },
  {
   "cell_type": "code",
   "execution_count": 11,
   "id": "4f0abd39",
   "metadata": {},
   "outputs": [
    {
     "data": {
      "text/plain": [
       "47"
      ]
     },
     "execution_count": 11,
     "metadata": {},
     "output_type": "execute_result"
    }
   ],
   "source": [
    "l1.largest()"
   ]
  },
  {
   "cell_type": "code",
   "execution_count": 12,
   "id": "ed8f420c",
   "metadata": {},
   "outputs": [],
   "source": [
    "l2 = listarray([6,7,27,958])"
   ]
  },
  {
   "cell_type": "code",
   "execution_count": 13,
   "id": "b7ffe0d8",
   "metadata": {},
   "outputs": [
    {
     "data": {
      "text/plain": [
       "958"
      ]
     },
     "execution_count": 13,
     "metadata": {},
     "output_type": "execute_result"
    }
   ],
   "source": [
    "l2.largest()"
   ]
  },
  {
   "cell_type": "code",
   "execution_count": 16,
   "id": "d23baccf",
   "metadata": {},
   "outputs": [
    {
     "ename": "SystemExit",
     "evalue": "",
     "output_type": "error",
     "traceback": [
      "An exception has occurred, use %tb to see the full traceback.\n",
      "\u001b[1;31mSystemExit\u001b[0m\n"
     ]
    },
    {
     "name": "stderr",
     "output_type": "stream",
     "text": [
      "C:\\Users\\Delll\\anaconda3\\lib\\site-packages\\IPython\\core\\interactiveshell.py:3452: UserWarning: To exit: use 'exit', 'quit', or Ctrl-D.\n",
      "  warn(\"To exit: use 'exit', 'quit', or Ctrl-D.\", stacklevel=1)\n"
     ]
    }
   ],
   "source": [
    "l3 = listarray(4)"
   ]
  },
  {
   "cell_type": "code",
   "execution_count": null,
   "id": "6d5845ab",
   "metadata": {},
   "outputs": [],
   "source": []
  },
  {
   "cell_type": "code",
   "execution_count": null,
   "id": "5d23658b",
   "metadata": {},
   "outputs": [],
   "source": [
    "\"\"\"\n",
    "3.\tWrite a Python Program for array rotation?\n",
    "\n",
    "\"\"\""
   ]
  },
  {
   "cell_type": "code",
   "execution_count": 24,
   "id": "13f18f67",
   "metadata": {},
   "outputs": [],
   "source": [
    "class arrayrotation:\n",
    "    def __init__(self, numbers):\n",
    "        self.numbers = numbers\n",
    "        if type(self.numbers) != list:\n",
    "            sys.exit()\n",
    "    \n",
    "    def rotate(self, rotation_index =3):\n",
    "        self.rotation_index = rotation_index\n",
    "        temp = []\n",
    "        \n",
    "        for i in range(self.rotation_index,len(self.numbers)):\n",
    "            temp.append(self.numbers[i])\n",
    "        \n",
    "        for j in range(self.rotation_index):\n",
    "            temp.append(self.numbers[j])\n",
    "        \n",
    "        return temp\n",
    "           \n",
    "        "
   ]
  },
  {
   "cell_type": "code",
   "execution_count": 18,
   "id": "c8cb6a17",
   "metadata": {},
   "outputs": [],
   "source": [
    "t1 = arrayrotation([1,2,3,4,5,6])"
   ]
  },
  {
   "cell_type": "code",
   "execution_count": 19,
   "id": "9ff6c478",
   "metadata": {},
   "outputs": [
    {
     "data": {
      "text/plain": [
       "[4, 5, 6, 1, 2, 3]"
      ]
     },
     "execution_count": 19,
     "metadata": {},
     "output_type": "execute_result"
    }
   ],
   "source": [
    "t1.rotate()"
   ]
  },
  {
   "cell_type": "code",
   "execution_count": 25,
   "id": "e0015419",
   "metadata": {},
   "outputs": [],
   "source": [
    "t2 = arrayrotation([1,2,3,4,5,6,9,10])"
   ]
  },
  {
   "cell_type": "code",
   "execution_count": 27,
   "id": "2b70c738",
   "metadata": {},
   "outputs": [
    {
     "data": {
      "text/plain": [
       "[6, 9, 10, 1, 2, 3, 4, 5]"
      ]
     },
     "execution_count": 27,
     "metadata": {},
     "output_type": "execute_result"
    }
   ],
   "source": [
    "t2.rotate(5)"
   ]
  },
  {
   "cell_type": "code",
   "execution_count": null,
   "id": "266a1bef",
   "metadata": {},
   "outputs": [],
   "source": []
  },
  {
   "cell_type": "code",
   "execution_count": null,
   "id": "fc64e92e",
   "metadata": {},
   "outputs": [],
   "source": [
    "\"\"\"\n",
    "4.\tWrite a Python Program to Split the array and add the first part to the end?\n",
    "\n",
    "\"\"\""
   ]
  },
  {
   "cell_type": "code",
   "execution_count": 32,
   "id": "79bf1759",
   "metadata": {},
   "outputs": [],
   "source": [
    "class firstparth:\n",
    "    def __init__(self, numbers):\n",
    "        self.numbers = numbers\n",
    "        if type(self.numbers) != list:\n",
    "            sys.exit()\n",
    "    \n",
    "    def newlist(self):\n",
    "        self.rotation_index = 1\n",
    "        temp = []\n",
    "        \n",
    "        for i in range(self.rotation_index,len(self.numbers)):\n",
    "            temp.append(self.numbers[i])\n",
    "        \n",
    "        for j in range(self.rotation_index):\n",
    "            temp.append(self.numbers[j])\n",
    "        \n",
    "        return temp"
   ]
  },
  {
   "cell_type": "code",
   "execution_count": 33,
   "id": "e75c6a32",
   "metadata": {},
   "outputs": [],
   "source": [
    "f1 = firstparth([1,2,3,4,5,6])"
   ]
  },
  {
   "cell_type": "code",
   "execution_count": 34,
   "id": "90d1440e",
   "metadata": {},
   "outputs": [
    {
     "data": {
      "text/plain": [
       "[2, 3, 4, 5, 6, 1]"
      ]
     },
     "execution_count": 34,
     "metadata": {},
     "output_type": "execute_result"
    }
   ],
   "source": [
    "f1.newlist()"
   ]
  },
  {
   "cell_type": "code",
   "execution_count": 35,
   "id": "eb86550b",
   "metadata": {},
   "outputs": [],
   "source": [
    "f2 = firstparth([1,2,3,4,5,6,16,22])"
   ]
  },
  {
   "cell_type": "code",
   "execution_count": 36,
   "id": "5c6f7411",
   "metadata": {},
   "outputs": [
    {
     "data": {
      "text/plain": [
       "[2, 3, 4, 5, 6, 16, 22, 1]"
      ]
     },
     "execution_count": 36,
     "metadata": {},
     "output_type": "execute_result"
    }
   ],
   "source": [
    "f2.newlist()"
   ]
  },
  {
   "cell_type": "code",
   "execution_count": null,
   "id": "bdf2c3af",
   "metadata": {},
   "outputs": [],
   "source": []
  },
  {
   "cell_type": "code",
   "execution_count": null,
   "id": "0a6707fc",
   "metadata": {},
   "outputs": [],
   "source": [
    "\"\"\"\n",
    "5.\tWrite a Python Program to check if given array is Monotonic?\n",
    "\"\"\""
   ]
  },
  {
   "cell_type": "code",
   "execution_count": 38,
   "id": "d2b743d9",
   "metadata": {},
   "outputs": [],
   "source": [
    "def ismonotone(a):\n",
    "    n=len(a) \n",
    "    if n==1:\n",
    "        return True\n",
    "    else:\n",
    "        if all(a[i]>=a[i+1] for i in range(0,n-1) or a[i]<=a[i+1] for i in range(0,n-1)):\n",
    "            return True\n",
    "        else:\n",
    "            return False\n"
   ]
  },
  {
   "cell_type": "code",
   "execution_count": 39,
   "id": "e1a8cca8",
   "metadata": {},
   "outputs": [
    {
     "name": "stdout",
     "output_type": "stream",
     "text": [
      "True\n",
      "False\n"
     ]
    }
   ],
   "source": [
    "A = [6, 5, 4, 2]\n",
    "print(ismonotone(A))\n",
    "b = [6, 2, 4, 2]\n",
    "print(ismonotone(b))"
   ]
  },
  {
   "cell_type": "code",
   "execution_count": null,
   "id": "5c66d0dd",
   "metadata": {},
   "outputs": [],
   "source": []
  }
 ],
 "metadata": {
  "kernelspec": {
   "display_name": "Python 3 (ipykernel)",
   "language": "python",
   "name": "python3"
  },
  "language_info": {
   "codemirror_mode": {
    "name": "ipython",
    "version": 3
   },
   "file_extension": ".py",
   "mimetype": "text/x-python",
   "name": "python",
   "nbconvert_exporter": "python",
   "pygments_lexer": "ipython3",
   "version": "3.9.7"
  }
 },
 "nbformat": 4,
 "nbformat_minor": 5
}
