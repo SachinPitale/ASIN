{
 "cells": [
  {
   "cell_type": "markdown",
   "id": "539c99d6",
   "metadata": {},
   "source": [
    "# Assignment 12"
   ]
  },
  {
   "cell_type": "markdown",
   "id": "162e8fe5",
   "metadata": {},
   "source": [
    "#### 1.Write a Python program to Extract Unique values dictionary values?"
   ]
  },
  {
   "cell_type": "code",
   "execution_count": 1,
   "id": "0466dff0",
   "metadata": {},
   "outputs": [
    {
     "name": "stdout",
     "output_type": "stream",
     "text": [
      "{'DL', 'ML', 'CV', 'BigData', 'NLP'}\n"
     ]
    }
   ],
   "source": [
    "dict_one = {1:'ML',2:'DL',3:'CV',4:'NLP',5:'BigData',6:'ML',7:'DL'}\n",
    "print(set(dict_one.values()))"
   ]
  },
  {
   "cell_type": "markdown",
   "id": "0d2e607c",
   "metadata": {},
   "source": [
    "#### 2.Write a Python program to find the sum of all items in a dictionary?"
   ]
  },
  {
   "cell_type": "code",
   "execution_count": 2,
   "id": "cf372f04",
   "metadata": {},
   "outputs": [
    {
     "name": "stdout",
     "output_type": "stream",
     "text": [
      "245\n"
     ]
    }
   ],
   "source": [
    "dict_1 = {'ML_Assignment':50,'DL_Assignment':25,'Python_Assignment':100,'CV_Assignment':40,'NLP_Assignment':30}\n",
    "print(sum(dict_1.values()))"
   ]
  },
  {
   "cell_type": "markdown",
   "id": "ff51fe19",
   "metadata": {},
   "source": [
    "#### 3.Write a Python program to Merging two Dictionaries?"
   ]
  },
  {
   "cell_type": "code",
   "execution_count": 4,
   "id": "737951bc",
   "metadata": {},
   "outputs": [
    {
     "name": "stdout",
     "output_type": "stream",
     "text": [
      "{1: 'ML', 2: 'DL', 3: 'CV', 4: 'NLP', 5: 'BigData', 6: 'ML', 7: 'DL', 'ML_Assignment': 50, 'DL_Assignment': 25, 'Python_Assignment': 100, 'CV_Assignment': 40, 'NLP_Assignment': 30}\n"
     ]
    }
   ],
   "source": [
    "dict_one = {1:'ML',2:'DL',3:'CV',4:'NLP',5:'BigData',6:'ML',7:'DL'}\n",
    "dict_1 = {'ML_Assignment':50,'DL_Assignment':25,'Python_Assignment':100,'CV_Assignment':40,'NLP_Assignment':30}\n",
    "dict_one.update(dict_1)\n",
    "print(dict_one)"
   ]
  },
  {
   "cell_type": "markdown",
   "id": "aacadb9b",
   "metadata": {},
   "source": [
    "#### 4.Write a Python program to convert key-values list to flat dictionary?"
   ]
  },
  {
   "cell_type": "code",
   "execution_count": 5,
   "id": "a089cd84",
   "metadata": {},
   "outputs": [
    {
     "name": "stdout",
     "output_type": "stream",
     "text": [
      "{'ML': 100, 'DL': 30, 'NLP': 50, 'CV': 50, 'Python': 150, 'SQL': 10, 'stat': 10, 'DSA': 50, 'BigData': 90, 'TABLEAU': 100}\n"
     ]
    }
   ],
   "source": [
    "list1 = [('ML',100),('DL',30),('NLP',50),('CV',50),('Python',150),('SQL',10),('stat',10),('DSA',50),('BigData',90),('TABLEAU',100)]\n",
    "\n",
    "dict_2 = {}\n",
    "for i in list1:\n",
    "    dict_2[i[0]] = i[1]\n",
    "\n",
    "print(dict_2)\n",
    "    "
   ]
  },
  {
   "cell_type": "markdown",
   "id": "fb91506e",
   "metadata": {},
   "source": [
    "#### 5.Write a Python program to insertion at the beginning in OrderedDict?"
   ]
  },
  {
   "cell_type": "code",
   "execution_count": 6,
   "id": "f50babb6",
   "metadata": {},
   "outputs": [
    {
     "name": "stdout",
     "output_type": "stream",
     "text": [
      "OrderedDict([('A', 10), ('B', 20), ('c', 30)])\n",
      "OrderedDict([('A', 10), ('B', 20), ('c', 30), ('d', 40)])\n",
      "OrderedDict([('d', 40), ('A', 10), ('B', 20), ('c', 30)])\n"
     ]
    }
   ],
   "source": [
    "from collections import OrderedDict\n",
    "dict_4 = OrderedDict({'A':10,'B':20,'c':30})\n",
    "print(dict_4)\n",
    "dict_5 = {'d':40}\n",
    "dict_4.update(dict_5)\n",
    "print(dict_4)\n",
    "dict_4.move_to_end('d', last=False)\n",
    "print(dict_4)"
   ]
  },
  {
   "cell_type": "markdown",
   "id": "fa7370b6",
   "metadata": {},
   "source": [
    "#### 6.Write a Python program to check order of character in string using OrderedDict()?"
   ]
  },
  {
   "cell_type": "code",
   "execution_count": 7,
   "id": "729b6095",
   "metadata": {},
   "outputs": [
    {
     "name": "stdout",
     "output_type": "stream",
     "text": [
      "{'a': 1000, 'f': 200, 'd': 300, 'c': 400, 'b': 500, 'e': 600}\n",
      "OrderedDict([('a', 1000), ('b', 500), ('c', 400), ('d', 300), ('e', 600), ('f', 200)])\n"
     ]
    }
   ],
   "source": [
    "from collections import OrderedDict\n",
    "\n",
    "initial_list = {'a': 1000, 'f': 200, 'd': 300, 'c': 400, 'b': 500, 'e': 600}\n",
    "print(initial_list)\n",
    "\n",
    "f_list = OrderedDict(dict(sorted(initial_list.items())))\n",
    "print(f_list)"
   ]
  },
  {
   "cell_type": "markdown",
   "id": "229530ea",
   "metadata": {},
   "source": [
    "#### 7.Write a Python program to sort Python Dictionaries by Key or Value?"
   ]
  },
  {
   "cell_type": "code",
   "execution_count": 9,
   "id": "df65c2e0",
   "metadata": {},
   "outputs": [
    {
     "name": "stdout",
     "output_type": "stream",
     "text": [
      "{'a': 1000, 'b': 500, 'c': 400, 'd': 300, 'e': 600, 'f': 200}\n",
      "{'f': 200, 'd': 300, 'c': 400, 'b': 500, 'e': 600, 'a': 1000}\n"
     ]
    }
   ],
   "source": [
    "initial_list = {'a': 1000, 'f': 200, 'd': 300, 'c': 400, 'b': 500, 'e': 600}\n",
    "\n",
    "def sort_d(initial_list,sort_type):\n",
    "    if sort_type == 'key':\n",
    "        print(dict(sorted(initial_list.items(), key=lambda x:x[0], reverse=False)))\n",
    "    else:\n",
    "        print(dict(sorted(initial_list.items(), key=lambda x:x[1], reverse=False)))\n",
    "        \n",
    "sort_d(initial_list,'key')        \n",
    "sort_d(initial_list,'value')\n"
   ]
  },
  {
   "cell_type": "code",
   "execution_count": null,
   "id": "c1794dfd",
   "metadata": {},
   "outputs": [],
   "source": []
  }
 ],
 "metadata": {
  "kernelspec": {
   "display_name": "Python 3 (ipykernel)",
   "language": "python",
   "name": "python3"
  },
  "language_info": {
   "codemirror_mode": {
    "name": "ipython",
    "version": 3
   },
   "file_extension": ".py",
   "mimetype": "text/x-python",
   "name": "python",
   "nbconvert_exporter": "python",
   "pygments_lexer": "ipython3",
   "version": "3.9.7"
  }
 },
 "nbformat": 4,
 "nbformat_minor": 5
}
