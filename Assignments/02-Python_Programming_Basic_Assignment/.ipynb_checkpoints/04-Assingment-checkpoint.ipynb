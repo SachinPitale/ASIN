{
 "cells": [
  {
   "cell_type": "code",
   "execution_count": null,
   "id": "45b98754",
   "metadata": {},
   "outputs": [],
   "source": [
    "\"\"\"\n",
    "1.\tWrite a Python Program to Find the Factorial of a Number?\n",
    "\n",
    "\"\"\""
   ]
  },
  {
   "cell_type": "code",
   "execution_count": 15,
   "id": "4204f032",
   "metadata": {},
   "outputs": [],
   "source": [
    "class factorialnum:\n",
    "    def __init__(self,num):\n",
    "        self.num = num\n",
    "    \n",
    "    def factorial(self):\n",
    "        self.f = 1\n",
    "        if self.num < 0:\n",
    "            return \"Factorial doesn't exist for negative number\", self.num\n",
    "        elif self.num == 0:\n",
    "            return \"Factorial of 0 is 1\"\n",
    "        else:\n",
    "            for i in range(1,self.num +1):\n",
    "                self.f = self.f * i \n",
    "            return \"Factorial of\", self.num, \"is => \", self.f\n",
    "        "
   ]
  },
  {
   "cell_type": "code",
   "execution_count": 16,
   "id": "c7e0849b",
   "metadata": {},
   "outputs": [],
   "source": [
    "f1 = factorialnum(3)"
   ]
  },
  {
   "cell_type": "code",
   "execution_count": 17,
   "id": "94258a90",
   "metadata": {},
   "outputs": [
    {
     "data": {
      "text/plain": [
       "('Factorial of', 3, 'is => ', 6)"
      ]
     },
     "execution_count": 17,
     "metadata": {},
     "output_type": "execute_result"
    }
   ],
   "source": [
    "f1.factorial()"
   ]
  },
  {
   "cell_type": "code",
   "execution_count": 18,
   "id": "0fd19599",
   "metadata": {},
   "outputs": [],
   "source": [
    "f2 = factorialnum(10)"
   ]
  },
  {
   "cell_type": "code",
   "execution_count": 19,
   "id": "6d20ef3d",
   "metadata": {},
   "outputs": [
    {
     "data": {
      "text/plain": [
       "('Factorial of', 10, 'is => ', 3628800)"
      ]
     },
     "execution_count": 19,
     "metadata": {},
     "output_type": "execute_result"
    }
   ],
   "source": [
    "f2.factorial()"
   ]
  },
  {
   "cell_type": "code",
   "execution_count": null,
   "id": "32d3e400",
   "metadata": {},
   "outputs": [],
   "source": []
  },
  {
   "cell_type": "code",
   "execution_count": null,
   "id": "3254a0f2",
   "metadata": {},
   "outputs": [],
   "source": [
    "\"\"\"\n",
    "2.\tWrite a Python Program to Display the multiplication Table?\n",
    "\n",
    "\"\"\""
   ]
  },
  {
   "cell_type": "code",
   "execution_count": 24,
   "id": "bb1e62e1",
   "metadata": {},
   "outputs": [],
   "source": [
    "class table:\n",
    "    def __init__(self,num):\n",
    "        self.num = num\n",
    "    \n",
    "    def multiplication(self):\n",
    "        for i in range(1,11):\n",
    "            print (self.num ,'*', i, \" =>\", self.num*i )"
   ]
  },
  {
   "cell_type": "code",
   "execution_count": 25,
   "id": "f48a16e4",
   "metadata": {},
   "outputs": [],
   "source": [
    "t1 = table(10)"
   ]
  },
  {
   "cell_type": "code",
   "execution_count": 26,
   "id": "2fcefd1e",
   "metadata": {},
   "outputs": [
    {
     "name": "stdout",
     "output_type": "stream",
     "text": [
      "10 * 1  => 10\n",
      "10 * 2  => 20\n",
      "10 * 3  => 30\n",
      "10 * 4  => 40\n",
      "10 * 5  => 50\n",
      "10 * 6  => 60\n",
      "10 * 7  => 70\n",
      "10 * 8  => 80\n",
      "10 * 9  => 90\n",
      "10 * 10  => 100\n"
     ]
    }
   ],
   "source": [
    "t1.multiplication()"
   ]
  },
  {
   "cell_type": "code",
   "execution_count": 29,
   "id": "f4ef08b1",
   "metadata": {},
   "outputs": [],
   "source": [
    "t2 = table(27)"
   ]
  },
  {
   "cell_type": "code",
   "execution_count": 30,
   "id": "3ba3cc9e",
   "metadata": {},
   "outputs": [
    {
     "name": "stdout",
     "output_type": "stream",
     "text": [
      "27 * 1  => 27\n",
      "27 * 2  => 54\n",
      "27 * 3  => 81\n",
      "27 * 4  => 108\n",
      "27 * 5  => 135\n",
      "27 * 6  => 162\n",
      "27 * 7  => 189\n",
      "27 * 8  => 216\n",
      "27 * 9  => 243\n",
      "27 * 10  => 270\n"
     ]
    }
   ],
   "source": [
    "t2.multiplication()"
   ]
  },
  {
   "cell_type": "code",
   "execution_count": null,
   "id": "5ff70864",
   "metadata": {},
   "outputs": [],
   "source": []
  },
  {
   "cell_type": "code",
   "execution_count": null,
   "id": "82a1facf",
   "metadata": {},
   "outputs": [],
   "source": []
  },
  {
   "cell_type": "code",
   "execution_count": null,
   "id": "3384044c",
   "metadata": {},
   "outputs": [],
   "source": [
    "\"\"\"\n",
    "3.\tWrite a Python Program to Print the Fibonacci sequence?\n",
    "\n",
    "\"\"\""
   ]
  },
  {
   "cell_type": "code",
   "execution_count": 37,
   "id": "b219d102",
   "metadata": {},
   "outputs": [],
   "source": [
    "class Fibonaccisequence:\n",
    "    def __init__(self, num):\n",
    "        self.num = num\n",
    "    \n",
    "    def Fibonacci(self):\n",
    "        output = []\n",
    "        self.a = 1\n",
    "        self.b = 1\n",
    "        \n",
    "        for i in range(self.num):\n",
    "            output.append(self.a)\n",
    "            self.a,self.b = self.b, self.b + self.a\n",
    "        return output"
   ]
  },
  {
   "cell_type": "code",
   "execution_count": 38,
   "id": "866ec01c",
   "metadata": {},
   "outputs": [],
   "source": [
    "fi1 = Fibonaccisequence(10)"
   ]
  },
  {
   "cell_type": "code",
   "execution_count": 39,
   "id": "20cefae5",
   "metadata": {},
   "outputs": [
    {
     "data": {
      "text/plain": [
       "[1, 1, 2, 3, 5, 8, 13, 21, 34, 55]"
      ]
     },
     "execution_count": 39,
     "metadata": {},
     "output_type": "execute_result"
    }
   ],
   "source": [
    "fi1.Fibonacci()"
   ]
  },
  {
   "cell_type": "code",
   "execution_count": 40,
   "id": "c03d43b1",
   "metadata": {},
   "outputs": [],
   "source": [
    "fi2 = Fibonaccisequence(15)"
   ]
  },
  {
   "cell_type": "code",
   "execution_count": 41,
   "id": "f995d646",
   "metadata": {},
   "outputs": [
    {
     "data": {
      "text/plain": [
       "[1, 1, 2, 3, 5, 8, 13, 21, 34, 55, 89, 144, 233, 377, 610]"
      ]
     },
     "execution_count": 41,
     "metadata": {},
     "output_type": "execute_result"
    }
   ],
   "source": [
    "fi2.Fibonacci()"
   ]
  },
  {
   "cell_type": "code",
   "execution_count": null,
   "id": "2907f999",
   "metadata": {},
   "outputs": [],
   "source": []
  },
  {
   "cell_type": "code",
   "execution_count": null,
   "id": "3e3d0fd9",
   "metadata": {},
   "outputs": [],
   "source": [
    "\"\"\"\n",
    "4.\tWrite a Python Program to Check Armstrong Number?\n",
    "\n",
    "\"\"\""
   ]
  },
  {
   "cell_type": "code",
   "execution_count": 75,
   "id": "e05c7dbd",
   "metadata": {},
   "outputs": [],
   "source": [
    "class ArmstrongNum:\n",
    "    def __init__(self,num):\n",
    "        self.num = num\n",
    "    \n",
    "    def Armstrong(self):\n",
    "        self.sum = 0\n",
    "        self.temp = self.num\n",
    "        \n",
    "        while self.temp > 0:\n",
    "            d = self.temp % 10\n",
    "            self.sum += d ** 3\n",
    "            self.temp //= 10\n",
    "        \n",
    "        if self.num == self.temp:\n",
    "            return \"your number is an Armstrong number\", self.num\n",
    "        else:\n",
    "            return \"your number isn't an Armstrong number\", self.num"
   ]
  },
  {
   "cell_type": "code",
   "execution_count": 76,
   "id": "49436f92",
   "metadata": {},
   "outputs": [],
   "source": [
    "a1 = ArmstrongNum(153)"
   ]
  },
  {
   "cell_type": "code",
   "execution_count": 77,
   "id": "c81a54da",
   "metadata": {},
   "outputs": [
    {
     "data": {
      "text/plain": [
       "(\"your number isn't an Armstrong number\", 153)"
      ]
     },
     "execution_count": 77,
     "metadata": {},
     "output_type": "execute_result"
    }
   ],
   "source": [
    "a1.Armstrong()"
   ]
  },
  {
   "cell_type": "code",
   "execution_count": 78,
   "id": "cbfc4433",
   "metadata": {},
   "outputs": [],
   "source": [
    "a2 = ArmstrongNum(278)"
   ]
  },
  {
   "cell_type": "code",
   "execution_count": 79,
   "id": "46ddb71e",
   "metadata": {},
   "outputs": [
    {
     "data": {
      "text/plain": [
       "(\"your number isn't an Armstrong number\", 278)"
      ]
     },
     "execution_count": 79,
     "metadata": {},
     "output_type": "execute_result"
    }
   ],
   "source": [
    "a2.Armstrong()"
   ]
  },
  {
   "cell_type": "code",
   "execution_count": null,
   "id": "52507d3d",
   "metadata": {},
   "outputs": [],
   "source": []
  },
  {
   "cell_type": "code",
   "execution_count": null,
   "id": "06296841",
   "metadata": {},
   "outputs": [],
   "source": [
    "\"\"\"\n",
    "5.\tWrite a Python Program to Find Armstrong Number in an Interval?\n",
    "\n",
    "\"\"\""
   ]
  },
  {
   "cell_type": "code",
   "execution_count": 105,
   "id": "fd101fb4",
   "metadata": {},
   "outputs": [
    {
     "name": "stdout",
     "output_type": "stream",
     "text": [
      "number is an Armstrong number 1\n",
      "number is an Armstrong number 153\n",
      "number is an Armstrong number 370\n",
      "number is an Armstrong number 371\n",
      "number is an Armstrong number 407\n"
     ]
    }
   ],
   "source": [
    "sum = 0\n",
    "for num in range(1, 1000):\n",
    "    temp = num\n",
    "    sum = 0\n",
    "    while temp > 0:\n",
    "        d = temp % 10\n",
    "        sum += d ** 3\n",
    "        temp //= 10\n",
    "    \n",
    "    if num == sum:\n",
    "        print (\"number is an Armstrong number\", num)\n",
    "    \n",
    "    \n",
    "    \n",
    "    "
   ]
  },
  {
   "cell_type": "code",
   "execution_count": null,
   "id": "675ca429",
   "metadata": {},
   "outputs": [],
   "source": []
  },
  {
   "cell_type": "code",
   "execution_count": null,
   "id": "605040e9",
   "metadata": {},
   "outputs": [],
   "source": [
    "\"\"\"\n",
    "6.\tWrite a Python Program to Find the Sum of Natural Numbers?\n",
    "\n",
    "\"\"\""
   ]
  },
  {
   "cell_type": "code",
   "execution_count": 83,
   "id": "de7541e1",
   "metadata": {},
   "outputs": [],
   "source": [
    "class sumofnaturalnumber:\n",
    "    def __init__(self,num):\n",
    "        self.num = num\n",
    "    \n",
    "    \n",
    "    def sum(self):\n",
    "        s = 0\n",
    "        for i in range(1,self.num +1):\n",
    "            s = s + i\n",
    "        return s"
   ]
  },
  {
   "cell_type": "code",
   "execution_count": 84,
   "id": "ee0c7e86",
   "metadata": {},
   "outputs": [],
   "source": [
    "s1 = sumofnaturalnumber(9)"
   ]
  },
  {
   "cell_type": "code",
   "execution_count": 85,
   "id": "bba3c69b",
   "metadata": {},
   "outputs": [
    {
     "data": {
      "text/plain": [
       "45"
      ]
     },
     "execution_count": 85,
     "metadata": {},
     "output_type": "execute_result"
    }
   ],
   "source": [
    "s1.sum()"
   ]
  },
  {
   "cell_type": "code",
   "execution_count": 86,
   "id": "4f11113a",
   "metadata": {},
   "outputs": [],
   "source": [
    "s2 = sumofnaturalnumber(16)"
   ]
  },
  {
   "cell_type": "code",
   "execution_count": 87,
   "id": "39a9d681",
   "metadata": {},
   "outputs": [
    {
     "data": {
      "text/plain": [
       "136"
      ]
     },
     "execution_count": 87,
     "metadata": {},
     "output_type": "execute_result"
    }
   ],
   "source": [
    "s2.sum()"
   ]
  },
  {
   "cell_type": "code",
   "execution_count": null,
   "id": "cc82a77f",
   "metadata": {},
   "outputs": [],
   "source": []
  }
 ],
 "metadata": {
  "kernelspec": {
   "display_name": "Python 3 (ipykernel)",
   "language": "python",
   "name": "python3"
  },
  "language_info": {
   "codemirror_mode": {
    "name": "ipython",
    "version": 3
   },
   "file_extension": ".py",
   "mimetype": "text/x-python",
   "name": "python",
   "nbconvert_exporter": "python",
   "pygments_lexer": "ipython3",
   "version": "3.9.7"
  }
 },
 "nbformat": 4,
 "nbformat_minor": 5
}
