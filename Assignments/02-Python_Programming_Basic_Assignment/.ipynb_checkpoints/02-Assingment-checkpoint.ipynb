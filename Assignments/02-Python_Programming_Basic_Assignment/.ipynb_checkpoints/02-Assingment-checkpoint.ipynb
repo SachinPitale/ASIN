{
 "cells": [
  {
   "cell_type": "code",
   "execution_count": null,
   "id": "7960a8e6",
   "metadata": {},
   "outputs": [],
   "source": [
    "\"\"\"\n",
    "1.\tWrite a Python program to convert kilometers to miles?\n",
    "\n",
    "\"\"\""
   ]
  },
  {
   "cell_type": "code",
   "execution_count": 7,
   "id": "b09b0217",
   "metadata": {},
   "outputs": [],
   "source": [
    "class killotomile:\n",
    "    def __init__(self,killometers):\n",
    "        self.killometers = killometers\n",
    "    def miles(self):\n",
    "        self.milesfactor = 0.62137\n",
    "        miles = self.killometers * self.milesfactor\n",
    "        return miles\n",
    "        \n",
    "        "
   ]
  },
  {
   "cell_type": "code",
   "execution_count": 8,
   "id": "d85e611c",
   "metadata": {},
   "outputs": [],
   "source": [
    "km1 = killotomile(10)"
   ]
  },
  {
   "cell_type": "code",
   "execution_count": 9,
   "id": "b892f0e9",
   "metadata": {},
   "outputs": [
    {
     "data": {
      "text/plain": [
       "6.213699999999999"
      ]
     },
     "execution_count": 9,
     "metadata": {},
     "output_type": "execute_result"
    }
   ],
   "source": [
    "km1.miles()"
   ]
  },
  {
   "cell_type": "code",
   "execution_count": 10,
   "id": "f06be52e",
   "metadata": {},
   "outputs": [],
   "source": [
    "km2 = killotomile(25)"
   ]
  },
  {
   "cell_type": "code",
   "execution_count": 11,
   "id": "eb46c038",
   "metadata": {},
   "outputs": [
    {
     "data": {
      "text/plain": [
       "15.53425"
      ]
     },
     "execution_count": 11,
     "metadata": {},
     "output_type": "execute_result"
    }
   ],
   "source": [
    "km2.miles()"
   ]
  },
  {
   "cell_type": "code",
   "execution_count": null,
   "id": "8c256115",
   "metadata": {},
   "outputs": [],
   "source": []
  },
  {
   "cell_type": "code",
   "execution_count": 12,
   "id": "4ae20b70",
   "metadata": {},
   "outputs": [
    {
     "data": {
      "text/plain": [
       "'\\n2.\\tWrite a Python program to convert Celsius to Fahrenheit?\\n\\n'"
      ]
     },
     "execution_count": 12,
     "metadata": {},
     "output_type": "execute_result"
    }
   ],
   "source": [
    "\"\"\"\n",
    "2.\tWrite a Python program to convert Celsius to Fahrenheit?\n",
    "\n",
    "\"\"\""
   ]
  },
  {
   "cell_type": "code",
   "execution_count": 13,
   "id": "5102bc32",
   "metadata": {},
   "outputs": [],
   "source": [
    "class degree:\n",
    "    def __init__(self,celsius):\n",
    "        self.celsius = celsius\n",
    "    \n",
    "    def fahrenheit(self):\n",
    "        fa = (self.celsius * 1.8) + 32\n",
    "        return fa"
   ]
  },
  {
   "cell_type": "code",
   "execution_count": 14,
   "id": "35d9a2ce",
   "metadata": {},
   "outputs": [],
   "source": [
    "ca1 = degree(42)"
   ]
  },
  {
   "cell_type": "code",
   "execution_count": 15,
   "id": "6ef327b4",
   "metadata": {},
   "outputs": [
    {
     "data": {
      "text/plain": [
       "107.60000000000001"
      ]
     },
     "execution_count": 15,
     "metadata": {},
     "output_type": "execute_result"
    }
   ],
   "source": [
    "ca1.fahrenheit()"
   ]
  },
  {
   "cell_type": "code",
   "execution_count": 16,
   "id": "10e90c30",
   "metadata": {},
   "outputs": [],
   "source": [
    "ca2 = degree(28)"
   ]
  },
  {
   "cell_type": "code",
   "execution_count": 17,
   "id": "314f129c",
   "metadata": {},
   "outputs": [
    {
     "data": {
      "text/plain": [
       "82.4"
      ]
     },
     "execution_count": 17,
     "metadata": {},
     "output_type": "execute_result"
    }
   ],
   "source": [
    "ca2.fahrenheit()"
   ]
  },
  {
   "cell_type": "code",
   "execution_count": null,
   "id": "b8b55d3c",
   "metadata": {},
   "outputs": [],
   "source": [
    "\"\"\"\n",
    "3.\tWrite a Python program to display calendar?\n",
    "\n",
    "\"\"\""
   ]
  },
  {
   "cell_type": "raw",
   "id": "18099f04",
   "metadata": {},
   "source": []
  },
  {
   "cell_type": "code",
   "execution_count": 26,
   "id": "62bad0e0",
   "metadata": {},
   "outputs": [],
   "source": [
    "import calendar\n",
    "class calmonth:\n",
    "    def __init__(self,mon,year):\n",
    "        self.month = mon\n",
    "        self.year = year\n",
    "    \n",
    "    def display_month(self):\n",
    "        return (calendar.month(self.year, self.month))"
   ]
  },
  {
   "cell_type": "code",
   "execution_count": 31,
   "id": "008bdd51",
   "metadata": {},
   "outputs": [],
   "source": [
    "cal1 = calmonth(1,2021)"
   ]
  },
  {
   "cell_type": "code",
   "execution_count": 32,
   "id": "655fcc55",
   "metadata": {},
   "outputs": [
    {
     "data": {
      "text/plain": [
       "'    January 2021\\nMo Tu We Th Fr Sa Su\\n             1  2  3\\n 4  5  6  7  8  9 10\\n11 12 13 14 15 16 17\\n18 19 20 21 22 23 24\\n25 26 27 28 29 30 31\\n'"
      ]
     },
     "execution_count": 32,
     "metadata": {},
     "output_type": "execute_result"
    }
   ],
   "source": [
    "cal1.display_month()"
   ]
  },
  {
   "cell_type": "code",
   "execution_count": 33,
   "id": "2d3501ee",
   "metadata": {},
   "outputs": [],
   "source": [
    "cal2 = calmonth(2,2022)"
   ]
  },
  {
   "cell_type": "code",
   "execution_count": 34,
   "id": "87454a57",
   "metadata": {},
   "outputs": [
    {
     "data": {
      "text/plain": [
       "'   February 2022\\nMo Tu We Th Fr Sa Su\\n    1  2  3  4  5  6\\n 7  8  9 10 11 12 13\\n14 15 16 17 18 19 20\\n21 22 23 24 25 26 27\\n28\\n'"
      ]
     },
     "execution_count": 34,
     "metadata": {},
     "output_type": "execute_result"
    }
   ],
   "source": [
    "cal2.display_month()"
   ]
  },
  {
   "cell_type": "code",
   "execution_count": null,
   "id": "bda669f4",
   "metadata": {},
   "outputs": [],
   "source": []
  },
  {
   "cell_type": "code",
   "execution_count": null,
   "id": "b088588c",
   "metadata": {},
   "outputs": [],
   "source": [
    "\"\"\"\n",
    "\n",
    "4.\tWrite a Python program to solve quadratic equation?\n",
    "\n",
    "\"\"\""
   ]
  },
  {
   "cell_type": "code",
   "execution_count": 1,
   "id": "25a301fc",
   "metadata": {},
   "outputs": [
    {
     "name": "stdout",
     "output_type": "stream",
     "text": [
      "Enter the value of a: 5\n",
      "Enter the value of b: 8\n",
      "Enter the value of c: 3\n",
      "Two distinct real roots are -7.80 and -8.20\n"
     ]
    }
   ],
   "source": [
    "import math\n",
    "\n",
    "a = int(input('Enter the value of a: '))\n",
    "b = int(input('Enter the value of b: '))\n",
    "c = int(input('Enter the value of c: '))\n",
    "\n",
    "\n",
    "dis = (b**2) - (4*a*c)\n",
    "\n",
    "if(dis > 0):\n",
    "    root1 = (-b + math.sqrt(dis) / (2 * a))\n",
    "    root2 = (-b - math.sqrt(dis) / (2 * a))\n",
    "    print(\"Two distinct real roots are %.2f and %.2f\" %(root1, root2))\n",
    "\n",
    "elif(dis == 0):\n",
    "    root1 = root2 = -b / (2 * a)\n",
    "    print(\"Two equal and real roots are %.2f and %.2f\" %(root1, root2))\n",
    "\n",
    "elif(dis < 0):\n",
    "    root1 = root2 = -b / (2 * a)\n",
    "    imaginary = math.sqrt(-dis) / (2 * a)\n",
    "    print(\"Two distinct complex roots are %.2f+%.2f and %.2f-%.2f\" \n",
    "                          %(root1, imaginary, root2, imaginary))"
   ]
  },
  {
   "cell_type": "code",
   "execution_count": null,
   "id": "681c8565",
   "metadata": {},
   "outputs": [],
   "source": []
  },
  {
   "cell_type": "code",
   "execution_count": null,
   "id": "0d13777e",
   "metadata": {},
   "outputs": [],
   "source": [
    "\"\"\"\n",
    "5.\tWrite a Python program to swap two variables without temp variable?\n",
    "\n",
    "\"\"\""
   ]
  },
  {
   "cell_type": "code",
   "execution_count": 35,
   "id": "742a8fe0",
   "metadata": {},
   "outputs": [],
   "source": [
    "class swapnum:\n",
    "    def __init__(self,a,b):\n",
    "        self.a = a\n",
    "        self.b = b\n",
    "    \n",
    "    def swap(self):\n",
    "        self.a, self.b = self.b, self.a\n",
    "        return self.a, self.b"
   ]
  },
  {
   "cell_type": "code",
   "execution_count": 36,
   "id": "e0bdff48",
   "metadata": {},
   "outputs": [],
   "source": [
    "num1 = swapnum(5,3)"
   ]
  },
  {
   "cell_type": "code",
   "execution_count": 37,
   "id": "75d76e33",
   "metadata": {},
   "outputs": [
    {
     "data": {
      "text/plain": [
       "(3, 5)"
      ]
     },
     "execution_count": 37,
     "metadata": {},
     "output_type": "execute_result"
    }
   ],
   "source": [
    "num1.swap()"
   ]
  },
  {
   "cell_type": "code",
   "execution_count": null,
   "id": "881326e7",
   "metadata": {},
   "outputs": [],
   "source": []
  }
 ],
 "metadata": {
  "kernelspec": {
   "display_name": "Python 3 (ipykernel)",
   "language": "python",
   "name": "python3"
  },
  "language_info": {
   "codemirror_mode": {
    "name": "ipython",
    "version": 3
   },
   "file_extension": ".py",
   "mimetype": "text/x-python",
   "name": "python",
   "nbconvert_exporter": "python",
   "pygments_lexer": "ipython3",
   "version": "3.9.7"
  }
 },
 "nbformat": 4,
 "nbformat_minor": 5
}
