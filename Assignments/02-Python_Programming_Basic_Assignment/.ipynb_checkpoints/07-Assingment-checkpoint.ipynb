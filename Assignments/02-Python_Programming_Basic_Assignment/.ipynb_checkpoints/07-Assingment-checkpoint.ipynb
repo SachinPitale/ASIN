{
 "cells": [
  {
   "cell_type": "code",
   "execution_count": null,
   "id": "09168e8f",
   "metadata": {},
   "outputs": [],
   "source": [
    "\"\"\"\n",
    "1.\tWrite a Python Program to find sum of array?\n",
    "\"\"\""
   ]
  },
  {
   "cell_type": "code",
   "execution_count": 1,
   "id": "287991aa",
   "metadata": {},
   "outputs": [],
   "source": [
    "import sys\n",
    "class array:\n",
    "    def __init__(self,numbers):\n",
    "        self.numbers = numbers\n",
    "        if type(self.numbers) != list:\n",
    "            sys.exit()\n",
    "    \n",
    "    def sum(self):\n",
    "        total = 0\n",
    "        for i in self.numbers:\n",
    "            total = total + i\n",
    "        \n",
    "        return total\n",
    "            \n",
    "            \n",
    "    \n",
    "    \n",
    "    "
   ]
  },
  {
   "cell_type": "code",
   "execution_count": 2,
   "id": "8d61582a",
   "metadata": {},
   "outputs": [],
   "source": [
    "a1 = array([2,3,7,9])"
   ]
  },
  {
   "cell_type": "code",
   "execution_count": 3,
   "id": "0c404aa1",
   "metadata": {},
   "outputs": [
    {
     "data": {
      "text/plain": [
       "21"
      ]
     },
     "execution_count": 3,
     "metadata": {},
     "output_type": "execute_result"
    }
   ],
   "source": [
    "a1.sum()"
   ]
  },
  {
   "cell_type": "code",
   "execution_count": 4,
   "id": "308e63fc",
   "metadata": {},
   "outputs": [],
   "source": [
    "a2 = array([2,3,7,9,11,15])"
   ]
  },
  {
   "cell_type": "code",
   "execution_count": 5,
   "id": "dd002c75",
   "metadata": {},
   "outputs": [
    {
     "data": {
      "text/plain": [
       "47"
      ]
     },
     "execution_count": 5,
     "metadata": {},
     "output_type": "execute_result"
    }
   ],
   "source": [
    "a2.sum()"
   ]
  },
  {
   "cell_type": "code",
   "execution_count": null,
   "id": "4793d330",
   "metadata": {},
   "outputs": [],
   "source": [
    "\"\"\"\n",
    "2.\tWrite a Python Program to find largest element in an array?\n",
    "\"\"\""
   ]
  },
  {
   "cell_type": "code",
   "execution_count": 15,
   "id": "ad965b79",
   "metadata": {},
   "outputs": [],
   "source": [
    "class listarray:\n",
    "    def __init__(self,numbers):\n",
    "        self.numbers = numbers\n",
    "        if type(self.numbers) != list:\n",
    "            sys.exit()\n",
    "    \n",
    "    def largest(self):\n",
    "        return max(self.numbers)"
   ]
  },
  {
   "cell_type": "code",
   "execution_count": 10,
   "id": "aaa7bb21",
   "metadata": {},
   "outputs": [],
   "source": [
    "l1 =  listarray([1,2,5,47,5])"
   ]
  },
  {
   "cell_type": "code",
   "execution_count": 11,
   "id": "953d0d9e",
   "metadata": {},
   "outputs": [
    {
     "data": {
      "text/plain": [
       "47"
      ]
     },
     "execution_count": 11,
     "metadata": {},
     "output_type": "execute_result"
    }
   ],
   "source": [
    "l1.largest()"
   ]
  },
  {
   "cell_type": "code",
   "execution_count": 12,
   "id": "2ad00bdf",
   "metadata": {},
   "outputs": [],
   "source": [
    "l2 = listarray([6,7,27,958])"
   ]
  },
  {
   "cell_type": "code",
   "execution_count": 13,
   "id": "547df220",
   "metadata": {},
   "outputs": [
    {
     "data": {
      "text/plain": [
       "958"
      ]
     },
     "execution_count": 13,
     "metadata": {},
     "output_type": "execute_result"
    }
   ],
   "source": [
    "l2.largest()"
   ]
  },
  {
   "cell_type": "code",
   "execution_count": 16,
   "id": "0d538ae9",
   "metadata": {},
   "outputs": [
    {
     "ename": "SystemExit",
     "evalue": "",
     "output_type": "error",
     "traceback": [
      "An exception has occurred, use %tb to see the full traceback.\n",
      "\u001b[1;31mSystemExit\u001b[0m\n"
     ]
    },
    {
     "name": "stderr",
     "output_type": "stream",
     "text": [
      "C:\\Users\\Delll\\anaconda3\\lib\\site-packages\\IPython\\core\\interactiveshell.py:3452: UserWarning: To exit: use 'exit', 'quit', or Ctrl-D.\n",
      "  warn(\"To exit: use 'exit', 'quit', or Ctrl-D.\", stacklevel=1)\n"
     ]
    }
   ],
   "source": [
    "l3 = listarray(4)"
   ]
  },
  {
   "cell_type": "code",
   "execution_count": null,
   "id": "d5506b9c",
   "metadata": {},
   "outputs": [],
   "source": []
  },
  {
   "cell_type": "code",
   "execution_count": null,
   "id": "5b013e53",
   "metadata": {},
   "outputs": [],
   "source": [
    "\"\"\"\n",
    "3.\tWrite a Python Program for array rotation?\n",
    "\n",
    "\"\"\""
   ]
  },
  {
   "cell_type": "code",
   "execution_count": 24,
   "id": "e506edb8",
   "metadata": {},
   "outputs": [],
   "source": [
    "class arrayrotation:\n",
    "    def __init__(self, numbers):\n",
    "        self.numbers = numbers\n",
    "        if type(self.numbers) != list:\n",
    "            sys.exit()\n",
    "    \n",
    "    def rotate(self, rotation_index =3):\n",
    "        self.rotation_index = rotation_index\n",
    "        temp = []\n",
    "        \n",
    "        for i in range(self.rotation_index,len(self.numbers)):\n",
    "            temp.append(self.numbers[i])\n",
    "        \n",
    "        for j in range(self.rotation_index):\n",
    "            temp.append(self.numbers[j])\n",
    "        \n",
    "        return temp\n",
    "           \n",
    "        "
   ]
  },
  {
   "cell_type": "code",
   "execution_count": 18,
   "id": "d765d4c5",
   "metadata": {},
   "outputs": [],
   "source": [
    "t1 = arrayrotation([1,2,3,4,5,6])"
   ]
  },
  {
   "cell_type": "code",
   "execution_count": 19,
   "id": "12c7a2c3",
   "metadata": {},
   "outputs": [
    {
     "data": {
      "text/plain": [
       "[4, 5, 6, 1, 2, 3]"
      ]
     },
     "execution_count": 19,
     "metadata": {},
     "output_type": "execute_result"
    }
   ],
   "source": [
    "t1.rotate()"
   ]
  },
  {
   "cell_type": "code",
   "execution_count": 25,
   "id": "00e49728",
   "metadata": {},
   "outputs": [],
   "source": [
    "t2 = arrayrotation([1,2,3,4,5,6,9,10])"
   ]
  },
  {
   "cell_type": "code",
   "execution_count": 27,
   "id": "22b70fbd",
   "metadata": {},
   "outputs": [
    {
     "data": {
      "text/plain": [
       "[6, 9, 10, 1, 2, 3, 4, 5]"
      ]
     },
     "execution_count": 27,
     "metadata": {},
     "output_type": "execute_result"
    }
   ],
   "source": [
    "t2.rotate(5)"
   ]
  },
  {
   "cell_type": "code",
   "execution_count": null,
   "id": "8f3bb418",
   "metadata": {},
   "outputs": [],
   "source": []
  },
  {
   "cell_type": "code",
   "execution_count": null,
   "id": "216b6a30",
   "metadata": {},
   "outputs": [],
   "source": [
    "\"\"\"\n",
    "4.\tWrite a Python Program to Split the array and add the first part to the end?\n",
    "\n",
    "\"\"\""
   ]
  },
  {
   "cell_type": "code",
   "execution_count": 32,
   "id": "0f9e6fe0",
   "metadata": {},
   "outputs": [],
   "source": [
    "class firstparth:\n",
    "    def __init__(self, numbers):\n",
    "        self.numbers = numbers\n",
    "        if type(self.numbers) != list:\n",
    "            sys.exit()\n",
    "    \n",
    "    def newlist(self):\n",
    "        self.rotation_index = 1\n",
    "        temp = []\n",
    "        \n",
    "        for i in range(self.rotation_index,len(self.numbers)):\n",
    "            temp.append(self.numbers[i])\n",
    "        \n",
    "        for j in range(self.rotation_index):\n",
    "            temp.append(self.numbers[j])\n",
    "        \n",
    "        return temp"
   ]
  },
  {
   "cell_type": "code",
   "execution_count": 33,
   "id": "c6a21a5b",
   "metadata": {},
   "outputs": [],
   "source": [
    "f1 = firstparth([1,2,3,4,5,6])"
   ]
  },
  {
   "cell_type": "code",
   "execution_count": 34,
   "id": "5e5e2790",
   "metadata": {},
   "outputs": [
    {
     "data": {
      "text/plain": [
       "[2, 3, 4, 5, 6, 1]"
      ]
     },
     "execution_count": 34,
     "metadata": {},
     "output_type": "execute_result"
    }
   ],
   "source": [
    "f1.newlist()"
   ]
  },
  {
   "cell_type": "code",
   "execution_count": 35,
   "id": "12333860",
   "metadata": {},
   "outputs": [],
   "source": [
    "f2 = firstparth([1,2,3,4,5,6,16,22])"
   ]
  },
  {
   "cell_type": "code",
   "execution_count": 36,
   "id": "75ea234e",
   "metadata": {},
   "outputs": [
    {
     "data": {
      "text/plain": [
       "[2, 3, 4, 5, 6, 16, 22, 1]"
      ]
     },
     "execution_count": 36,
     "metadata": {},
     "output_type": "execute_result"
    }
   ],
   "source": [
    "f2.newlist()"
   ]
  },
  {
   "cell_type": "code",
   "execution_count": null,
   "id": "ccad3a09",
   "metadata": {},
   "outputs": [],
   "source": []
  },
  {
   "cell_type": "code",
   "execution_count": null,
   "id": "d57a5f8a",
   "metadata": {},
   "outputs": [],
   "source": [
    "\"\"\"\n",
    "5.\tWrite a Python Program to check if given array is Monotonic?\n",
    "\"\"\""
   ]
  },
  {
   "cell_type": "code",
   "execution_count": 38,
   "id": "5d2f2b72",
   "metadata": {},
   "outputs": [],
   "source": [
    "def ismonotone(a):\n",
    "    n=len(a) \n",
    "    if n==1:\n",
    "        return True\n",
    "    else:\n",
    "        if all(a[i]>=a[i+1] for i in range(0,n-1) or a[i]<=a[i+1] for i in range(0,n-1)):\n",
    "            return True\n",
    "        else:\n",
    "            return False\n"
   ]
  },
  {
   "cell_type": "code",
   "execution_count": 39,
   "id": "1e185dc4",
   "metadata": {},
   "outputs": [
    {
     "name": "stdout",
     "output_type": "stream",
     "text": [
      "True\n",
      "False\n"
     ]
    }
   ],
   "source": [
    "A = [6, 5, 4, 2]\n",
    "print(ismonotone(A))\n",
    "b = [6, 2, 4, 2]\n",
    "print(ismonotone(b))"
   ]
  },
  {
   "cell_type": "code",
   "execution_count": null,
   "id": "19b3e4e8",
   "metadata": {},
   "outputs": [],
   "source": []
  }
 ],
 "metadata": {
  "kernelspec": {
   "display_name": "Python 3 (ipykernel)",
   "language": "python",
   "name": "python3"
  },
  "language_info": {
   "codemirror_mode": {
    "name": "ipython",
    "version": 3
   },
   "file_extension": ".py",
   "mimetype": "text/x-python",
   "name": "python",
   "nbconvert_exporter": "python",
   "pygments_lexer": "ipython3",
   "version": "3.9.7"
  }
 },
 "nbformat": 4,
 "nbformat_minor": 5
}
