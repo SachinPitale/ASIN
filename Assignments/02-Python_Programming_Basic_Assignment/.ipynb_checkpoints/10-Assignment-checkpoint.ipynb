{
 "cells": [
  {
   "cell_type": "code",
   "execution_count": null,
   "id": "c5cad28a",
   "metadata": {},
   "outputs": [],
   "source": [
    "\"\"\"\n",
    "1.\tWrite a Python program to find sum of elements in list?\n",
    "\n",
    "\"\"\""
   ]
  },
  {
   "cell_type": "code",
   "execution_count": 68,
   "id": "077b96e4",
   "metadata": {},
   "outputs": [],
   "source": [
    "import sys\n",
    "class sumlist:\n",
    "    def __init__(self):\n",
    "        pass      \n",
    "                \n",
    "        \n",
    "                \n",
    "    def sumelement(self,num):\n",
    "        self.num = num\n",
    "        self.total = 0\n",
    "        if type(self.num) == list:\n",
    "            for i in self.num:\n",
    "                if type(i) == int:\n",
    "                    self.total = self.total + i\n",
    "                else:\n",
    "                    sys.exit()\n",
    "        else:\n",
    "            sys.exit()\n",
    "            \n",
    "        return self.total\n",
    "                "
   ]
  },
  {
   "cell_type": "code",
   "execution_count": 69,
   "id": "a0b3f2ee",
   "metadata": {},
   "outputs": [],
   "source": [
    "s1 = sumlist()"
   ]
  },
  {
   "cell_type": "code",
   "execution_count": 70,
   "id": "6000443f",
   "metadata": {},
   "outputs": [
    {
     "data": {
      "text/plain": [
       "13"
      ]
     },
     "execution_count": 70,
     "metadata": {},
     "output_type": "execute_result"
    }
   ],
   "source": [
    "s1.sumelement([1,3,4,5])"
   ]
  },
  {
   "cell_type": "code",
   "execution_count": 71,
   "id": "4a06da75",
   "metadata": {},
   "outputs": [],
   "source": [
    "s2 = sumlist()"
   ]
  },
  {
   "cell_type": "code",
   "execution_count": 72,
   "id": "f6dcf303",
   "metadata": {},
   "outputs": [
    {
     "ename": "SystemExit",
     "evalue": "",
     "output_type": "error",
     "traceback": [
      "An exception has occurred, use %tb to see the full traceback.\n",
      "\u001b[1;31mSystemExit\u001b[0m\n"
     ]
    }
   ],
   "source": [
    "s2.sumelement((3,5,6,10))"
   ]
  },
  {
   "cell_type": "code",
   "execution_count": 73,
   "id": "14026d03",
   "metadata": {},
   "outputs": [],
   "source": [
    "s3 = sumlist()"
   ]
  },
  {
   "cell_type": "code",
   "execution_count": 74,
   "id": "d649074e",
   "metadata": {},
   "outputs": [
    {
     "ename": "SystemExit",
     "evalue": "",
     "output_type": "error",
     "traceback": [
      "An exception has occurred, use %tb to see the full traceback.\n",
      "\u001b[1;31mSystemExit\u001b[0m\n"
     ]
    }
   ],
   "source": [
    "s1.sumelement([1,3,4,5,\"abc\"])"
   ]
  },
  {
   "cell_type": "code",
   "execution_count": null,
   "id": "ee74ad62",
   "metadata": {},
   "outputs": [],
   "source": [
    "\"\"\"\n",
    "2.\tWrite a Python program to  Multiply all numbers in the list?\n",
    "\"\"\""
   ]
  },
  {
   "cell_type": "code",
   "execution_count": 84,
   "id": "b64614d0",
   "metadata": {},
   "outputs": [],
   "source": [
    "import sys\n",
    "class mullist:\n",
    "    def __init__(self):\n",
    "        pass      \n",
    "                \n",
    "        \n",
    "                \n",
    "    def mulelement(self,num):\n",
    "        self.num = num\n",
    "        self.total = []\n",
    "        if type(self.num) == list:\n",
    "            for i in self.num:\n",
    "                if type(i) == int:\n",
    "                    self.total.append(i**2)\n",
    "                else:\n",
    "                    print(\"List must be contain only integer value\")\n",
    "                    sys.exit()\n",
    "        else:\n",
    "            print(\"pass only list as input paramter \")\n",
    "            sys.exit()\n",
    "        return self.total"
   ]
  },
  {
   "cell_type": "code",
   "execution_count": 85,
   "id": "09e4a4a7",
   "metadata": {},
   "outputs": [],
   "source": [
    "m1 = mullist()"
   ]
  },
  {
   "cell_type": "code",
   "execution_count": 86,
   "id": "419ff896",
   "metadata": {},
   "outputs": [
    {
     "data": {
      "text/plain": [
       "[4, 9, 64, 81, 169]"
      ]
     },
     "execution_count": 86,
     "metadata": {},
     "output_type": "execute_result"
    }
   ],
   "source": [
    "m1.mulelement([2,3,8,9,13])"
   ]
  },
  {
   "cell_type": "code",
   "execution_count": 87,
   "id": "ce39d335",
   "metadata": {},
   "outputs": [],
   "source": [
    "m2 = mullist()"
   ]
  },
  {
   "cell_type": "code",
   "execution_count": 88,
   "id": "af8cb8f5",
   "metadata": {},
   "outputs": [
    {
     "name": "stdout",
     "output_type": "stream",
     "text": [
      "List must be contain only integer value\n"
     ]
    },
    {
     "ename": "SystemExit",
     "evalue": "",
     "output_type": "error",
     "traceback": [
      "An exception has occurred, use %tb to see the full traceback.\n",
      "\u001b[1;31mSystemExit\u001b[0m\n"
     ]
    }
   ],
   "source": [
    "m1.mulelement([2,3,8,9,13,\"sachin\"])"
   ]
  },
  {
   "cell_type": "code",
   "execution_count": 89,
   "id": "4dbed0f3",
   "metadata": {},
   "outputs": [],
   "source": [
    "m3 = mullist()"
   ]
  },
  {
   "cell_type": "code",
   "execution_count": 90,
   "id": "02f3ca91",
   "metadata": {},
   "outputs": [
    {
     "name": "stdout",
     "output_type": "stream",
     "text": [
      "pass only list as input paramter \n"
     ]
    },
    {
     "ename": "SystemExit",
     "evalue": "",
     "output_type": "error",
     "traceback": [
      "An exception has occurred, use %tb to see the full traceback.\n",
      "\u001b[1;31mSystemExit\u001b[0m\n"
     ]
    }
   ],
   "source": [
    "m3.mulelement((3,4,5,6))"
   ]
  },
  {
   "cell_type": "code",
   "execution_count": null,
   "id": "c722419d",
   "metadata": {},
   "outputs": [],
   "source": []
  },
  {
   "cell_type": "code",
   "execution_count": null,
   "id": "cd249e1f",
   "metadata": {},
   "outputs": [],
   "source": [
    "\"\"\"\n",
    "3.\tWrite a Python program to find smallest number in a list?\n",
    "\"\"\""
   ]
  },
  {
   "cell_type": "code",
   "execution_count": 120,
   "id": "c3f9b695",
   "metadata": {},
   "outputs": [],
   "source": [
    "import sys\n",
    "class smallnum:\n",
    "    def __init__(self):\n",
    "        pass\n",
    "    def small(self,listelement):\n",
    "        self.listelement = listelement\n",
    "        if type(self.listelement) == list:\n",
    "            for i in self.listelement:\n",
    "                if type(i) != int:\n",
    "                    print(\"Error:  List must contain only interger element\")\n",
    "                    sys.exit()\n",
    "        else:\n",
    "            print(\"Error:  user must provide list as input parameter\")\n",
    "            sys.exit()\n",
    "        \n",
    "        return min(self.listelement)\n",
    "            \n",
    "            "
   ]
  },
  {
   "cell_type": "code",
   "execution_count": 121,
   "id": "43dfc37c",
   "metadata": {},
   "outputs": [],
   "source": [
    "s1 = smallnum()"
   ]
  },
  {
   "cell_type": "code",
   "execution_count": 122,
   "id": "436da775",
   "metadata": {},
   "outputs": [
    {
     "data": {
      "text/plain": [
       "9"
      ]
     },
     "execution_count": 122,
     "metadata": {},
     "output_type": "execute_result"
    }
   ],
   "source": [
    "s1.small([11,67,9,54])"
   ]
  },
  {
   "cell_type": "code",
   "execution_count": 123,
   "id": "0ae59849",
   "metadata": {},
   "outputs": [],
   "source": [
    "s2 = smallnum()"
   ]
  },
  {
   "cell_type": "code",
   "execution_count": 124,
   "id": "e6525255",
   "metadata": {},
   "outputs": [
    {
     "name": "stdout",
     "output_type": "stream",
     "text": [
      "Error:  List must contain only interger element\n"
     ]
    },
    {
     "ename": "SystemExit",
     "evalue": "",
     "output_type": "error",
     "traceback": [
      "An exception has occurred, use %tb to see the full traceback.\n",
      "\u001b[1;31mSystemExit\u001b[0m\n"
     ]
    }
   ],
   "source": [
    "s1.small([11,67,9,54,\"abc\"])"
   ]
  },
  {
   "cell_type": "code",
   "execution_count": 125,
   "id": "ba0956e2",
   "metadata": {},
   "outputs": [],
   "source": [
    "s3 = smallnum()"
   ]
  },
  {
   "cell_type": "code",
   "execution_count": 126,
   "id": "44d1ecdd",
   "metadata": {},
   "outputs": [
    {
     "name": "stdout",
     "output_type": "stream",
     "text": [
      "Error:  user must provide list as input parameter\n"
     ]
    },
    {
     "ename": "SystemExit",
     "evalue": "",
     "output_type": "error",
     "traceback": [
      "An exception has occurred, use %tb to see the full traceback.\n",
      "\u001b[1;31mSystemExit\u001b[0m\n"
     ]
    }
   ],
   "source": [
    "s3.small((11,67,9,54,54.4))"
   ]
  },
  {
   "cell_type": "code",
   "execution_count": null,
   "id": "3c6e5f46",
   "metadata": {},
   "outputs": [],
   "source": []
  },
  {
   "cell_type": "code",
   "execution_count": null,
   "id": "b18fd353",
   "metadata": {},
   "outputs": [],
   "source": [
    "\"\"\"\n",
    "4.\tWrite a Python program to find largest number in a list?\n",
    "\"\"\""
   ]
  },
  {
   "cell_type": "code",
   "execution_count": 127,
   "id": "e9761b07",
   "metadata": {},
   "outputs": [],
   "source": [
    "import sys\n",
    "class maxnum:\n",
    "    def __init__(self):\n",
    "        pass\n",
    "    def maximum(self,listelement):\n",
    "        self.listelement = listelement\n",
    "        if type(self.listelement) == list:\n",
    "            for i in self.listelement:\n",
    "                if type(i) != int:\n",
    "                    print(\"Error:  List must contain only interger element\")\n",
    "                    sys.exit()\n",
    "        else:\n",
    "            print(\"Error:  user must provide list as input parameter\")\n",
    "            sys.exit()\n",
    "        \n",
    "        return max(self.listelement)"
   ]
  },
  {
   "cell_type": "code",
   "execution_count": 128,
   "id": "7e2f2bab",
   "metadata": {},
   "outputs": [],
   "source": [
    "m1 = maxnum()"
   ]
  },
  {
   "cell_type": "code",
   "execution_count": 130,
   "id": "ef908824",
   "metadata": {},
   "outputs": [
    {
     "data": {
      "text/plain": [
       "67"
      ]
     },
     "execution_count": 130,
     "metadata": {},
     "output_type": "execute_result"
    }
   ],
   "source": [
    "m1.maximum([11,67,9,54])"
   ]
  },
  {
   "cell_type": "code",
   "execution_count": 131,
   "id": "ef3255cf",
   "metadata": {},
   "outputs": [],
   "source": [
    "m2 = maxnum()"
   ]
  },
  {
   "cell_type": "code",
   "execution_count": 132,
   "id": "2fbc4be5",
   "metadata": {},
   "outputs": [
    {
     "name": "stdout",
     "output_type": "stream",
     "text": [
      "Error:  List must contain only interger element\n"
     ]
    },
    {
     "ename": "SystemExit",
     "evalue": "",
     "output_type": "error",
     "traceback": [
      "An exception has occurred, use %tb to see the full traceback.\n",
      "\u001b[1;31mSystemExit\u001b[0m\n"
     ]
    },
    {
     "name": "stderr",
     "output_type": "stream",
     "text": [
      "C:\\Users\\Delll\\anaconda3\\lib\\site-packages\\IPython\\core\\interactiveshell.py:3452: UserWarning: To exit: use 'exit', 'quit', or Ctrl-D.\n",
      "  warn(\"To exit: use 'exit', 'quit', or Ctrl-D.\", stacklevel=1)\n"
     ]
    }
   ],
   "source": [
    "m2.maximum([11,67,9,54,\"abc\"])"
   ]
  },
  {
   "cell_type": "code",
   "execution_count": 133,
   "id": "e3ff4f99",
   "metadata": {},
   "outputs": [],
   "source": [
    "m3 = maxnum()"
   ]
  },
  {
   "cell_type": "code",
   "execution_count": 135,
   "id": "f05ab883",
   "metadata": {},
   "outputs": [
    {
     "name": "stdout",
     "output_type": "stream",
     "text": [
      "Error:  user must provide list as input parameter\n"
     ]
    },
    {
     "ename": "SystemExit",
     "evalue": "",
     "output_type": "error",
     "traceback": [
      "An exception has occurred, use %tb to see the full traceback.\n",
      "\u001b[1;31mSystemExit\u001b[0m\n"
     ]
    }
   ],
   "source": [
    "m3.maximum((11,67,9,54,54.4))"
   ]
  },
  {
   "cell_type": "code",
   "execution_count": null,
   "id": "b7791e8c",
   "metadata": {},
   "outputs": [],
   "source": []
  },
  {
   "cell_type": "code",
   "execution_count": null,
   "id": "533dfbcd",
   "metadata": {},
   "outputs": [],
   "source": [
    "\"\"\"\n",
    "5.\tWrite a Python program to find second largest number in a list?\n",
    "\n",
    "\"\"\""
   ]
  },
  {
   "cell_type": "code",
   "execution_count": 144,
   "id": "c56fd44b",
   "metadata": {},
   "outputs": [],
   "source": [
    "import sys\n",
    "class maxnumsecond:\n",
    "    def __init__(self):\n",
    "        pass\n",
    "    def maxscond(self,listelement):\n",
    "        self.listelement = listelement\n",
    "        if type(self.listelement) == list:\n",
    "            for i in self.listelement:\n",
    "                if type(i) != int:\n",
    "                    print(\"Error:  List must contain only interger element\")\n",
    "                    sys.exit()\n",
    "        else:\n",
    "            print(\"Error:  user must provide list as input parameter\")\n",
    "            sys.exit()\n",
    "        \n",
    "        self.listelement.remove(max(self.listelement))\n",
    "        return max(self.listelement)"
   ]
  },
  {
   "cell_type": "code",
   "execution_count": null,
   "id": "02760a0d",
   "metadata": {},
   "outputs": [],
   "source": []
  },
  {
   "cell_type": "code",
   "execution_count": 145,
   "id": "bf7ebc89",
   "metadata": {},
   "outputs": [],
   "source": [
    "m1 = maxnumsecond()"
   ]
  },
  {
   "cell_type": "code",
   "execution_count": 146,
   "id": "d8e1f9cc",
   "metadata": {},
   "outputs": [
    {
     "data": {
      "text/plain": [
       "54"
      ]
     },
     "execution_count": 146,
     "metadata": {},
     "output_type": "execute_result"
    }
   ],
   "source": [
    "m1.maxscond([11,67,9,54])"
   ]
  },
  {
   "cell_type": "code",
   "execution_count": null,
   "id": "86b10eea",
   "metadata": {},
   "outputs": [],
   "source": []
  },
  {
   "cell_type": "code",
   "execution_count": null,
   "id": "03347fa8",
   "metadata": {},
   "outputs": [],
   "source": [
    "\"\"\"\n",
    "6.\tWrite a Python program to find N largest elements from a list?\n",
    "\"\"\""
   ]
  },
  {
   "cell_type": "code",
   "execution_count": 151,
   "id": "c5f665ce",
   "metadata": {},
   "outputs": [],
   "source": [
    "import sys\n",
    "class maxnumn:\n",
    "    def __init__(self):\n",
    "        pass\n",
    "    def maxscondn(self,listelement,largestnum):\n",
    "        self.listelement = listelement\n",
    "        self.largestnum = largestnum\n",
    "        self.largenum = []\n",
    "        if type(self.listelement) == list:\n",
    "            for i in self.listelement:\n",
    "                if type(i) != int:\n",
    "                    print(\"Error:  List must contain only interger element\")\n",
    "                    sys.exit()\n",
    "        else:\n",
    "            print(\"Error:  user must provide list as input parameter\")\n",
    "            sys.exit()\n",
    "        \n",
    "        for i in range(0,largestnum):\n",
    "            self.largenum.append(max(self.listelement))           \n",
    "            self.listelement.remove(max(self.listelement))\n",
    "        return self.largenum"
   ]
  },
  {
   "cell_type": "code",
   "execution_count": 152,
   "id": "d38c11f7",
   "metadata": {},
   "outputs": [],
   "source": [
    "n1 = maxnumn()"
   ]
  },
  {
   "cell_type": "code",
   "execution_count": 153,
   "id": "05ba7916",
   "metadata": {},
   "outputs": [
    {
     "data": {
      "text/plain": [
       "[378, 278]"
      ]
     },
     "execution_count": 153,
     "metadata": {},
     "output_type": "execute_result"
    }
   ],
   "source": [
    "n1.maxscondn([7,89,120,278,196,378],2)"
   ]
  },
  {
   "cell_type": "code",
   "execution_count": 154,
   "id": "a554d400",
   "metadata": {},
   "outputs": [],
   "source": [
    "n2 = maxnumn()"
   ]
  },
  {
   "cell_type": "code",
   "execution_count": 155,
   "id": "d362440b",
   "metadata": {},
   "outputs": [
    {
     "data": {
      "text/plain": [
       "[387, 278, 180, 122]"
      ]
     },
     "execution_count": 155,
     "metadata": {},
     "output_type": "execute_result"
    }
   ],
   "source": [
    "n2.maxscondn([84,98,12,122,387,95,180,278],4)"
   ]
  },
  {
   "cell_type": "code",
   "execution_count": null,
   "id": "bbac84ca",
   "metadata": {},
   "outputs": [],
   "source": [
    "\"\"\"\n",
    "7.\tWrite a Python program to print even numbers in a list?\n",
    "\n",
    "\"\"\""
   ]
  },
  {
   "cell_type": "code",
   "execution_count": 157,
   "id": "bbed4345",
   "metadata": {},
   "outputs": [],
   "source": [
    "import sys\n",
    "class listeven:\n",
    "    def __init__(self):\n",
    "        pass\n",
    "    def even(self,listelement):\n",
    "        self.listelement = listelement\n",
    "        if type(self.listelement) == list:\n",
    "            for i in self.listelement:\n",
    "                if type(i) != int:\n",
    "                    print(\"Error:  List must contain only interger element\")\n",
    "                    sys.exit()\n",
    "                elif  i %2 == 0:\n",
    "                    yield i\n",
    "        else:\n",
    "            print(\"Error:  user must provide list as input parameter\")\n",
    "            sys.exit()\n",
    "        \n",
    "        \n",
    "        \n",
    "        \n",
    "            \n",
    "        "
   ]
  },
  {
   "cell_type": "code",
   "execution_count": 158,
   "id": "06adb670",
   "metadata": {},
   "outputs": [],
   "source": [
    "l1 = listeven()"
   ]
  },
  {
   "cell_type": "code",
   "execution_count": 159,
   "id": "55d34764",
   "metadata": {},
   "outputs": [
    {
     "name": "stdout",
     "output_type": "stream",
     "text": [
      "6\n",
      "28\n",
      "78\n"
     ]
    }
   ],
   "source": [
    "for i in l1.even([1,3,6,28,33,78]):\n",
    "    print(i)"
   ]
  },
  {
   "cell_type": "code",
   "execution_count": null,
   "id": "c68fdfcb",
   "metadata": {},
   "outputs": [],
   "source": [
    "\"\"\"\n",
    "8.\tWrite a Python program to print odd numbers in a List?\n",
    "\n",
    "\"\"\""
   ]
  },
  {
   "cell_type": "code",
   "execution_count": 1,
   "id": "f4360217",
   "metadata": {},
   "outputs": [],
   "source": [
    "import sys\n",
    "class listodd:\n",
    "    def __init__(self):\n",
    "        pass\n",
    "    def odd(self,listelement):\n",
    "        self.listelement = listelement\n",
    "        if type(self.listelement) == list:\n",
    "            for i in self.listelement:\n",
    "                if type(i) != int:\n",
    "                    print(\"Error:  List must contain only interger element\")\n",
    "                    sys.exit()\n",
    "                elif  i %2 != 0:\n",
    "                    yield i\n",
    "        else:\n",
    "            print(\"Error:  user must provide list as input parameter\")\n",
    "            sys.exit()"
   ]
  },
  {
   "cell_type": "code",
   "execution_count": 2,
   "id": "3214fe7e",
   "metadata": {},
   "outputs": [],
   "source": [
    "o1 = listodd()"
   ]
  },
  {
   "cell_type": "code",
   "execution_count": 3,
   "id": "921c71a0",
   "metadata": {},
   "outputs": [
    {
     "name": "stdout",
     "output_type": "stream",
     "text": [
      "1\n",
      "3\n",
      "33\n"
     ]
    }
   ],
   "source": [
    "for i in o1.odd([1,3,6,28,33,78]):\n",
    "    print (i)"
   ]
  },
  {
   "cell_type": "code",
   "execution_count": 4,
   "id": "7d11b401",
   "metadata": {},
   "outputs": [
    {
     "data": {
      "text/plain": [
       "'\\n9.\\tWrite a Python program to Remove empty List from List?\\n\\n'"
      ]
     },
     "execution_count": 4,
     "metadata": {},
     "output_type": "execute_result"
    }
   ],
   "source": [
    "\"\"\"\n",
    "9.\tWrite a Python program to Remove empty List from List?\n",
    "\n",
    "\"\"\""
   ]
  },
  {
   "cell_type": "code",
   "execution_count": 23,
   "id": "12c94b1e",
   "metadata": {},
   "outputs": [],
   "source": [
    "class removeemptylist:\n",
    "    def __init__(self):\n",
    "        pass\n",
    "    def empty(self,listelement):\n",
    "        self.listelement = listelement\n",
    "        if type(self.listelement) == list:\n",
    "            for i in self.listelement:\n",
    "                if type(i) == list:\n",
    "                    if not i:\n",
    "                        self.listelement.remove(i)\n",
    "            return self.listelement"
   ]
  },
  {
   "cell_type": "code",
   "execution_count": 24,
   "id": "ed0d63d5",
   "metadata": {},
   "outputs": [],
   "source": [
    "r1 = removeemptylist()"
   ]
  },
  {
   "cell_type": "code",
   "execution_count": 25,
   "id": "36ac4d47",
   "metadata": {},
   "outputs": [
    {
     "data": {
      "text/plain": [
       "[[3, 4, 5], 56, True, 54.6, (7, 8, 9), [7, 8, 9]]"
      ]
     },
     "execution_count": 25,
     "metadata": {},
     "output_type": "execute_result"
    }
   ],
   "source": [
    "r1.empty([[3,4,5],56,True,54.6,[],(7,8,9), [], [7,8,9]])"
   ]
  },
  {
   "cell_type": "code",
   "execution_count": null,
   "id": "ace479b7",
   "metadata": {},
   "outputs": [],
   "source": []
  },
  {
   "cell_type": "code",
   "execution_count": null,
   "id": "4e4a7d3d",
   "metadata": {},
   "outputs": [],
   "source": [
    "\"\"\"\n",
    "10.\tWrite a Python program to Cloning or Copying a list?\n",
    "\n",
    "\"\"\""
   ]
  },
  {
   "cell_type": "code",
   "execution_count": 1,
   "id": "8ab406fd",
   "metadata": {},
   "outputs": [
    {
     "name": "stdout",
     "output_type": "stream",
     "text": [
      "Enter your list element :[3,8,9,10]\n",
      "Original List: [3,8,9,10]\n",
      "After Cloning: [3,8,9,10]\n"
     ]
    }
   ],
   "source": [
    "def clone(l):\n",
    "    l1 = list(l)\n",
    "    return l\n",
    "\n",
    "user_list = input(\"Enter your list element :\")\n",
    "print(\"Original List:\", user_list)\n",
    "user_list1 = clone(user_list)\n",
    "print(\"After Cloning:\", user_list1)"
   ]
  },
  {
   "cell_type": "code",
   "execution_count": null,
   "id": "7ef42a05",
   "metadata": {},
   "outputs": [],
   "source": [
    "\"\"\"\n",
    "11.\tWrite a Python program to Count occurrences of an element in a list?\n",
    "\n",
    "\"\"\""
   ]
  },
  {
   "cell_type": "code",
   "execution_count": 4,
   "id": "a328206f",
   "metadata": {},
   "outputs": [],
   "source": [
    "def countoccurrences(lst,n):\n",
    "    return lst.count(n)\n",
    "    "
   ]
  },
  {
   "cell_type": "code",
   "execution_count": 7,
   "id": "b80bddcd",
   "metadata": {},
   "outputs": [],
   "source": [
    "l = [3,4,6,7,8,10,11,14,12,14,13,14,11,15,11,18,11]"
   ]
  },
  {
   "cell_type": "code",
   "execution_count": 8,
   "id": "efb98691",
   "metadata": {},
   "outputs": [
    {
     "data": {
      "text/plain": [
       "3"
      ]
     },
     "execution_count": 8,
     "metadata": {},
     "output_type": "execute_result"
    }
   ],
   "source": [
    "countoccurrences(l,14)"
   ]
  },
  {
   "cell_type": "code",
   "execution_count": 9,
   "id": "80b5509b",
   "metadata": {},
   "outputs": [
    {
     "data": {
      "text/plain": [
       "4"
      ]
     },
     "execution_count": 9,
     "metadata": {},
     "output_type": "execute_result"
    }
   ],
   "source": [
    "countoccurrences(l,11)"
   ]
  },
  {
   "cell_type": "code",
   "execution_count": null,
   "id": "ad63736f",
   "metadata": {},
   "outputs": [],
   "source": []
  }
 ],
 "metadata": {
  "kernelspec": {
   "display_name": "Python 3 (ipykernel)",
   "language": "python",
   "name": "python3"
  },
  "language_info": {
   "codemirror_mode": {
    "name": "ipython",
    "version": 3
   },
   "file_extension": ".py",
   "mimetype": "text/x-python",
   "name": "python",
   "nbconvert_exporter": "python",
   "pygments_lexer": "ipython3",
   "version": "3.9.7"
  }
 },
 "nbformat": 4,
 "nbformat_minor": 5
}
