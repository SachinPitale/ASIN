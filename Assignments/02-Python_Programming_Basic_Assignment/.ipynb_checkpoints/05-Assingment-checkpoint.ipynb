{
 "cells": [
  {
   "cell_type": "code",
   "execution_count": null,
   "id": "ef173b1c",
   "metadata": {},
   "outputs": [],
   "source": [
    "\"\"\"\n",
    "1.\tWrite a Python Program to Find LCM?\n",
    "\n",
    "\"\"\""
   ]
  },
  {
   "cell_type": "code",
   "execution_count": 1,
   "id": "209daeaf",
   "metadata": {},
   "outputs": [],
   "source": [
    "class computelcm:\n",
    "    def __init__(self,num1,num2):\n",
    "        self.num1 = num1\n",
    "        self.num2 = num2\n",
    "    \n",
    "    def lcm(self):\n",
    "        if self.num1 > self.num2:\n",
    "            self.greater = self.num1\n",
    "        else:\n",
    "            self.greater = self.num2\n",
    "        \n",
    "        while(True):\n",
    "            if ((self.greater % self.num1 == 0) and (self.greater % self.num2 == 0)):\n",
    "                lc = self.greater\n",
    "                break\n",
    "            self.greater += 1\n",
    "        \n",
    "        return lc\n",
    "    "
   ]
  },
  {
   "cell_type": "code",
   "execution_count": 5,
   "id": "c89d56ef",
   "metadata": {},
   "outputs": [],
   "source": [
    "c1 = computelcm(56,78)"
   ]
  },
  {
   "cell_type": "code",
   "execution_count": 6,
   "id": "6228e6e2",
   "metadata": {},
   "outputs": [
    {
     "data": {
      "text/plain": [
       "2184"
      ]
     },
     "execution_count": 6,
     "metadata": {},
     "output_type": "execute_result"
    }
   ],
   "source": [
    "c1.lcm()"
   ]
  },
  {
   "cell_type": "code",
   "execution_count": 8,
   "id": "2938987e",
   "metadata": {},
   "outputs": [],
   "source": [
    "c2 = computelcm(156,278)"
   ]
  },
  {
   "cell_type": "code",
   "execution_count": 9,
   "id": "2ce4782a",
   "metadata": {},
   "outputs": [
    {
     "data": {
      "text/plain": [
       "21684"
      ]
     },
     "execution_count": 9,
     "metadata": {},
     "output_type": "execute_result"
    }
   ],
   "source": [
    "c2.lcm()"
   ]
  },
  {
   "cell_type": "code",
   "execution_count": null,
   "id": "2fb009f9",
   "metadata": {},
   "outputs": [],
   "source": [
    "\"\"\"\n",
    "2.\tWrite a Python Program to Find HCF?\n",
    "\n",
    "\"\"\""
   ]
  },
  {
   "cell_type": "code",
   "execution_count": 12,
   "id": "692e4819",
   "metadata": {},
   "outputs": [],
   "source": [
    "class computehcm:\n",
    "    def __init__(self,num1,num2):\n",
    "        self.num1 = num1\n",
    "        self.num2 = num2\n",
    "    \n",
    "    def hcm(self):\n",
    "        if self.num1 < self.num2:\n",
    "            self.smaller = self.num1\n",
    "        else:\n",
    "            self.smaller = self.num2\n",
    "        \n",
    "        for i in range(1, self.smaller+1):\n",
    "            if ((self.num1 % i == 0) and (self.num2 % i == 0)):\n",
    "                hc = i\n",
    "            \n",
    "        \n",
    "        return hc"
   ]
  },
  {
   "cell_type": "code",
   "execution_count": 15,
   "id": "f87dc138",
   "metadata": {},
   "outputs": [],
   "source": [
    "ch1 = computehcm(154,224)"
   ]
  },
  {
   "cell_type": "code",
   "execution_count": 16,
   "id": "92166fc6",
   "metadata": {},
   "outputs": [
    {
     "data": {
      "text/plain": [
       "14"
      ]
     },
     "execution_count": 16,
     "metadata": {},
     "output_type": "execute_result"
    }
   ],
   "source": [
    "ch1.hcm()"
   ]
  },
  {
   "cell_type": "code",
   "execution_count": 21,
   "id": "9a83fe36",
   "metadata": {},
   "outputs": [],
   "source": [
    "ch2 = computehcm(152,228)"
   ]
  },
  {
   "cell_type": "code",
   "execution_count": 22,
   "id": "e8d17e59",
   "metadata": {},
   "outputs": [
    {
     "data": {
      "text/plain": [
       "76"
      ]
     },
     "execution_count": 22,
     "metadata": {},
     "output_type": "execute_result"
    }
   ],
   "source": [
    "ch2.hcm()"
   ]
  },
  {
   "cell_type": "code",
   "execution_count": null,
   "id": "345333ad",
   "metadata": {},
   "outputs": [],
   "source": [
    "\"\"\"\n",
    "\n",
    "3.\tWrite a Python Program to Convert Decimal to Binary, Octal and Hexadecimal?\n",
    "\n",
    "\"\"\""
   ]
  },
  {
   "cell_type": "code",
   "execution_count": 23,
   "id": "820fe790",
   "metadata": {},
   "outputs": [],
   "source": [
    "class numcoversion:\n",
    "    def __init__(self,num):\n",
    "        self.num = num\n",
    "    \n",
    "    def Binary(self):\n",
    "        return bin(self.num)\n",
    "    def Octal(self):\n",
    "        return oct(self.num)\n",
    "    def Hexadecimal(self):\n",
    "        return hex(self.num)"
   ]
  },
  {
   "cell_type": "code",
   "execution_count": 28,
   "id": "4d6209ed",
   "metadata": {},
   "outputs": [],
   "source": [
    "n1 = numcoversion(367)"
   ]
  },
  {
   "cell_type": "code",
   "execution_count": 29,
   "id": "36b8c7d8",
   "metadata": {},
   "outputs": [
    {
     "data": {
      "text/plain": [
       "'0b101101111'"
      ]
     },
     "execution_count": 29,
     "metadata": {},
     "output_type": "execute_result"
    }
   ],
   "source": [
    "n1.Binary()"
   ]
  },
  {
   "cell_type": "code",
   "execution_count": 30,
   "id": "990fd554",
   "metadata": {},
   "outputs": [
    {
     "data": {
      "text/plain": [
       "'0x16f'"
      ]
     },
     "execution_count": 30,
     "metadata": {},
     "output_type": "execute_result"
    }
   ],
   "source": [
    "n1.Hexadecimal()"
   ]
  },
  {
   "cell_type": "code",
   "execution_count": 31,
   "id": "ab3db13a",
   "metadata": {},
   "outputs": [
    {
     "data": {
      "text/plain": [
       "'0o557'"
      ]
     },
     "execution_count": 31,
     "metadata": {},
     "output_type": "execute_result"
    }
   ],
   "source": [
    "n1.Octal()"
   ]
  },
  {
   "cell_type": "code",
   "execution_count": null,
   "id": "e7dd0b9e",
   "metadata": {},
   "outputs": [],
   "source": []
  },
  {
   "cell_type": "code",
   "execution_count": null,
   "id": "031a7570",
   "metadata": {},
   "outputs": [],
   "source": [
    "\"\"\"\n",
    "4.\tWrite a Python Program To Find ASCII value of a character?\n",
    "\n",
    "\"\"\""
   ]
  },
  {
   "cell_type": "code",
   "execution_count": 33,
   "id": "bac897ec",
   "metadata": {},
   "outputs": [],
   "source": [
    "class findascii:\n",
    "    def __init__(self,char):\n",
    "        self.char = char\n",
    "    \n",
    "    \n",
    "    def ascii(self):\n",
    "        return ord(self.char)"
   ]
  },
  {
   "cell_type": "code",
   "execution_count": 39,
   "id": "22e604d3",
   "metadata": {},
   "outputs": [],
   "source": [
    "c1 = findascii('q')"
   ]
  },
  {
   "cell_type": "code",
   "execution_count": 40,
   "id": "6c1964fd",
   "metadata": {},
   "outputs": [
    {
     "data": {
      "text/plain": [
       "113"
      ]
     },
     "execution_count": 40,
     "metadata": {},
     "output_type": "execute_result"
    }
   ],
   "source": [
    "c1.ascii()"
   ]
  },
  {
   "cell_type": "code",
   "execution_count": 43,
   "id": "8079a81a",
   "metadata": {},
   "outputs": [],
   "source": [
    "c2 = findascii('S')"
   ]
  },
  {
   "cell_type": "code",
   "execution_count": 44,
   "id": "7224898f",
   "metadata": {},
   "outputs": [
    {
     "data": {
      "text/plain": [
       "83"
      ]
     },
     "execution_count": 44,
     "metadata": {},
     "output_type": "execute_result"
    }
   ],
   "source": [
    "c2.ascii()"
   ]
  },
  {
   "cell_type": "code",
   "execution_count": null,
   "id": "547d04e2",
   "metadata": {},
   "outputs": [],
   "source": []
  },
  {
   "cell_type": "code",
   "execution_count": null,
   "id": "4ae2d17c",
   "metadata": {},
   "outputs": [],
   "source": [
    "\"\"\"\n",
    "5.\tWrite a Python Program to Make a Simple Calculator with 4 basic mathematical operations?\n",
    "\"\"\""
   ]
  },
  {
   "cell_type": "code",
   "execution_count": 51,
   "id": "214ce13d",
   "metadata": {},
   "outputs": [],
   "source": [
    "class cal:\n",
    "    def __init__(self,num1,num2):\n",
    "        self.num1 = num1\n",
    "        self.num2 = num2\n",
    "    \n",
    "    \n",
    "    def add(self):\n",
    "        return self.num1 + self.num2\n",
    "    \n",
    "    \n",
    "    def sub(self):\n",
    "        return self.num1 - self.num2\n",
    "    \n",
    "    def mul(self):\n",
    "        return self.num1 * self.num2\n",
    "    \n",
    "    def div(self):\n",
    "        return self.num1 / self.num2\n",
    "    \n",
    "    \n",
    "    \n",
    "    "
   ]
  },
  {
   "cell_type": "code",
   "execution_count": 52,
   "id": "098c3ec0",
   "metadata": {},
   "outputs": [],
   "source": [
    "c1 = cal(20,10)"
   ]
  },
  {
   "cell_type": "code",
   "execution_count": 53,
   "id": "76438053",
   "metadata": {},
   "outputs": [
    {
     "data": {
      "text/plain": [
       "30"
      ]
     },
     "execution_count": 53,
     "metadata": {},
     "output_type": "execute_result"
    }
   ],
   "source": [
    "c1.add()"
   ]
  },
  {
   "cell_type": "code",
   "execution_count": 54,
   "id": "0086f15f",
   "metadata": {},
   "outputs": [
    {
     "data": {
      "text/plain": [
       "10"
      ]
     },
     "execution_count": 54,
     "metadata": {},
     "output_type": "execute_result"
    }
   ],
   "source": [
    "c1.sub()"
   ]
  },
  {
   "cell_type": "code",
   "execution_count": 55,
   "id": "3181a8f3",
   "metadata": {},
   "outputs": [
    {
     "data": {
      "text/plain": [
       "200"
      ]
     },
     "execution_count": 55,
     "metadata": {},
     "output_type": "execute_result"
    }
   ],
   "source": [
    "c1.mul()"
   ]
  },
  {
   "cell_type": "code",
   "execution_count": 56,
   "id": "187506a3",
   "metadata": {},
   "outputs": [
    {
     "data": {
      "text/plain": [
       "2.0"
      ]
     },
     "execution_count": 56,
     "metadata": {},
     "output_type": "execute_result"
    }
   ],
   "source": [
    "c1.div()"
   ]
  },
  {
   "cell_type": "code",
   "execution_count": null,
   "id": "60c67bda",
   "metadata": {},
   "outputs": [],
   "source": []
  }
 ],
 "metadata": {
  "kernelspec": {
   "display_name": "Python 3 (ipykernel)",
   "language": "python",
   "name": "python3"
  },
  "language_info": {
   "codemirror_mode": {
    "name": "ipython",
    "version": 3
   },
   "file_extension": ".py",
   "mimetype": "text/x-python",
   "name": "python",
   "nbconvert_exporter": "python",
   "pygments_lexer": "ipython3",
   "version": "3.9.7"
  }
 },
 "nbformat": 4,
 "nbformat_minor": 5
}
