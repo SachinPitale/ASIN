{
 "cells": [
  {
   "cell_type": "code",
   "execution_count": null,
   "id": "be080c24",
   "metadata": {},
   "outputs": [],
   "source": [
    "\"\"\"\n",
    "1.\tWrite a Python Program to Add Two Matrices?\n",
    "\"\"\""
   ]
  },
  {
   "cell_type": "code",
   "execution_count": 16,
   "id": "7ddb70ba",
   "metadata": {},
   "outputs": [
    {
     "name": "stdout",
     "output_type": "stream",
     "text": [
      "[17, 25, 14]\n",
      "[10, 32, 29]\n",
      "[41, 13, 68]\n"
     ]
    }
   ],
   "source": [
    "X = [[12,17,3],\n",
    "    [4 ,25,6],\n",
    "    [7 ,8,59]]\n",
    "\n",
    "Y = [[5,8,11],\n",
    "    [6,7,23],\n",
    "    [34,5,9]]\n",
    "\n",
    "result = [[0,0,0],\n",
    "         [0,0,0],\n",
    "         [0,0,0]]\n",
    "\n",
    "\n",
    "for i in range(len(X)):\n",
    "   for j in range(len(X)):\n",
    "       result[i][j] = X[i][j] + Y[i][j]\n",
    "\n",
    "for r in result:\n",
    "   print(r)\n"
   ]
  },
  {
   "cell_type": "code",
   "execution_count": null,
   "id": "bf9e98d5",
   "metadata": {},
   "outputs": [],
   "source": []
  },
  {
   "cell_type": "code",
   "execution_count": null,
   "id": "e3093f21",
   "metadata": {},
   "outputs": [],
   "source": []
  },
  {
   "cell_type": "code",
   "execution_count": null,
   "id": "4df182bc",
   "metadata": {},
   "outputs": [],
   "source": [
    "\"\"\"\n",
    "2.\tWrite a Python Program to Multiply Two Matrices?\n",
    "\"\"\""
   ]
  },
  {
   "cell_type": "code",
   "execution_count": 15,
   "id": "b316e36b",
   "metadata": {},
   "outputs": [
    {
     "name": "stdout",
     "output_type": "stream",
     "text": [
      "[60, 136, 33]\n",
      "[24, 175, 138]\n",
      "[238, 40, 531]\n"
     ]
    }
   ],
   "source": [
    "X = [[12,17,3],\n",
    "    [4 ,25,6],\n",
    "    [7 ,8,59]]\n",
    "\n",
    "Y = [[5,8,11],\n",
    "    [6,7,23],\n",
    "    [34,5,9]]\n",
    "\n",
    "result = [[0,0,0],\n",
    "         [0,0,0],\n",
    "         [0,0,0]]\n",
    "\n",
    "\n",
    "for i in range(len(X)):\n",
    "   for j in range(len(X)):\n",
    "       result[i][j] = X[i][j] * Y[i][j]\n",
    "\n",
    "for r in result:\n",
    "   print(r)"
   ]
  },
  {
   "cell_type": "code",
   "execution_count": null,
   "id": "89dd99ad",
   "metadata": {},
   "outputs": [],
   "source": []
  },
  {
   "cell_type": "code",
   "execution_count": 17,
   "id": "64cefcdb",
   "metadata": {},
   "outputs": [
    {
     "data": {
      "text/plain": [
       "'\\n3.\\tWrite a Python Program to Transpose a Matrix?\\n\\n'"
      ]
     },
     "execution_count": 17,
     "metadata": {},
     "output_type": "execute_result"
    }
   ],
   "source": [
    "\"\"\"\n",
    "3.\tWrite a Python Program to Transpose a Matrix?\n",
    "\n",
    "\"\"\""
   ]
  },
  {
   "cell_type": "code",
   "execution_count": 13,
   "id": "038e8839",
   "metadata": {},
   "outputs": [
    {
     "name": "stdout",
     "output_type": "stream",
     "text": [
      "[12, 4, 3]\n",
      "[7, 5, 8]\n"
     ]
    }
   ],
   "source": [
    "X = [[12,7],\n",
    "    [4 ,5],\n",
    "    [3 ,8]]\n",
    "\n",
    "result = [[0,0,0],\n",
    "         [0,0,0]]\n",
    "\n",
    "for i in range(len(X)):\n",
    "    for j in range(len(X[0])):\n",
    "        result[j][i] = X[i][j]\n",
    "\n",
    "for r in result:\n",
    "   print(r)"
   ]
  },
  {
   "cell_type": "code",
   "execution_count": null,
   "id": "da133f87",
   "metadata": {},
   "outputs": [],
   "source": []
  },
  {
   "cell_type": "code",
   "execution_count": null,
   "id": "55449328",
   "metadata": {},
   "outputs": [],
   "source": []
  },
  {
   "cell_type": "code",
   "execution_count": null,
   "id": "ec92d5ed",
   "metadata": {},
   "outputs": [],
   "source": [
    "\"\"\"\n",
    "4.\tWrite a Python Program to Sort Words in Alphabetic Order?\n",
    "\n",
    "\"\"\""
   ]
  },
  {
   "cell_type": "code",
   "execution_count": 37,
   "id": "34d6a0f9",
   "metadata": {},
   "outputs": [],
   "source": [
    "class sortswords:\n",
    "    def __init__(self,userstring):\n",
    "        self.userstring = userstring\n",
    "    \n",
    "    def stringstort(self):\n",
    "        l = []\n",
    "        self.word = self.userstring\n",
    "        self.word = self.word.lower()\n",
    "        self.word = self.word.split()\n",
    "        self.word.sort()\n",
    "        for i in self.word:\n",
    "            l.append(i)\n",
    "        return l\n",
    "            "
   ]
  },
  {
   "cell_type": "code",
   "execution_count": 38,
   "id": "f585b347",
   "metadata": {},
   "outputs": [],
   "source": [
    "str1 = sortswords(\"I am learning a python\")"
   ]
  },
  {
   "cell_type": "code",
   "execution_count": 39,
   "id": "f7819c3c",
   "metadata": {},
   "outputs": [
    {
     "data": {
      "text/plain": [
       "['a', 'am', 'i', 'learning', 'python']"
      ]
     },
     "execution_count": 39,
     "metadata": {},
     "output_type": "execute_result"
    }
   ],
   "source": [
    "str1.stringstort()"
   ]
  },
  {
   "cell_type": "code",
   "execution_count": 40,
   "id": "8f658a72",
   "metadata": {},
   "outputs": [],
   "source": [
    "str2 = sortswords(\"Python supports oops as well as interpreter language\")"
   ]
  },
  {
   "cell_type": "code",
   "execution_count": 41,
   "id": "90a2856c",
   "metadata": {},
   "outputs": [
    {
     "data": {
      "text/plain": [
       "['as', 'as', 'interpreter', 'language', 'oops', 'python', 'supports', 'well']"
      ]
     },
     "execution_count": 41,
     "metadata": {},
     "output_type": "execute_result"
    }
   ],
   "source": [
    "str2.stringstort()"
   ]
  },
  {
   "cell_type": "code",
   "execution_count": null,
   "id": "8f7e3017",
   "metadata": {},
   "outputs": [],
   "source": []
  },
  {
   "cell_type": "code",
   "execution_count": null,
   "id": "1fdcf9ab",
   "metadata": {},
   "outputs": [],
   "source": [
    "\"\"\"\n",
    "5.\tWrite a Python Program to Remove Punctuation From a String?\n",
    "\n",
    "\"\"\"\n"
   ]
  },
  {
   "cell_type": "code",
   "execution_count": 2,
   "id": "7ab40785",
   "metadata": {},
   "outputs": [],
   "source": [
    "class removepunctuation:\n",
    "    def __init__(self,userstring):\n",
    "        self.userstring = userstring\n",
    "    \n",
    "    def remove(self):\n",
    "        self.punctuations = '''!()-[]{};:'\"\\,<>./?@#$%^&*_~'''\n",
    "        self.punct = \"\"\n",
    "        for i in self.userstring:\n",
    "            if i not in self.punctuations:\n",
    "                self.punct = self.punct + i\n",
    "        return self.punct\n",
    "        "
   ]
  },
  {
   "cell_type": "code",
   "execution_count": 3,
   "id": "17c6a2a3",
   "metadata": {},
   "outputs": [],
   "source": [
    "r1 = removepunctuation(\"Hello!!!, he said ---and went.\")"
   ]
  },
  {
   "cell_type": "code",
   "execution_count": 4,
   "id": "364017a3",
   "metadata": {},
   "outputs": [
    {
     "data": {
      "text/plain": [
       "'Hello he said and went'"
      ]
     },
     "execution_count": 4,
     "metadata": {},
     "output_type": "execute_result"
    }
   ],
   "source": [
    "r1.remove()"
   ]
  },
  {
   "cell_type": "code",
   "execution_count": 5,
   "id": "259d2987",
   "metadata": {},
   "outputs": [],
   "source": [
    "r2 = removepunctuation(\"Hello!!!, i am leanrning, python  () ---and went.\")"
   ]
  },
  {
   "cell_type": "code",
   "execution_count": 6,
   "id": "4981a076",
   "metadata": {},
   "outputs": [
    {
     "data": {
      "text/plain": [
       "'Hello i am leanrning python   and went'"
      ]
     },
     "execution_count": 6,
     "metadata": {},
     "output_type": "execute_result"
    }
   ],
   "source": [
    "r2.remove()"
   ]
  },
  {
   "cell_type": "code",
   "execution_count": null,
   "id": "c4204168",
   "metadata": {},
   "outputs": [],
   "source": []
  }
 ],
 "metadata": {
  "kernelspec": {
   "display_name": "Python 3 (ipykernel)",
   "language": "python",
   "name": "python3"
  },
  "language_info": {
   "codemirror_mode": {
    "name": "ipython",
    "version": 3
   },
   "file_extension": ".py",
   "mimetype": "text/x-python",
   "name": "python",
   "nbconvert_exporter": "python",
   "pygments_lexer": "ipython3",
   "version": "3.9.7"
  }
 },
 "nbformat": 4,
 "nbformat_minor": 5
}
