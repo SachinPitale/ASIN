{
 "cells": [
  {
   "cell_type": "code",
   "execution_count": null,
   "id": "3774b007",
   "metadata": {},
   "outputs": [],
   "source": [
    "\"\"\"\n",
    "1.\tWrite a Python program to check if the given number is a Disarium Number?\n",
    "\"\"\""
   ]
  },
  {
   "cell_type": "code",
   "execution_count": 13,
   "id": "a4d46248",
   "metadata": {},
   "outputs": [],
   "source": [
    "class Disariumnumber:\n",
    "    def __init__(self,num):\n",
    "        self.num = num\n",
    "\n",
    "    def Disarium(self):\n",
    "        self.sum = 0\n",
    "        for i,j in enumerate(str(self.num)):\n",
    "            self.sum = self.sum + int(j) **(i +1)\n",
    "        \n",
    "        if self.sum == self.num:\n",
    "            return \"The number is Disarium\", self.num\n",
    "        else:\n",
    "            return \"The number is not Disarium\",self.num"
   ]
  },
  {
   "cell_type": "code",
   "execution_count": 14,
   "id": "ac011f09",
   "metadata": {},
   "outputs": [],
   "source": [
    "d1 =  Disariumnumber(145)"
   ]
  },
  {
   "cell_type": "code",
   "execution_count": 15,
   "id": "87e36308",
   "metadata": {},
   "outputs": [
    {
     "data": {
      "text/plain": [
       "('The number is not Disarium', 145)"
      ]
     },
     "execution_count": 15,
     "metadata": {},
     "output_type": "execute_result"
    }
   ],
   "source": [
    "d1.Disarium()"
   ]
  },
  {
   "cell_type": "code",
   "execution_count": 16,
   "id": "92305984",
   "metadata": {},
   "outputs": [],
   "source": [
    "d2 =  Disariumnumber(135)"
   ]
  },
  {
   "cell_type": "code",
   "execution_count": 17,
   "id": "1ccc607a",
   "metadata": {},
   "outputs": [
    {
     "data": {
      "text/plain": [
       "('The number is Disarium', 135)"
      ]
     },
     "execution_count": 17,
     "metadata": {},
     "output_type": "execute_result"
    }
   ],
   "source": [
    "d2.Disarium()"
   ]
  },
  {
   "cell_type": "code",
   "execution_count": null,
   "id": "014f8643",
   "metadata": {},
   "outputs": [],
   "source": [
    "\"\"\"\n",
    "2.\tWrite a Python program to print all disarium numbers between 1 to 100?\n",
    "\n",
    "\"\"\""
   ]
  },
  {
   "cell_type": "code",
   "execution_count": 21,
   "id": "9dd6a9af",
   "metadata": {},
   "outputs": [
    {
     "name": "stdout",
     "output_type": "stream",
     "text": [
      "Number is Disarium 1 1\n",
      "Number is Disarium 2 2\n",
      "Number is Disarium 3 3\n",
      "Number is Disarium 4 4\n",
      "Number is Disarium 5 5\n",
      "Number is Disarium 6 6\n",
      "Number is Disarium 7 7\n",
      "Number is Disarium 8 8\n",
      "Number is Disarium 9 9\n",
      "Number is Disarium 89 89\n"
     ]
    }
   ],
   "source": [
    "\n",
    "for i in range(1,100+1):\n",
    "    sum = 0\n",
    "    for m,n in enumerate(str(i)):\n",
    "        sum = sum + int(n) **(m+1)\n",
    "    \n",
    "    if sum == i:\n",
    "        print (\"Number is Disarium\", i,sum)\n",
    "  \n",
    "        "
   ]
  },
  {
   "cell_type": "code",
   "execution_count": null,
   "id": "c71f0849",
   "metadata": {},
   "outputs": [],
   "source": []
  },
  {
   "cell_type": "code",
   "execution_count": null,
   "id": "e15f7040",
   "metadata": {},
   "outputs": [],
   "source": [
    "\"\"\"\n",
    "3.\tWrite a Python program to check if the given number is Happy Number?\n",
    "\"\"\""
   ]
  },
  {
   "cell_type": "code",
   "execution_count": 57,
   "id": "d933aefb",
   "metadata": {},
   "outputs": [
    {
     "name": "stdout",
     "output_type": "stream",
     "text": [
      "Enter your number to check happy or not : 32\n",
      "Your number is happy number 32\n"
     ]
    }
   ],
   "source": [
    "def happynumber(n):\n",
    "    sum = 0\n",
    "    for i in str(n):\n",
    "        sum = sum + int(i)**2\n",
    "    return sum\n",
    "\n",
    "n = int(input(\"Enter your number to check happy or not : \"))\n",
    "n1 = n\n",
    "while 1 != n and n!=4:\n",
    "    n=happynumber(n)\n",
    "    \n",
    "if n == 1:\n",
    "    print (\"Your number is happy number\",n1)\n",
    "else:\n",
    "    print(\"your number is not happy number\",n1)\n",
    "    "
   ]
  },
  {
   "cell_type": "code",
   "execution_count": null,
   "id": "8f38790a",
   "metadata": {},
   "outputs": [],
   "source": []
  },
  {
   "cell_type": "code",
   "execution_count": null,
   "id": "60c83649",
   "metadata": {},
   "outputs": [],
   "source": [
    "\"\"\"\n",
    "\n",
    "4.\tWrite a Python program to print all happy numbers between 1 and 100?\n",
    "\"\"\""
   ]
  },
  {
   "cell_type": "code",
   "execution_count": 59,
   "id": "3eede7a2",
   "metadata": {},
   "outputs": [
    {
     "name": "stdout",
     "output_type": "stream",
     "text": [
      "Your number is happy number 1\n",
      "Your number is happy number 7\n",
      "Your number is happy number 10\n",
      "Your number is happy number 13\n",
      "Your number is happy number 19\n",
      "Your number is happy number 23\n",
      "Your number is happy number 28\n",
      "Your number is happy number 31\n",
      "Your number is happy number 32\n",
      "Your number is happy number 44\n",
      "Your number is happy number 49\n",
      "Your number is happy number 68\n",
      "Your number is happy number 70\n",
      "Your number is happy number 79\n",
      "Your number is happy number 82\n",
      "Your number is happy number 86\n",
      "Your number is happy number 91\n",
      "Your number is happy number 94\n",
      "Your number is happy number 97\n",
      "Your number is happy number 100\n"
     ]
    }
   ],
   "source": [
    "def happynumber(n):\n",
    "    sum = 0\n",
    "    for i in str(n):\n",
    "        sum = sum + int(i)**2\n",
    "    return sum\n",
    "\n",
    "#n = int(input(\"Enter your number to check happy or not : \"))\n",
    "for n in range(1,100+1):\n",
    "    n1 = n\n",
    "    while 1 != n and n!=4:\n",
    "        n=happynumber(n)\n",
    "    \n",
    "    if n == 1:\n",
    "        print (\"Your number is happy number\", n1)"
   ]
  },
  {
   "cell_type": "code",
   "execution_count": null,
   "id": "58d8c197",
   "metadata": {},
   "outputs": [],
   "source": []
  },
  {
   "cell_type": "code",
   "execution_count": null,
   "id": "a70bc036",
   "metadata": {},
   "outputs": [],
   "source": [
    "\"\"\"\n",
    "5.\tWrite a Python program to determine whether the given number is a Harshad Number?\n",
    "\"\"\""
   ]
  },
  {
   "cell_type": "code",
   "execution_count": 67,
   "id": "1c2bb62a",
   "metadata": {},
   "outputs": [],
   "source": [
    "class harshardnumber:\n",
    "    def __init__(self,num):\n",
    "        self.num = num\n",
    "    \n",
    "    def harshard(self):\n",
    "        self.sum = self.rem = 0\n",
    "        self.num1 = self.num\n",
    "        while self.num > 0:\n",
    "            self.rem = self.num % 10\n",
    "            self.sum = self.sum + self.rem\n",
    "            self.num = self.num//10\n",
    "        \n",
    "        if self.num1 % self.sum == 0:\n",
    "            return \"Your number is harshard number \", self.num1\n",
    "        else:\n",
    "            return \"Your number is not harshard number \", self.num1"
   ]
  },
  {
   "cell_type": "code",
   "execution_count": 68,
   "id": "edb93bec",
   "metadata": {},
   "outputs": [],
   "source": [
    "h1 = harshardnumber(120)"
   ]
  },
  {
   "cell_type": "code",
   "execution_count": 69,
   "id": "8a40e2bb",
   "metadata": {},
   "outputs": [
    {
     "data": {
      "text/plain": [
       "('Your number is harshard number ', 120)"
      ]
     },
     "execution_count": 69,
     "metadata": {},
     "output_type": "execute_result"
    }
   ],
   "source": [
    "h1.harshard()"
   ]
  },
  {
   "cell_type": "code",
   "execution_count": 70,
   "id": "99d1af86",
   "metadata": {},
   "outputs": [],
   "source": [
    "h2 = harshardnumber(123)"
   ]
  },
  {
   "cell_type": "code",
   "execution_count": 71,
   "id": "ad35585d",
   "metadata": {},
   "outputs": [
    {
     "data": {
      "text/plain": [
       "('Your number is not harshard number ', 123)"
      ]
     },
     "execution_count": 71,
     "metadata": {},
     "output_type": "execute_result"
    }
   ],
   "source": [
    "h2.harshard()"
   ]
  },
  {
   "cell_type": "code",
   "execution_count": 72,
   "id": "8c6b6b7c",
   "metadata": {},
   "outputs": [],
   "source": [
    "h3 = harshardnumber(156)"
   ]
  },
  {
   "cell_type": "code",
   "execution_count": 73,
   "id": "27c99879",
   "metadata": {},
   "outputs": [
    {
     "data": {
      "text/plain": [
       "('Your number is harshard number ', 156)"
      ]
     },
     "execution_count": 73,
     "metadata": {},
     "output_type": "execute_result"
    }
   ],
   "source": [
    "h3.harshard()"
   ]
  },
  {
   "cell_type": "code",
   "execution_count": null,
   "id": "87b0a049",
   "metadata": {},
   "outputs": [],
   "source": []
  },
  {
   "cell_type": "code",
   "execution_count": null,
   "id": "c07c80b7",
   "metadata": {},
   "outputs": [],
   "source": [
    "\"\"\"\n",
    "6.\tWrite a Python program to print all pronic numbers between 1 and 100?\n",
    "\n",
    "\"\"\""
   ]
  },
  {
   "cell_type": "code",
   "execution_count": 79,
   "id": "0311cf0a",
   "metadata": {},
   "outputs": [
    {
     "name": "stdout",
     "output_type": "stream",
     "text": [
      "2\n",
      "6\n",
      "12\n",
      "20\n",
      "30\n",
      "42\n",
      "56\n",
      "72\n",
      "90\n"
     ]
    }
   ],
   "source": [
    "def PronicNumber(num):    \n",
    "    flag = False;    \n",
    "        \n",
    "    for m in range(1, num+1):     \n",
    "        if((m*(m+1)) == num):    \n",
    "            flag = True;    \n",
    "            break;    \n",
    "    return flag;    \n",
    "   \n",
    "for i in range(1, 101):    \n",
    "    if(PronicNumber(i)):    \n",
    "        print(i),    "
   ]
  },
  {
   "cell_type": "code",
   "execution_count": null,
   "id": "6902ae89",
   "metadata": {},
   "outputs": [],
   "source": []
  }
 ],
 "metadata": {
  "kernelspec": {
   "display_name": "Python 3 (ipykernel)",
   "language": "python",
   "name": "python3"
  },
  "language_info": {
   "codemirror_mode": {
    "name": "ipython",
    "version": 3
   },
   "file_extension": ".py",
   "mimetype": "text/x-python",
   "name": "python",
   "nbconvert_exporter": "python",
   "pygments_lexer": "ipython3",
   "version": "3.9.7"
  }
 },
 "nbformat": 4,
 "nbformat_minor": 5
}
