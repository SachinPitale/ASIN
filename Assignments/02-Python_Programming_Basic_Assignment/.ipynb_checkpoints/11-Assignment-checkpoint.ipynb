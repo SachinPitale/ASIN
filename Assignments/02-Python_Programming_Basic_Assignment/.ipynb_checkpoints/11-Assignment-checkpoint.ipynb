{
 "cells": [
  {
   "cell_type": "code",
   "execution_count": null,
   "id": "ee2ce6a7",
   "metadata": {},
   "outputs": [],
   "source": [
    "\"\"\"\n",
    "1.\tWrite a Python program to find words which are greater than given length k?\n",
    "\"\"\""
   ]
  },
  {
   "cell_type": "code",
   "execution_count": 11,
   "id": "9e17375a",
   "metadata": {},
   "outputs": [],
   "source": [
    "def wordcount(a,b):\n",
    "    l1 = []\n",
    "    l=a.split()\n",
    "    for i in l:\n",
    "        if b < len(i):\n",
    "            l1.append(i)\n",
    "\n",
    "    return l1\n",
    "            \n"
   ]
  },
  {
   "cell_type": "raw",
   "id": "37d511b1",
   "metadata": {},
   "source": [
    "wordcount(\"I am learning data science\",7)"
   ]
  },
  {
   "cell_type": "code",
   "execution_count": 12,
   "id": "6aff0f07",
   "metadata": {},
   "outputs": [
    {
     "data": {
      "text/plain": [
       "['learning']"
      ]
     },
     "execution_count": 12,
     "metadata": {},
     "output_type": "execute_result"
    }
   ],
   "source": [
    "wordcount(\"I am learning data science\",7)"
   ]
  },
  {
   "cell_type": "code",
   "execution_count": 13,
   "id": "ac44e07f",
   "metadata": {},
   "outputs": [
    {
     "data": {
      "text/plain": [
       "['learning', 'science']"
      ]
     },
     "execution_count": 13,
     "metadata": {},
     "output_type": "execute_result"
    }
   ],
   "source": [
    "wordcount(\"I am learning data science\",5)"
   ]
  },
  {
   "cell_type": "code",
   "execution_count": null,
   "id": "25b47f35",
   "metadata": {},
   "outputs": [],
   "source": [
    "\"\"\"\n",
    "2.\tWrite a Python program for removing i-th character from a string?\n",
    "\n",
    "\"\"\""
   ]
  }
 ],
 "metadata": {
  "kernelspec": {
   "display_name": "Python 3 (ipykernel)",
   "language": "python",
   "name": "python3"
  },
  "language_info": {
   "codemirror_mode": {
    "name": "ipython",
    "version": 3
   },
   "file_extension": ".py",
   "mimetype": "text/x-python",
   "name": "python",
   "nbconvert_exporter": "python",
   "pygments_lexer": "ipython3",
   "version": "3.9.7"
  }
 },
 "nbformat": 4,
 "nbformat_minor": 5
}
