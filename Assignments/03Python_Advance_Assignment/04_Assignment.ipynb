{
 "cells": [
  {
   "cell_type": "code",
   "execution_count": null,
   "id": "d8b34a1d",
   "metadata": {},
   "outputs": [],
   "source": [
    "\"\"\"\n",
    "Q1. Which two operator overloading methods can you use in your classes to support iteration?\n",
    "\n",
    "Answer:\n",
    "\n",
    "+ addition\n",
    "- subtraction\n",
    "* multiplication\n",
    "\n",
    "\"\"\""
   ]
  },
  {
   "cell_type": "code",
   "execution_count": null,
   "id": "9aa7e681",
   "metadata": {},
   "outputs": [],
   "source": []
  },
  {
   "cell_type": "code",
   "execution_count": null,
   "id": "a856993e",
   "metadata": {},
   "outputs": [],
   "source": [
    "\"\"\"\n",
    "\n",
    "Q2. In what contexts do the two operator overloading methods manage printing?\n",
    "\n",
    "Answer:\n",
    "\n",
    "\n",
    "\n",
    "\"\"\""
   ]
  },
  {
   "cell_type": "code",
   "execution_count": null,
   "id": "768afb0e",
   "metadata": {},
   "outputs": [],
   "source": []
  },
  {
   "cell_type": "code",
   "execution_count": 24,
   "id": "a78c9ad0",
   "metadata": {},
   "outputs": [],
   "source": [
    "\"\"\"\n",
    "Q3. In a class, how do you intercept slice operations?\n",
    "\n",
    "\"\"\"\n",
    "\n",
    "class test:\n",
    "    def __init__(self):\n",
    "        pass\n",
    "    def slice(self,msg,s1,s2):\n",
    "        self.msg = msg\n",
    "        self.s1 = s1\n",
    "        self.s2 = s2\n",
    "        return self.msg[self.s1:self.s2]\n",
    "        \n",
    "        \n",
    "        "
   ]
  },
  {
   "cell_type": "code",
   "execution_count": 25,
   "id": "d00e7873",
   "metadata": {},
   "outputs": [],
   "source": [
    "msg1 = test()"
   ]
  },
  {
   "cell_type": "code",
   "execution_count": 26,
   "id": "ba04eb3c",
   "metadata": {},
   "outputs": [
    {
     "data": {
      "text/plain": [
       "'ac'"
      ]
     },
     "execution_count": 26,
     "metadata": {},
     "output_type": "execute_result"
    }
   ],
   "source": [
    "msg1.slice(\"sachin\",1,3)"
   ]
  },
  {
   "cell_type": "code",
   "execution_count": null,
   "id": "ce56ec94",
   "metadata": {},
   "outputs": [],
   "source": []
  }
 ],
 "metadata": {
  "kernelspec": {
   "display_name": "Python 3 (ipykernel)",
   "language": "python",
   "name": "python3"
  },
  "language_info": {
   "codemirror_mode": {
    "name": "ipython",
    "version": 3
   },
   "file_extension": ".py",
   "mimetype": "text/x-python",
   "name": "python",
   "nbconvert_exporter": "python",
   "pygments_lexer": "ipython3",
   "version": "3.9.7"
  }
 },
 "nbformat": 4,
 "nbformat_minor": 5
}
