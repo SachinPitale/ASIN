{
 "cells": [
  {
   "cell_type": "code",
   "execution_count": null,
   "id": "db6aa7b0",
   "metadata": {},
   "outputs": [],
   "source": [
    "\"\"\"\n",
    "Q1. What is the relationship between classes and modules?\n",
    "\n",
    "Answer:\n",
    "\n",
    "Class is used to define a blueprint for a given object.\n",
    "Module is used to reuse a given piece of code inside another program\n",
    "\n",
    "\"\"\""
   ]
  },
  {
   "cell_type": "code",
   "execution_count": null,
   "id": "8bc2d2e9",
   "metadata": {},
   "outputs": [],
   "source": [
    "\"\"\"\n",
    "Q2. How do you make instances and classes?\n",
    "\n",
    "Answer:\n",
    "\n",
    "\"\"\"\n",
    "\n",
    "class car:\n",
    "    def __init__(a, mi,y,mo,ma):  \n",
    "        a.mileage = mi                    \n",
    "        a.year = y                         \n",
    "        a.model = mo\n",
    "        a.make = ma\n",
    "    def age(self,current_year):\n",
    "        return current_year - self.year\n",
    "\n",
    "#instance\n",
    "audiq71  = car(20,2020,'n2', 234)"
   ]
  },
  {
   "cell_type": "code",
   "execution_count": null,
   "id": "d7de28ee",
   "metadata": {},
   "outputs": [],
   "source": []
  },
  {
   "cell_type": "code",
   "execution_count": null,
   "id": "07af9a1b",
   "metadata": {},
   "outputs": [],
   "source": [
    "\"\"\"\n",
    "Q3. Where and how should be class attributes created?\n",
    "\n",
    "Answer:\n",
    "\n",
    "Class attribute created  directly inside a class\n",
    "Shared across all objects.\n",
    "\n",
    "\n",
    "\"\"\"\n",
    "class Student:\n",
    "    count = 0   # class attributes\n",
    "    def __init__(self):\n",
    "        Student.count += 1   \n"
   ]
  },
  {
   "cell_type": "code",
   "execution_count": null,
   "id": "4ef07bb6",
   "metadata": {},
   "outputs": [],
   "source": []
  },
  {
   "cell_type": "code",
   "execution_count": null,
   "id": "28e723c3",
   "metadata": {},
   "outputs": [],
   "source": [
    "\"\"\"\n",
    "Q4. Where and how are instance attributes created?\n",
    "\n",
    "Answer:\n",
    "Defined inside a constructor using the self parameter.\n",
    "Specific to object.\n",
    "\n",
    "\n",
    "\"\"\"\n",
    "class Student:\n",
    "    count = 0   # class attributes\n",
    "    def __init__(self, name, age):\n",
    "        self.name = name  # instance attributes\n",
    "        self.age = age    # instance attributes\n"
   ]
  },
  {
   "cell_type": "code",
   "execution_count": null,
   "id": "e0ffae9c",
   "metadata": {},
   "outputs": [],
   "source": []
  },
  {
   "cell_type": "code",
   "execution_count": null,
   "id": "5e4ff7c2",
   "metadata": {},
   "outputs": [],
   "source": [
    "\"\"\"\n",
    "Q5. What does the term \"self\" in a Python class mean?\n",
    "\n",
    "Answer:\n",
    "self represents the instance of the class. By using the “self” keyword we can access the attributes and methods of the class in python.\n",
    "\n",
    "\"\"\""
   ]
  },
  {
   "cell_type": "code",
   "execution_count": null,
   "id": "9e34ea55",
   "metadata": {},
   "outputs": [],
   "source": []
  },
  {
   "cell_type": "code",
   "execution_count": null,
   "id": "fbb5b706",
   "metadata": {},
   "outputs": [],
   "source": [
    "\"\"\"\n",
    "Q6. How does a Python class handle operator overloading?\n",
    "\n",
    "Answer:\n",
    "\n",
    "The operator overloading in Python means provide extended meaning beyond their predefined operational meaning. \n",
    "Such as, we use the \"+\" operator for adding two integers as well as joining two strings or merging two lists. \n",
    "We can achieve this as the \"+\" operator is overloaded by the \"int\" class and \"str\" class.\n",
    "\n",
    "\"\"\""
   ]
  },
  {
   "cell_type": "code",
   "execution_count": null,
   "id": "28c69ce9",
   "metadata": {},
   "outputs": [],
   "source": []
  },
  {
   "cell_type": "code",
   "execution_count": null,
   "id": "1ae77bf7",
   "metadata": {},
   "outputs": [],
   "source": [
    "\"\"\"\n",
    "Q7. When do you consider allowing operator overloading of your classes?\n",
    "\n",
    "Answer:\n",
    "\n",
    "Consider that we have two objects which are a physical representation of a class (user-defined data type) and we have to add two objects with binary ‘+’ operator it throws an error, because compiler don’t know how to add two objects. So we define a method for an operator and that process is called operator overloading.\n",
    "\n",
    "\"\"\""
   ]
  },
  {
   "cell_type": "code",
   "execution_count": null,
   "id": "b99d24ba",
   "metadata": {},
   "outputs": [],
   "source": []
  },
  {
   "cell_type": "code",
   "execution_count": null,
   "id": "8c7bc5e4",
   "metadata": {},
   "outputs": [],
   "source": [
    "\"\"\"\n",
    "Q8. What is the most popular form of operator overloading?\n",
    "\n",
    "Answer:\n",
    "\n",
    "the Addition (+) operator\n",
    "\"\"\""
   ]
  },
  {
   "cell_type": "code",
   "execution_count": null,
   "id": "e0ab95aa",
   "metadata": {},
   "outputs": [],
   "source": []
  },
  {
   "cell_type": "code",
   "execution_count": null,
   "id": "be750f68",
   "metadata": {},
   "outputs": [],
   "source": [
    "\"\"\"\n",
    "Q9. What are the two most important concepts to grasp in order to comprehend Python OOP code?\n",
    "\n",
    "Answer:\n",
    "inheritance, polymorphism, Abstraction, Class, object\n",
    "\n",
    "\"\"\""
   ]
  }
 ],
 "metadata": {
  "kernelspec": {
   "display_name": "Python 3 (ipykernel)",
   "language": "python",
   "name": "python3"
  },
  "language_info": {
   "codemirror_mode": {
    "name": "ipython",
    "version": 3
   },
   "file_extension": ".py",
   "mimetype": "text/x-python",
   "name": "python",
   "nbconvert_exporter": "python",
   "pygments_lexer": "ipython3",
   "version": "3.9.7"
  }
 },
 "nbformat": 4,
 "nbformat_minor": 5
}
