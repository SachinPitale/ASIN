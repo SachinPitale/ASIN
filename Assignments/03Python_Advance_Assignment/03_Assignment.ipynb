{
 "cells": [
  {
   "cell_type": "code",
   "execution_count": null,
   "id": "d3772873",
   "metadata": {},
   "outputs": [],
   "source": [
    "\"\"\"\n",
    "1. What is the concept of an abstract superclass?\n",
    "\n",
    "Answer:\n",
    "\n",
    "In object-oriented programming, an abstract class is a class that cannot be instantiated. However, you can create classes that inherit from an abstract class.\n",
    "you use an abstract class to create a blueprint for other classes.\n",
    "Python doesn’t directly support abstract classes. But it does offer a module that allows you to define abstract classes.\n",
    "\n",
    "\"\"\""
   ]
  },
  {
   "cell_type": "code",
   "execution_count": null,
   "id": "4a358085",
   "metadata": {},
   "outputs": [],
   "source": []
  },
  {
   "cell_type": "code",
   "execution_count": null,
   "id": "b17270ee",
   "metadata": {},
   "outputs": [],
   "source": [
    "\"\"\"\n",
    "2. What happens when a class statement's top level contains a basic assignment statement?\n",
    "\n",
    "Answer:\n",
    "Top level basic assignment statement is called class attribute.\n",
    "It will be used by any methond which define inside the class.\n",
    "\n",
    "\"\"\""
   ]
  },
  {
   "cell_type": "code",
   "execution_count": null,
   "id": "31ff699c",
   "metadata": {},
   "outputs": [],
   "source": []
  },
  {
   "cell_type": "code",
   "execution_count": null,
   "id": "7c63e60e",
   "metadata": {},
   "outputs": [],
   "source": [
    "\n",
    "\"\"\"\n",
    "3. Why does a class need to manually call a superclass's __init__ method?\n",
    "\n",
    "Answer:\n",
    "\n",
    "__init__ method is pre-defined the python method, which is use to initialize the python class, when we call any function or create class instance.\n",
    "\n",
    "\"\"\"\n"
   ]
  },
  {
   "cell_type": "code",
   "execution_count": null,
   "id": "c6df46cf",
   "metadata": {},
   "outputs": [],
   "source": []
  },
  {
   "cell_type": "code",
   "execution_count": null,
   "id": "7eb68445",
   "metadata": {},
   "outputs": [],
   "source": [
    "\"\"\"\n",
    "4. How can you augment, instead of completely replacing, an inherited method?\n",
    "\n",
    "\n",
    "Answer:\n",
    "\n",
    "\n",
    "\"\"\"\n",
    "\n",
    "class test:\n",
    "    def __init__(self, a, b, c, d):\n",
    "        self.a = a\n",
    "        self._b = b\n",
    "        self.c = c\n",
    "        self.__d = d \n",
    "    def test_custom(self, v):\n",
    "        return v - self.a\n",
    "\n",
    "class test1(test):  # Inherite define\n",
    "    def __init__(self,j,*args): # Invoke init method with test and test1 arguments\n",
    "        super(test1,self).__init__(*args) # initialize the parent test class to access the property\n",
    "        self.j = j                        # define class variable for test1 class"
   ]
  },
  {
   "cell_type": "code",
   "execution_count": null,
   "id": "b9f9102c",
   "metadata": {},
   "outputs": [],
   "source": []
  },
  {
   "cell_type": "code",
   "execution_count": null,
   "id": "ab5b3012",
   "metadata": {},
   "outputs": [],
   "source": [
    "\"\"\"\n",
    "5. How is the local scope of a class different from that of a function?\n",
    "\n",
    "\n",
    "Answer:\n",
    "\n",
    "\n",
    "Local scope can be access by that particuler function.\n",
    "Local scope has higer priority than Global scope\n",
    "\n",
    "\"\"\""
   ]
  }
 ],
 "metadata": {
  "kernelspec": {
   "display_name": "Python 3 (ipykernel)",
   "language": "python",
   "name": "python3"
  },
  "language_info": {
   "codemirror_mode": {
    "name": "ipython",
    "version": 3
   },
   "file_extension": ".py",
   "mimetype": "text/x-python",
   "name": "python",
   "nbconvert_exporter": "python",
   "pygments_lexer": "ipython3",
   "version": "3.9.7"
  }
 },
 "nbformat": 4,
 "nbformat_minor": 5
}
