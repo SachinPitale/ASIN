{
 "cells": [
  {
   "cell_type": "code",
   "execution_count": null,
   "id": "09ab114c",
   "metadata": {},
   "outputs": [],
   "source": [
    "\"\"\"\n",
    "Q1. What is the purpose of Python's OOP?\n",
    "\n",
    "Answer:\n",
    "It is  a programming paradigm that uses objects and classes in programming. It aims to implement real-world entities like inheritance, polymorphisms, encapsulation, etc\n",
    "\n",
    "\"\"\""
   ]
  },
  {
   "cell_type": "code",
   "execution_count": null,
   "id": "b923c3d4",
   "metadata": {},
   "outputs": [],
   "source": []
  },
  {
   "cell_type": "code",
   "execution_count": null,
   "id": "ee3ddbef",
   "metadata": {},
   "outputs": [],
   "source": [
    "\"\"\"\n",
    "Q2. Where does an inheritance search look for an attribute?\n",
    "\n",
    "Answer:\n",
    "\n",
    "It always search in is parent or super class\n",
    "\n",
    "\"\"\""
   ]
  },
  {
   "cell_type": "code",
   "execution_count": null,
   "id": "c8927a8b",
   "metadata": {},
   "outputs": [],
   "source": []
  },
  {
   "cell_type": "code",
   "execution_count": null,
   "id": "fc9b73bf",
   "metadata": {},
   "outputs": [],
   "source": [
    "\"\"\"\n",
    "Q3. How do you distinguish between a class object and an instance object?\n",
    "\n",
    "\n",
    "Answer:\n",
    "\n",
    "Class object is refer the it's methods, functions\n",
    "Instance Object is refer  the it's parameter value, which we passed to classes. \n",
    "\n",
    "\"\"\""
   ]
  },
  {
   "cell_type": "code",
   "execution_count": null,
   "id": "f526dc1c",
   "metadata": {},
   "outputs": [],
   "source": []
  },
  {
   "cell_type": "code",
   "execution_count": null,
   "id": "4db2f348",
   "metadata": {},
   "outputs": [],
   "source": [
    "\"\"\"\n",
    "Q4. What makes the first argument in a class’s method function special?\n",
    "\n",
    "Answer:\n",
    "Python class use self argument as first, It refer the class while calling any class function\n",
    "\n",
    "\n",
    "\"\"\""
   ]
  },
  {
   "cell_type": "code",
   "execution_count": null,
   "id": "044dcdb7",
   "metadata": {},
   "outputs": [],
   "source": []
  },
  {
   "cell_type": "code",
   "execution_count": null,
   "id": "f7ff50e3",
   "metadata": {},
   "outputs": [],
   "source": [
    "\"\"\"\n",
    "Q5. What is the purpose of the __init__ method?\n",
    "\n",
    "Answer:\n",
    "It is basically constructor. Which initialize the class. while object creation\n",
    "\n",
    "\"\"\""
   ]
  },
  {
   "cell_type": "code",
   "execution_count": null,
   "id": "2d406755",
   "metadata": {},
   "outputs": [],
   "source": [
    "\"\"\"\n",
    "\n",
    "Q6. What is the process for creating a class instance?\n",
    "\n",
    "Answer:\n",
    "\n",
    "1. Reduce the repetative code\n",
    "2. Access the class property and method \n",
    "\n",
    "\"\"\""
   ]
  },
  {
   "cell_type": "code",
   "execution_count": null,
   "id": "6dfb3257",
   "metadata": {},
   "outputs": [],
   "source": []
  },
  {
   "cell_type": "code",
   "execution_count": null,
   "id": "581d8adf",
   "metadata": {},
   "outputs": [],
   "source": [
    "\"\"\"\n",
    "Q7. What is the process for creating a class?\n",
    "\n",
    "Answer:\n",
    "1. Module programming\n",
    "2. Increase readability\n",
    "3. Reduce the duplication code\n",
    "4. Easy to Use code any where\n",
    "\n",
    "\"\"\""
   ]
  },
  {
   "cell_type": "code",
   "execution_count": null,
   "id": "1aaa447c",
   "metadata": {},
   "outputs": [],
   "source": []
  },
  {
   "cell_type": "code",
   "execution_count": null,
   "id": "642170c7",
   "metadata": {},
   "outputs": [],
   "source": [
    "\"\"\"\n",
    "Q8. How would you define the superclasses of a class?\n",
    "\n",
    "Answer:\n",
    "\"\"\"\n",
    "\n",
    "\n",
    "class test:\n",
    "    def __init__(self, a, b, c, d):\n",
    "        self.a = a\n",
    "        self._b = b\n",
    "        self.c = c\n",
    "        self.__d = d \n",
    "    def test_custom(self, v):\n",
    "        return v - self.a\n",
    "    def __str__(self):\n",
    "        return \"this is my test code for abstraction\"\n",
    "\n",
    "class test1(test):  # Inherite define\n",
    "    def __init__(self,j,*args): # Invoke init method with test and test1 arguments\n",
    "        super(test1,self).__init__(*args) # initialize the parent test class to access the property\n",
    "        self.j = j                        # define class variable for test1 class"
   ]
  }
 ],
 "metadata": {
  "kernelspec": {
   "display_name": "Python 3 (ipykernel)",
   "language": "python",
   "name": "python3"
  },
  "language_info": {
   "codemirror_mode": {
    "name": "ipython",
    "version": 3
   },
   "file_extension": ".py",
   "mimetype": "text/x-python",
   "name": "python",
   "nbconvert_exporter": "python",
   "pygments_lexer": "ipython3",
   "version": "3.9.7"
  }
 },
 "nbformat": 4,
 "nbformat_minor": 5
}
