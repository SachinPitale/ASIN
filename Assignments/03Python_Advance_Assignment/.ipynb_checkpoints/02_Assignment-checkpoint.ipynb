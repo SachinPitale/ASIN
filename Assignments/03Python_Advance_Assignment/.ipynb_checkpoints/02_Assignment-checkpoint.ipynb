{
 "cells": [
  {
   "cell_type": "code",
   "execution_count": null,
   "id": "d65d82f7",
   "metadata": {},
   "outputs": [],
   "source": [
    "\"\"\"\n",
    "Q1. What is the relationship between classes and modules?\n",
    "\n",
    "Answer:\n",
    "\n",
    "Class is used to define a blueprint for a given object.\n",
    "Module is used to reuse a given piece of code inside another program\n",
    "\n",
    "\"\"\""
   ]
  },
  {
   "cell_type": "code",
   "execution_count": null,
   "id": "1fe1dec2",
   "metadata": {},
   "outputs": [],
   "source": [
    "\"\"\"\n",
    "Q2. How do you make instances and classes?\n",
    "\n",
    "Answer:\n",
    "\n",
    "\"\"\"\n",
    "\n",
    "class car:\n",
    "    def __init__(a, mi,y,mo,ma):  \n",
    "        a.mileage = mi                    \n",
    "        a.year = y                         \n",
    "        a.model = mo\n",
    "        a.make = ma\n",
    "    def age(self,current_year):\n",
    "        return current_year - self.year\n",
    "\n",
    "#instance\n",
    "audiq71  = car(20,2020,'n2', 234)"
   ]
  },
  {
   "cell_type": "code",
   "execution_count": null,
   "id": "28b628e1",
   "metadata": {},
   "outputs": [],
   "source": []
  },
  {
   "cell_type": "code",
   "execution_count": null,
   "id": "59cd67cf",
   "metadata": {},
   "outputs": [],
   "source": [
    "\"\"\"\n",
    "Q3. Where and how should be class attributes created?\n",
    "\n",
    "Answer:\n",
    "\n",
    "Class attribute created  directly inside a class\n",
    "Shared across all objects.\n",
    "\n",
    "\n",
    "\"\"\"\n",
    "class Student:\n",
    "    count = 0   # class attributes\n",
    "    def __init__(self):\n",
    "        Student.count += 1   \n"
   ]
  },
  {
   "cell_type": "code",
   "execution_count": null,
   "id": "acdeda0f",
   "metadata": {},
   "outputs": [],
   "source": []
  },
  {
   "cell_type": "code",
   "execution_count": null,
   "id": "4c2800cd",
   "metadata": {},
   "outputs": [],
   "source": [
    "\"\"\"\n",
    "Q4. Where and how are instance attributes created?\n",
    "\n",
    "Answer:\n",
    "Defined inside a constructor using the self parameter.\n",
    "Specific to object.\n",
    "\n",
    "\n",
    "\"\"\"\n",
    "class Student:\n",
    "    count = 0   # class attributes\n",
    "    def __init__(self, name, age):\n",
    "        self.name = name\n",
    "        self.age = age\n"
   ]
  }
 ],
 "metadata": {
  "kernelspec": {
   "display_name": "Python 3 (ipykernel)",
   "language": "python",
   "name": "python3"
  },
  "language_info": {
   "codemirror_mode": {
    "name": "ipython",
    "version": 3
   },
   "file_extension": ".py",
   "mimetype": "text/x-python",
   "name": "python",
   "nbconvert_exporter": "python",
   "pygments_lexer": "ipython3",
   "version": "3.9.7"
  }
 },
 "nbformat": 4,
 "nbformat_minor": 5
}
