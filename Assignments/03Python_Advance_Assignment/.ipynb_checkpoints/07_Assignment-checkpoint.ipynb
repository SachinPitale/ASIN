{
 "cells": [
  {
   "cell_type": "code",
   "execution_count": null,
   "id": "46f9c1cd",
   "metadata": {},
   "outputs": [],
   "source": [
    "\"\"\"\n",
    "Q1. What is the purpose of the try statement?\n",
    "\n",
    "\"\"\""
   ]
  },
  {
   "cell_type": "code",
   "execution_count": null,
   "id": "456cc16c",
   "metadata": {},
   "outputs": [],
   "source": [
    "\"\"\"\n",
    "\n",
    "try statement it is use to handle the error exeception in our script/program\n",
    "\n",
    "\"\"\""
   ]
  },
  {
   "cell_type": "code",
   "execution_count": null,
   "id": "fc7845a8",
   "metadata": {},
   "outputs": [],
   "source": [
    "\"\"\"\n",
    "Q2. What are the two most popular try statement variations?\n",
    "\n",
    "\"\"\""
   ]
  },
  {
   "cell_type": "code",
   "execution_count": null,
   "id": "c300d23b",
   "metadata": {},
   "outputs": [],
   "source": [
    "\"\"\"\n",
    "1.\n",
    "try:\n",
    "except Exceptions as e:\n",
    "\n",
    "2.\n",
    "try:\n",
    "except Exceptions as e:\n",
    "finally:\n",
    "\n",
    "\n",
    "\"\"\""
   ]
  },
  {
   "cell_type": "code",
   "execution_count": null,
   "id": "e8ed3483",
   "metadata": {},
   "outputs": [],
   "source": [
    "\"\"\"\n",
    "Q3. What is the purpose of the raise statement?\n",
    "\n",
    "\"\"\""
   ]
  },
  {
   "cell_type": "code",
   "execution_count": null,
   "id": "f655a594",
   "metadata": {},
   "outputs": [],
   "source": [
    "\"\"\"\n",
    "using raise stetement we can create or develop our custom error handling exception\n",
    "\n",
    "\"\"\""
   ]
  },
  {
   "cell_type": "code",
   "execution_count": null,
   "id": "996c230c",
   "metadata": {},
   "outputs": [],
   "source": [
    "\"\"\"\n",
    "Q4. What does the assert statement do, and what other statement is it like?\n",
    "\n",
    "\"\"\""
   ]
  },
  {
   "cell_type": "code",
   "execution_count": null,
   "id": "bb580bc9",
   "metadata": {},
   "outputs": [],
   "source": [
    "\"\"\"\n",
    "Python has built-in assert statement to use assertion condition in the program. \n",
    "assert statement has a condition or expression which is supposed to be always true. \n",
    "If the condition is false assert halts the program and gives an AssertionError.\n",
    "\n",
    "Example:\n",
    "1. if-else\n",
    "2. Exceptions\n",
    "\n",
    "\"\"\""
   ]
  },
  {
   "cell_type": "code",
   "execution_count": null,
   "id": "7e59ba12",
   "metadata": {},
   "outputs": [],
   "source": [
    "\"\"\"\n",
    "Q5. What is the purpose of the with/as argument, and what other statement is it like?\n",
    "\n",
    "\"\"\""
   ]
  },
  {
   "cell_type": "code",
   "execution_count": null,
   "id": "d715d5e5",
   "metadata": {},
   "outputs": [],
   "source": [
    "\"\"\"\n",
    "\n",
    "The with statement in Python is used for resource management and exception handling. we’d most likely find it when working with file streams. \n",
    "For example, the statement ensures that the file stream process doesn’t block other processes if an exception is raised, but terminates properly.\n",
    "\n",
    "other statement:\n",
    "1. File\n",
    "\"\"\""
   ]
  }
 ],
 "metadata": {
  "kernelspec": {
   "display_name": "Python 3 (ipykernel)",
   "language": "python",
   "name": "python3"
  },
  "language_info": {
   "codemirror_mode": {
    "name": "ipython",
    "version": 3
   },
   "file_extension": ".py",
   "mimetype": "text/x-python",
   "name": "python",
   "nbconvert_exporter": "python",
   "pygments_lexer": "ipython3",
   "version": "3.9.7"
  }
 },
 "nbformat": 4,
 "nbformat_minor": 5
}
