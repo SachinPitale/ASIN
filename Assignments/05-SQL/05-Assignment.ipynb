{
 "cells": [
  {
   "cell_type": "code",
   "execution_count": 2,
   "id": "59e236b0",
   "metadata": {},
   "outputs": [
    {
     "name": "stdout",
     "output_type": "stream",
     "text": [
      "(1111, 'Sachin', 'Pitale', 'IT', 80000)\n",
      "(1112, 'Kunal', 'Singh', 'HR', 85000)\n",
      "(1113, 'Prathamesh', 'Pandit', 'HR', 65000)\n",
      "(1114, 'Sonu', 'Raj', 'IT', 140000)\n",
      "(1115, 'Yogesh', 'Shinkar', 'Admin', 80000)\n",
      "(1116, 'aogesh', 'patil', 'Admin', 80000)\n",
      "(1117, 'Vipul', 'singh', 'HR', 80000)\n",
      "(1118, 'Satish', 'jadhav', 'IT', 90000)\n"
     ]
    }
   ],
   "source": [
    "import mysql.connector as dbcreation\n",
    "try:\n",
    "    mydb = dbcreation.connect(host=\"localhost\",user='root',passwd='Docker@123', database='sachin',use_pure=True)\n",
    "\n",
    "    query = \"SELECT * FROM Worker;\"\n",
    "    cursor = mydb.cursor()\n",
    "    cursor.execute(query)\n",
    "    for i in cursor.fetchall():\n",
    "        print(i)\n",
    "except Exception as e:\n",
    "    print (str(e))\n",
    "finally:\n",
    "    mydb.close()"
   ]
  },
  {
   "cell_type": "code",
   "execution_count": null,
   "id": "96e1682e",
   "metadata": {},
   "outputs": [],
   "source": [
    "\"\"\"\n",
    "Q-1. Write an SQL query to print details of workers excluding first names, “Vipul” and “Satish” from Worker table.\n",
    "\n",
    "\"\"\""
   ]
  },
  {
   "cell_type": "code",
   "execution_count": 4,
   "id": "82e44969",
   "metadata": {},
   "outputs": [
    {
     "name": "stdout",
     "output_type": "stream",
     "text": [
      "(1111, 'Sachin', 'Pitale', 'IT', 80000)\n",
      "(1112, 'Kunal', 'Singh', 'HR', 85000)\n",
      "(1113, 'Prathamesh', 'Pandit', 'HR', 65000)\n",
      "(1114, 'Sonu', 'Raj', 'IT', 140000)\n",
      "(1115, 'Yogesh', 'Shinkar', 'Admin', 80000)\n",
      "(1116, 'aogesh', 'patil', 'Admin', 80000)\n"
     ]
    }
   ],
   "source": [
    "import mysql.connector as dbcreation\n",
    "try:\n",
    "    mydb = dbcreation.connect(host=\"localhost\",user='root',passwd='Docker@123', database='sachin',use_pure=True)\n",
    "\n",
    "    query = \"SELECT * FROM worker WHERE FirstName NOT IN ('Vipul', 'Satish');\"\n",
    "    cursor = mydb.cursor()\n",
    "    cursor.execute(query)\n",
    "    for i in cursor.fetchall():\n",
    "        print(i)\n",
    "except Exception as e:\n",
    "    print (str(e))\n",
    "finally:\n",
    "    mydb.close()"
   ]
  },
  {
   "cell_type": "code",
   "execution_count": null,
   "id": "7ab8d77e",
   "metadata": {},
   "outputs": [],
   "source": [
    "\"\"\"\n",
    "Q-2. Write an SQL query to print details of the Workers whose FIRST_NAME ends with ‘h’ and contains six alphabets.\n",
    "\n",
    "\"\"\""
   ]
  },
  {
   "cell_type": "code",
   "execution_count": 6,
   "id": "43587584",
   "metadata": {},
   "outputs": [
    {
     "name": "stdout",
     "output_type": "stream",
     "text": [
      "(1115, 'Yogesh', 'Shinkar', 'Admin', 80000)\n",
      "(1116, 'aogesh', 'patil', 'Admin', 80000)\n",
      "(1118, 'Satish', 'jadhav', 'IT', 90000)\n"
     ]
    }
   ],
   "source": [
    "import mysql.connector as dbcreation\n",
    "try:\n",
    "    mydb = dbcreation.connect(host=\"localhost\",user='root',passwd='Docker@123', database='sachin',use_pure=True)\n",
    "\n",
    "    query = \"Select * from Worker where FirstName like '_____h'\"\n",
    "    cursor = mydb.cursor()\n",
    "    cursor.execute(query)\n",
    "    for i in cursor.fetchall():\n",
    "        print(i)\n",
    "except Exception as e:\n",
    "    print (str(e))\n",
    "finally:\n",
    "    mydb.close()"
   ]
  },
  {
   "cell_type": "code",
   "execution_count": null,
   "id": "c852273b",
   "metadata": {},
   "outputs": [],
   "source": [
    "\"\"\"\n",
    "Q-3. Write a query to validate Email of Employee.\n",
    "\"\"\""
   ]
  },
  {
   "cell_type": "code",
   "execution_count": 7,
   "id": "db77d7d6",
   "metadata": {},
   "outputs": [
    {
     "name": "stdout",
     "output_type": "stream",
     "text": [
      "(1111, 'Sachin', 'Pitale', 'IT', 80000, 'sp@abc.com')\n",
      "(1112, 'Kunal', 'Singh', 'HR', 85000, 'ks@abc.com')\n",
      "(1113, 'Prathamesh', 'Pandit', 'HR', 65000, 'pp@abc.com')\n",
      "(1114, 'Sonu', 'Raj', 'IT', 140000, 'sr@abc.com')\n",
      "(1115, 'Yogesh', 'Shinkar', 'Admin', 80000, 'ys@abc.com')\n",
      "(1116, 'aogesh', 'patil', 'Admin', 80000, 'ap@abc.com')\n",
      "(1117, 'Vipul', 'singh', 'HR', 80000, 'vs@abc.com')\n",
      "(1118, 'Satish', 'jadhav', 'IT', 90000, 'sj@abc.com')\n"
     ]
    }
   ],
   "source": [
    "import mysql.connector as dbcreation\n",
    "try:\n",
    "    mydb = dbcreation.connect(host=\"localhost\",user='root',passwd='Docker@123', database='sachin',use_pure=True)\n",
    "\n",
    "    query = \"SELECT * FROM Worker WHERE Email LIKE '%@abc.com';\"\n",
    "    cursor = mydb.cursor()\n",
    "    cursor.execute(query)\n",
    "    for i in cursor.fetchall():\n",
    "        print(i)\n",
    "except Exception as e:\n",
    "    print (str(e))\n",
    "finally:\n",
    "    mydb.close()"
   ]
  },
  {
   "cell_type": "code",
   "execution_count": null,
   "id": "d8072be7",
   "metadata": {},
   "outputs": [],
   "source": []
  }
 ],
 "metadata": {
  "kernelspec": {
   "display_name": "Python 3 (ipykernel)",
   "language": "python",
   "name": "python3"
  },
  "language_info": {
   "codemirror_mode": {
    "name": "ipython",
    "version": 3
   },
   "file_extension": ".py",
   "mimetype": "text/x-python",
   "name": "python",
   "nbconvert_exporter": "python",
   "pygments_lexer": "ipython3",
   "version": "3.9.7"
  }
 },
 "nbformat": 4,
 "nbformat_minor": 5
}
