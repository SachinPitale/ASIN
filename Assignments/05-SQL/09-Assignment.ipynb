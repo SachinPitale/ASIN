{
 "cells": [
  {
   "cell_type": "code",
   "execution_count": null,
   "id": "87e515f2",
   "metadata": {},
   "outputs": [],
   "source": [
    "\"\"\"\n",
    "Q-17.  Write an SQL query to show the top n (say 10) records of a table.\n",
    "\"\"\""
   ]
  },
  {
   "cell_type": "code",
   "execution_count": 1,
   "id": "93ade434",
   "metadata": {},
   "outputs": [
    {
     "name": "stdout",
     "output_type": "stream",
     "text": [
      "(12, 6, '0,954851', '0,728407', '0,081747', '0,961496', '0,737684', '0,081728')\n",
      "(12, 6, '0,954851', '0,728407', '0,748413', '0,961259', '0,737615', '0,748412')\n",
      "(12, 6, '0,954851', '0,728407', '0,748413', '0,961259', '0,737615', '0,748412')\n",
      "(12, 6, '0,954851', '0,728407', '0,748413', '0,961259', '0,737615', '0,748412')\n",
      "(12, 6, '0,954851', '0,728407', '0,081747', '0,961496', '0,737684', '0,081728')\n",
      "(12, 6, '0,954851', '0,728407', '0,081747', '0,961496', '0,737684', '0,081728')\n",
      "(12, 6, '0,953664', '0,698374', '0,296032', '0,959953', '0,707042', '0,296021')\n",
      "(12, 6, '0,953664', '0,698374', '0,962699', '0,961243', '0,707812', '0,962605')\n",
      "(12, 6, '0,953664', '0,698374', '0,296032', '0,959953', '0,707042', '0,296021')\n",
      "(12, 6, '0,953664', '0,698374', '0,962699', '0,961243', '0,707812', '0,962605')\n"
     ]
    }
   ],
   "source": [
    "import mysql.connector as dbcreation\n",
    "try:\n",
    "    mydb = dbcreation.connect(host=\"localhost\",user='root',passwd='Docker@123', database='sachin',use_pure=True)\n",
    "\n",
    "    query = \"SELECT  * FROM glass5 ORDER BY coordinate_u DESC LIMIT 10;\"\n",
    "    cursor = mydb.cursor()\n",
    "    cursor.execute(query)\n",
    "    for i in cursor.fetchall():\n",
    "        print(i)\n",
    "except Exception as e:\n",
    "    print (str(e))\n",
    "finally:\n",
    "    mydb.close()"
   ]
  },
  {
   "cell_type": "code",
   "execution_count": null,
   "id": "9e3d9598",
   "metadata": {},
   "outputs": [],
   "source": []
  },
  {
   "cell_type": "code",
   "execution_count": null,
   "id": "b66d9d7e",
   "metadata": {},
   "outputs": [],
   "source": [
    "\"\"\"\n",
    "Q-18. Write an SQL query to determine the nth (say n=5) highest salary from a table.\n",
    "\"\"\""
   ]
  },
  {
   "cell_type": "code",
   "execution_count": 2,
   "id": "0f5b2ab1",
   "metadata": {},
   "outputs": [
    {
     "name": "stdout",
     "output_type": "stream",
     "text": [
      "(65000,)\n"
     ]
    }
   ],
   "source": [
    "import mysql.connector as dbcreation\n",
    "try:\n",
    "    mydb = dbcreation.connect(host=\"localhost\",user='root',passwd='Docker@123', database='sachin',use_pure=True)\n",
    "\n",
    "    query = \"SELECT DISTINCT Salary FROM worker ORDER BY Salary DESC LIMIT 1 OFFSET 4;\"\n",
    "    cursor = mydb.cursor()\n",
    "    cursor.execute(query)\n",
    "    for i in cursor.fetchall():\n",
    "        print(i)\n",
    "except Exception as e:\n",
    "    print (str(e))\n",
    "finally:\n",
    "    mydb.close()"
   ]
  },
  {
   "cell_type": "code",
   "execution_count": null,
   "id": "e413eb01",
   "metadata": {},
   "outputs": [],
   "source": []
  }
 ],
 "metadata": {
  "kernelspec": {
   "display_name": "Python 3 (ipykernel)",
   "language": "python",
   "name": "python3"
  },
  "language_info": {
   "codemirror_mode": {
    "name": "ipython",
    "version": 3
   },
   "file_extension": ".py",
   "mimetype": "text/x-python",
   "name": "python",
   "nbconvert_exporter": "python",
   "pygments_lexer": "ipython3",
   "version": "3.9.7"
  }
 },
 "nbformat": 4,
 "nbformat_minor": 5
}
