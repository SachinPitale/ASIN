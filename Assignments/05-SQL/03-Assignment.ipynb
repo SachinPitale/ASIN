{
 "cells": [
  {
   "cell_type": "code",
   "execution_count": null,
   "id": "ec77ce53",
   "metadata": {},
   "outputs": [],
   "source": [
    "\"\"\"\n",
    "Q-1. Write an SQL query to print the FIRST_NAME from Worker table after removing white spaces from the right side.\n",
    "\"\"\""
   ]
  },
  {
   "cell_type": "code",
   "execution_count": 1,
   "id": "8991981f",
   "metadata": {},
   "outputs": [
    {
     "name": "stdout",
     "output_type": "stream",
     "text": [
      "[('Sachin',), ('Kunal',), ('Prathamesh',), ('Sonu',), ('Yogesh',)]\n"
     ]
    }
   ],
   "source": [
    "import mysql.connector as dbcreation\n",
    "try:\n",
    "    mydb = dbcreation.connect(host=\"localhost\",user='root',passwd='Docker@123', database='sachin',use_pure=True)\n",
    "\n",
    "    query = \"SELECT RTRIM(FirstName)FROM Worker;\"\n",
    "    cursor = mydb.cursor()\n",
    "    cursor.execute(query)\n",
    "    print(cursor.fetchall())\n",
    "except Exception as e:\n",
    "    print (str(e))\n",
    "finally:\n",
    "    mydb.close()"
   ]
  },
  {
   "cell_type": "code",
   "execution_count": null,
   "id": "e02473b7",
   "metadata": {},
   "outputs": [],
   "source": []
  },
  {
   "cell_type": "code",
   "execution_count": null,
   "id": "b0a2420c",
   "metadata": {},
   "outputs": [],
   "source": [
    "\"\"\"\n",
    "Q-2. Write an SQL query that fetches the unique values of DEPARTMENT from Worker table and prints its length.\n",
    "\n",
    "Answer:\n",
    "\n",
    "\n",
    "\"\"\""
   ]
  },
  {
   "cell_type": "code",
   "execution_count": 2,
   "id": "30556bc7",
   "metadata": {},
   "outputs": [
    {
     "name": "stdout",
     "output_type": "stream",
     "text": [
      "[('IT', 2), ('HR', 2), ('Admin', 5)]\n"
     ]
    }
   ],
   "source": [
    "import mysql.connector as dbcreation\n",
    "try:\n",
    "    mydb = dbcreation.connect(host=\"localhost\",user='root',passwd='Docker@123', database='sachin',use_pure=True)\n",
    "\n",
    "    query = \"SELECT DISTINCT DEPARTMENT, LENGTH(DEPARTMENT) AS departmentNameLength FROM worker;\"\n",
    "    cursor = mydb.cursor()\n",
    "    cursor.execute(query)\n",
    "    print(cursor.fetchall())\n",
    "except Exception as e:\n",
    "    print (str(e))\n",
    "finally:\n",
    "    mydb.close()"
   ]
  },
  {
   "cell_type": "code",
   "execution_count": null,
   "id": "017a7322",
   "metadata": {},
   "outputs": [],
   "source": []
  },
  {
   "cell_type": "code",
   "execution_count": null,
   "id": "e06a8ede",
   "metadata": {},
   "outputs": [],
   "source": [
    "\"\"\"\n",
    "Q-3. Write an SQL query to fetch nth max salaries from a table.\n",
    "\n",
    "\n",
    "\"\"\""
   ]
  },
  {
   "cell_type": "code",
   "execution_count": 1,
   "id": "976788e6",
   "metadata": {},
   "outputs": [
    {
     "name": "stdout",
     "output_type": "stream",
     "text": [
      "[(85000,)]\n"
     ]
    }
   ],
   "source": [
    "import mysql.connector as dbcreation\n",
    "try:\n",
    "    mydb = dbcreation.connect(host=\"localhost\",user='root',passwd='Docker@123', database='sachin',use_pure=True)\n",
    "\n",
    "    query = \"select max(salary) from worker where salary < (select MAX(salary) from worker)\"\n",
    "    cursor = mydb.cursor()\n",
    "    cursor.execute(query)\n",
    "    print(cursor.fetchall())\n",
    "except Exception as e:\n",
    "    print (str(e))\n",
    "finally:\n",
    "    mydb.close()"
   ]
  },
  {
   "cell_type": "code",
   "execution_count": null,
   "id": "3e6ad779",
   "metadata": {},
   "outputs": [],
   "source": []
  }
 ],
 "metadata": {
  "kernelspec": {
   "display_name": "Python 3 (ipykernel)",
   "language": "python",
   "name": "python3"
  },
  "language_info": {
   "codemirror_mode": {
    "name": "ipython",
    "version": 3
   },
   "file_extension": ".py",
   "mimetype": "text/x-python",
   "name": "python",
   "nbconvert_exporter": "python",
   "pygments_lexer": "ipython3",
   "version": "3.9.7"
  }
 },
 "nbformat": 4,
 "nbformat_minor": 5
}
