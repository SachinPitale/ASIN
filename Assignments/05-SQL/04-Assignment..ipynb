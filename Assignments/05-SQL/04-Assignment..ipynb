{
 "cells": [
  {
   "cell_type": "code",
   "execution_count": 6,
   "id": "d81bc13e",
   "metadata": {},
   "outputs": [
    {
     "name": "stdout",
     "output_type": "stream",
     "text": [
      "(1111, 'Sachin', 'Pitale', 'IT', 80000)\n",
      "(1112, 'Kunal', 'Singh', 'HR', 85000)\n",
      "(1113, 'Prathamesh', 'Pandit', 'HR', 65000)\n",
      "(1114, 'Sonu', 'Raj', 'IT', 140000)\n",
      "(1115, 'Yogesh', 'Shinkar', 'Admin', 80000)\n",
      "(1116, 'aogesh', 'patil', 'Admin', 80000)\n"
     ]
    }
   ],
   "source": [
    "import mysql.connector as dbcreation\n",
    "try:\n",
    "    mydb = dbcreation.connect(host=\"localhost\",user='root',passwd='Docker@123', database='sachin',use_pure=True)\n",
    "\n",
    "    query = \"SELECT * FROM Worker;\"\n",
    "    cursor = mydb.cursor()\n",
    "    cursor.execute(query)\n",
    "    for i in cursor.fetchall():\n",
    "        print(i)\n",
    "except Exception as e:\n",
    "    print (str(e))\n",
    "finally:\n",
    "    mydb.close()"
   ]
  },
  {
   "cell_type": "code",
   "execution_count": null,
   "id": "27948d43",
   "metadata": {},
   "outputs": [],
   "source": [
    "\"\"\"\n",
    "Q-1. Write an SQL query to print the FIRST_NAME from Worker table after replacing ‘a’ with ‘A’.\n",
    "\"\"\""
   ]
  },
  {
   "cell_type": "code",
   "execution_count": 17,
   "id": "8e013e14",
   "metadata": {},
   "outputs": [
    {
     "name": "stdout",
     "output_type": "stream",
     "text": [
      "('SAchin',)\n",
      "('KunAl',)\n",
      "('PrAthAmesh',)\n",
      "('Sonu',)\n",
      "('Yogesh',)\n",
      "('Aogesh',)\n"
     ]
    }
   ],
   "source": [
    "import mysql.connector as dbcreation\n",
    "try:\n",
    "    mydb = dbcreation.connect(host=\"localhost\",user='root',passwd='Docker@123', database='sachin',use_pure=True)\n",
    "\n",
    "    cursor = mydb.cursor()\n",
    "    cursor.execute(\"SELECT REPLACE(FirstName, 'a', 'A') FROM worker\")\n",
    "    for i in cursor.fetchall():\n",
    "        print(i)\n",
    "except Exception as e:\n",
    "    print (str(e))\n",
    "finally:\n",
    "    mydb.close()"
   ]
  },
  {
   "cell_type": "code",
   "execution_count": null,
   "id": "841ce0e0",
   "metadata": {},
   "outputs": [],
   "source": []
  },
  {
   "cell_type": "code",
   "execution_count": null,
   "id": "111abcaf",
   "metadata": {},
   "outputs": [],
   "source": [
    "\"\"\"\n",
    "Q-2. Write an SQL query to print all Worker details from the Worker table order by FIRST_NAME Ascending and DEPARTMENT Descending.\n",
    "\"\"\""
   ]
  },
  {
   "cell_type": "code",
   "execution_count": 18,
   "id": "53cd54d0",
   "metadata": {},
   "outputs": [
    {
     "name": "stdout",
     "output_type": "stream",
     "text": [
      "(1116, 'aogesh', 'patil', 'Admin', 80000)\n",
      "(1112, 'Kunal', 'Singh', 'HR', 85000)\n",
      "(1113, 'Prathamesh', 'Pandit', 'HR', 65000)\n",
      "(1111, 'Sachin', 'Pitale', 'IT', 80000)\n",
      "(1118, 'Satish', 'jadhav', 'IT', 90000)\n",
      "(1114, 'Sonu', 'Raj', 'IT', 140000)\n",
      "(1117, 'Vipul', 'singh', 'HR', 80000)\n",
      "(1115, 'Yogesh', 'Shinkar', 'Admin', 80000)\n"
     ]
    }
   ],
   "source": [
    "import mysql.connector as dbcreation\n",
    "try:\n",
    "    mydb = dbcreation.connect(host=\"localhost\",user='root',passwd='Docker@123', database='sachin',use_pure=True)\n",
    "\n",
    "    query = \"select  * from worker e ORDER BY e.FirstName ASC, e.DEPARTMENT DESC\"\n",
    "    cursor = mydb.cursor()\n",
    "    cursor.execute(query)\n",
    "    for i in cursor.fetchall():\n",
    "        print(i)\n",
    "except Exception as e:\n",
    "    print (str(e))\n",
    "finally:\n",
    "    mydb.close()"
   ]
  },
  {
   "cell_type": "code",
   "execution_count": null,
   "id": "a52a2755",
   "metadata": {},
   "outputs": [],
   "source": [
    "\"\"\"\n",
    "Q-3. Write an SQL query to fetch the names of workers who earn the highest salary.\n",
    "\n",
    "\"\"\""
   ]
  },
  {
   "cell_type": "code",
   "execution_count": 4,
   "id": "65e378ec",
   "metadata": {},
   "outputs": [
    {
     "name": "stdout",
     "output_type": "stream",
     "text": [
      "('Sachin', 'Pitale', 140000)\n"
     ]
    }
   ],
   "source": [
    "import mysql.connector as dbcreation\n",
    "try:\n",
    "    mydb = dbcreation.connect(host=\"localhost\",user='root',passwd='Docker@123', database='sachin',use_pure=True)\n",
    "\n",
    "    query = \"select FirstName, LastName, MAX(salary) from worker\"\n",
    "    cursor = mydb.cursor()\n",
    "    cursor.execute(query)\n",
    "    for i in cursor.fetchall():\n",
    "        print(i)\n",
    "except Exception as e:\n",
    "    print (str(e))\n",
    "finally:\n",
    "    mydb.close()"
   ]
  },
  {
   "cell_type": "code",
   "execution_count": null,
   "id": "1e9eb8bf",
   "metadata": {},
   "outputs": [],
   "source": []
  }
 ],
 "metadata": {
  "kernelspec": {
   "display_name": "Python 3 (ipykernel)",
   "language": "python",
   "name": "python3"
  },
  "language_info": {
   "codemirror_mode": {
    "name": "ipython",
    "version": 3
   },
   "file_extension": ".py",
   "mimetype": "text/x-python",
   "name": "python",
   "nbconvert_exporter": "python",
   "pygments_lexer": "ipython3",
   "version": "3.9.7"
  }
 },
 "nbformat": 4,
 "nbformat_minor": 5
}
