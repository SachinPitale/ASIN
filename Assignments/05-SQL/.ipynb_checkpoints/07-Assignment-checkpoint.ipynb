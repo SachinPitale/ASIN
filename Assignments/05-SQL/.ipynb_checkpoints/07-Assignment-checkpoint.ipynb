{
 "cells": [
  {
   "cell_type": "code",
   "execution_count": null,
   "id": "99958dd6",
   "metadata": {},
   "outputs": [],
   "source": [
    "\"\"\"\n",
    "Q-13. Write an SQL query to show only odd rows from a table.\n",
    "\"\"\""
   ]
  },
  {
   "cell_type": "code",
   "execution_count": 1,
   "id": "3ea9b30f",
   "metadata": {},
   "outputs": [
    {
     "name": "stdout",
     "output_type": "stream",
     "text": [
      "(1111, 'Sachin', 'Pitale', 'IT', 80000, 'sp@abc.com', '2014-02-22')\n",
      "(1113, 'Prathamesh', 'Pandit', 'HR', 65000, 'pp@abc.com', '2014-02-21')\n",
      "(1115, 'Yogesh', 'Shinkar', 'Admin', 80000, 'ys@abc.com', '2016-02-22')\n"
     ]
    }
   ],
   "source": [
    "import mysql.connector as dbcreation\n",
    "try:\n",
    "    mydb = dbcreation.connect(host=\"localhost\",user='root',passwd='Docker@123', database='sachin',use_pure=True)\n",
    "\n",
    "    query = \"Select * from Worker where empId % 2 != 0\"\n",
    "    cursor = mydb.cursor()\n",
    "    cursor.execute(query)\n",
    "    for i in cursor.fetchall():\n",
    "        print(i)\n",
    "except Exception as e:\n",
    "    print (str(e))\n",
    "finally:\n",
    "    mydb.close()"
   ]
  },
  {
   "cell_type": "code",
   "execution_count": null,
   "id": "dbc16fff",
   "metadata": {},
   "outputs": [],
   "source": [
    "\"\"\"\n",
    "Q-14. Write an SQL query to clone a new table from another table.\n",
    "\n",
    "\"\"\""
   ]
  },
  {
   "cell_type": "code",
   "execution_count": 2,
   "id": "00e831b3",
   "metadata": {},
   "outputs": [],
   "source": [
    "import mysql.connector as dbcreation\n",
    "try:\n",
    "    mydb = dbcreation.connect(host=\"localhost\",user='root',passwd='Docker@123', database='sachin',use_pure=True)\n",
    "\n",
    "    query = \"CREATE TABLE Worker_dummy SELECT * FROM Worker;\"\n",
    "    cursor = mydb.cursor()\n",
    "    cursor.execute(query)\n",
    "except Exception as e:\n",
    "    print (str(e))\n",
    "finally:\n",
    "    mydb.close()"
   ]
  },
  {
   "cell_type": "code",
   "execution_count": null,
   "id": "96fb9595",
   "metadata": {},
   "outputs": [],
   "source": []
  }
 ],
 "metadata": {
  "kernelspec": {
   "display_name": "Python 3 (ipykernel)",
   "language": "python",
   "name": "python3"
  },
  "language_info": {
   "codemirror_mode": {
    "name": "ipython",
    "version": 3
   },
   "file_extension": ".py",
   "mimetype": "text/x-python",
   "name": "python",
   "nbconvert_exporter": "python",
   "pygments_lexer": "ipython3",
   "version": "3.9.7"
  }
 },
 "nbformat": 4,
 "nbformat_minor": 5
}
