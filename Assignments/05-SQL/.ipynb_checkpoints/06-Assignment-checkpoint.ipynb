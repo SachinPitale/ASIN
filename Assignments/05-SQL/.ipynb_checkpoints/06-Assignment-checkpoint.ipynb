{
 "cells": [
  {
   "cell_type": "code",
   "execution_count": 5,
   "id": "7d94f497",
   "metadata": {},
   "outputs": [
    {
     "name": "stdout",
     "output_type": "stream",
     "text": [
      "(1111, 'Sachin', 'Pitale', 'IT', 80000, 'sp@abc.com', '2014-02-22')\n",
      "(1112, 'Kunal', 'Singh', 'HR', 85000, 'ks@abc.com', '2015-05-22')\n",
      "(1113, 'Prathamesh', 'Pandit', 'HR', 65000, 'pp@abc.com', '2014-02-21')\n",
      "(1115, 'Yogesh', 'Shinkar', 'Admin', 80000, 'ys@abc.com', '2016-02-22')\n",
      "(1119, 'Kunal', 'Singh', 'HR', 85000, 'ks@abc.com', '2015-05-22')\n",
      "(1120, 'Prathamesh', 'Pandit', 'HR', 65000, 'pp@abc.com', '2014-02-21')\n"
     ]
    }
   ],
   "source": [
    "import mysql.connector as dbcreation\n",
    "try:\n",
    "    mydb = dbcreation.connect(host=\"localhost\",user='root',passwd='Docker@123', database='sachin',use_pure=True)\n",
    "\n",
    "    query = \"SELECT * FROM Worker;\"\n",
    "    cursor = mydb.cursor()\n",
    "    cursor.execute(query)\n",
    "    for i in cursor.fetchall():\n",
    "        print(i)\n",
    "except Exception as e:\n",
    "    print (str(e))\n",
    "finally:\n",
    "    mydb.close()"
   ]
  },
  {
   "cell_type": "code",
   "execution_count": null,
   "id": "ef8a0011",
   "metadata": {},
   "outputs": [],
   "source": [
    "\"\"\"\n",
    "Q-1. Write an SQL query to print details of the Workers who have joined in Feb’2014.\n",
    "\"\"\""
   ]
  },
  {
   "cell_type": "code",
   "execution_count": 4,
   "id": "f5fab886",
   "metadata": {},
   "outputs": [
    {
     "name": "stdout",
     "output_type": "stream",
     "text": [
      "(1111, 'Sachin', 'Pitale', 'IT', 80000, 'sp@abc.com', '2014-02-22')\n",
      "(1113, 'Prathamesh', 'Pandit', 'HR', 65000, 'pp@abc.com', '2014-02-21')\n"
     ]
    }
   ],
   "source": [
    "import mysql.connector as dbcreation\n",
    "try:\n",
    "    mydb = dbcreation.connect(host=\"localhost\",user='root',passwd='Docker@123', database='sachin',use_pure=True)\n",
    "\n",
    "    query = \"SELECT * FROM worker WHERE DOJ LIKE '2014-02%'\"\n",
    "    cursor = mydb.cursor()\n",
    "    cursor.execute(query)\n",
    "    for i in cursor.fetchall():\n",
    "        print(i)\n",
    "except Exception as e:\n",
    "    print (str(e))\n",
    "finally:\n",
    "    mydb.close()"
   ]
  },
  {
   "cell_type": "code",
   "execution_count": null,
   "id": "92c66063",
   "metadata": {},
   "outputs": [],
   "source": [
    "\"\"\"\n",
    "Q-2.Write an SQL query to fetch duplicate records having matching data in some fields of a table.\n",
    "\"\"\""
   ]
  },
  {
   "cell_type": "code",
   "execution_count": 6,
   "id": "46881d5e",
   "metadata": {},
   "outputs": [
    {
     "name": "stdout",
     "output_type": "stream",
     "text": [
      "('Kunal', 'Singh', 'ks@abc.com', 2)\n",
      "('Prathamesh', 'Pandit', 'pp@abc.com', 2)\n"
     ]
    }
   ],
   "source": [
    "import mysql.connector as dbcreation\n",
    "try:\n",
    "    mydb = dbcreation.connect(host=\"localhost\",user='root',passwd='Docker@123', database='sachin',use_pure=True)\n",
    "\n",
    "    query = \"SELECT FirstName, LastName, Email,COUNT(*) FROM worker GROUP BY FirstName, LastName, Email HAVING COUNT(*) > 1\"\n",
    "    cursor = mydb.cursor()\n",
    "    cursor.execute(query)\n",
    "    for i in cursor.fetchall():\n",
    "        print(i)\n",
    "except Exception as e:\n",
    "    print (str(e))\n",
    "finally:\n",
    "    mydb.close()"
   ]
  },
  {
   "cell_type": "code",
   "execution_count": null,
   "id": "4c8a0f24",
   "metadata": {},
   "outputs": [],
   "source": [
    "\"\"\"\n",
    "Q-3. How to remove duplicate rows from Employees table.\n",
    "\"\"\""
   ]
  },
  {
   "cell_type": "code",
   "execution_count": 31,
   "id": "2a7c8b18",
   "metadata": {},
   "outputs": [
    {
     "name": "stdout",
     "output_type": "stream",
     "text": [
      "[]\n",
      "[]\n",
      "[('Sachin', 'Pitale', 'sp@abc.com'), ('Kunal', 'Singh', 'ks@abc.com'), ('Prathamesh', 'Pandit', 'pp@abc.com'), ('Yogesh', 'Shinkar', 'ys@abc.com')]\n",
      "[]\n"
     ]
    }
   ],
   "source": [
    "import mysql.connector as dbcreation\n",
    "try:\n",
    "    mydb = dbcreation.connect(host=\"localhost\",user='root',passwd='Docker@123', database='sachin',use_pure=True,)\n",
    "    cursor = mydb.cursor()\n",
    "    cursor.execute(\"CREATE TABLE temp_Worker SELECT DISTINCT FirstName,  LastName, Email FROM Worker;\")\n",
    "    print(cursor.fetchall())\n",
    "    cursor = mydb.cursor()\n",
    "    cursor.execute(\"DROP TABLE Worker;\")\n",
    "    print(cursor.fetchall())\n",
    "    cursor = mydb.cursor()\n",
    "    cursor.execute(\"select * from temp_Worker;\")\n",
    "    print(cursor.fetchall())\n",
    "    cursor = mydb.cursor()\n",
    "    cursor.execute(\"ALTER TABLE temp_Worker RENAME TO Worker;\")\n",
    "    print(cursor.fetchall())\n",
    "except Exception as e:\n",
    "    print (str(e))\n",
    "finally:\n",
    "    mydb.close()"
   ]
  },
  {
   "cell_type": "code",
   "execution_count": null,
   "id": "3ddfcc59",
   "metadata": {},
   "outputs": [],
   "source": []
  }
 ],
 "metadata": {
  "kernelspec": {
   "display_name": "Python 3 (ipykernel)",
   "language": "python",
   "name": "python3"
  },
  "language_info": {
   "codemirror_mode": {
    "name": "ipython",
    "version": 3
   },
   "file_extension": ".py",
   "mimetype": "text/x-python",
   "name": "python",
   "nbconvert_exporter": "python",
   "pygments_lexer": "ipython3",
   "version": "3.9.7"
  }
 },
 "nbformat": 4,
 "nbformat_minor": 5
}
