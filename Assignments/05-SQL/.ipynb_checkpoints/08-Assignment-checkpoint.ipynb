{
 "cells": [
  {
   "cell_type": "code",
   "execution_count": null,
   "id": "79cf04ac",
   "metadata": {},
   "outputs": [],
   "source": [
    "\"\"\"\n",
    "Q-15. Write an SQL query to fetch intersecting records of two tables.\n",
    "\n",
    "\"\"\""
   ]
  },
  {
   "cell_type": "code",
   "execution_count": 1,
   "id": "ebf6db06",
   "metadata": {},
   "outputs": [
    {
     "name": "stdout",
     "output_type": "stream",
     "text": [
      "(1111, 'Sachin', 'Pitale', 'sp@abc.com')\n",
      "(1112, 'Kunal', 'Singh', 'ks@abc.com')\n",
      "(1113, 'Prathamesh', 'Pandit', 'pp@abc.com')\n",
      "(1115, 'Yogesh', 'Shinkar', 'ys@abc.com')\n"
     ]
    }
   ],
   "source": [
    "import mysql.connector as dbcreation\n",
    "try:\n",
    "    mydb = dbcreation.connect(host=\"localhost\",user='root',passwd='Docker@123', database='sachin',use_pure=True)\n",
    "\n",
    "    query = \"SELECT DISTINCT empId,FirstName, LastName, Email FROM Worker WHERE empId IN (SELECT empId FROM Worker_dummy);\"\n",
    "    cursor = mydb.cursor()\n",
    "    cursor.execute(query)\n",
    "    for i in cursor.fetchall():\n",
    "        print(i)\n",
    "except Exception as e:\n",
    "    print (str(e))\n",
    "finally:\n",
    "    mydb.close()"
   ]
  },
  {
   "cell_type": "code",
   "execution_count": null,
   "id": "bad9edda",
   "metadata": {},
   "outputs": [],
   "source": []
  },
  {
   "cell_type": "code",
   "execution_count": null,
   "id": "42f5d3cf",
   "metadata": {},
   "outputs": [],
   "source": [
    "\"\"\"\n",
    "Q-16. Write an SQL query to show records from one table that another table does not have.\n",
    "\"\"\""
   ]
  },
  {
   "cell_type": "code",
   "execution_count": 2,
   "id": "b9f00091",
   "metadata": {},
   "outputs": [
    {
     "name": "stdout",
     "output_type": "stream",
     "text": [
      "(1114, 'Sonu', 'Raj', 'sr@abc.com')\n"
     ]
    }
   ],
   "source": [
    "import mysql.connector as dbcreation\n",
    "try:\n",
    "    mydb = dbcreation.connect(host=\"localhost\",user='root',passwd='Docker@123', database='sachin',use_pure=True)\n",
    "\n",
    "    query = \"SELECT DISTINCT empId,FirstName, LastName, Email FROM Worker WHERE empId NOT IN (SELECT empId FROM Worker_dummy);\"\n",
    "    cursor = mydb.cursor()\n",
    "    cursor.execute(query)\n",
    "    for i in cursor.fetchall():\n",
    "        print(i)\n",
    "except Exception as e:\n",
    "    print (str(e))\n",
    "finally:\n",
    "    mydb.close()"
   ]
  },
  {
   "cell_type": "code",
   "execution_count": null,
   "id": "b0431379",
   "metadata": {},
   "outputs": [],
   "source": []
  }
 ],
 "metadata": {
  "kernelspec": {
   "display_name": "Python 3 (ipykernel)",
   "language": "python",
   "name": "python3"
  },
  "language_info": {
   "codemirror_mode": {
    "name": "ipython",
    "version": 3
   },
   "file_extension": ".py",
   "mimetype": "text/x-python",
   "name": "python",
   "nbconvert_exporter": "python",
   "pygments_lexer": "ipython3",
   "version": "3.9.7"
  }
 },
 "nbformat": 4,
 "nbformat_minor": 5
}
