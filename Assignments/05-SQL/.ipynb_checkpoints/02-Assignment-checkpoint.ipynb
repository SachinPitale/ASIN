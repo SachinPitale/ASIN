{
 "cells": [
  {
   "cell_type": "code",
   "execution_count": null,
   "id": "e01d5b53",
   "metadata": {},
   "outputs": [],
   "source": [
    "\"\"\"\n",
    "Q-1. Write an SQL query to print the first three characters of  FIRST_NAME from Worker table.\n",
    "\n",
    "\"\"\""
   ]
  },
  {
   "cell_type": "code",
   "execution_count": 4,
   "id": "af8c958c",
   "metadata": {},
   "outputs": [
    {
     "name": "stdout",
     "output_type": "stream",
     "text": [
      "('Sac',)\n",
      "('Kun',)\n",
      "('Pra',)\n",
      "('Yog',)\n",
      "('Son',)\n"
     ]
    }
   ],
   "source": [
    "import mysql.connector as dbcreation\n",
    "try:\n",
    "    mydb = dbcreation.connect(host=\"localhost\",user='root',passwd='Docker@123', database='sachin',use_pure=True)\n",
    "\n",
    "    query = \"SELECT SUBSTRING(FirstName,1,3) FROM Worker;\"\n",
    "    cursor = mydb.cursor()\n",
    "    cursor.execute(query)\n",
    "    for i in cursor.fetchall():\n",
    "        print(i)\n",
    "except Exception as e:\n",
    "    print (str(e))\n",
    "finally:\n",
    "    mydb.close()"
   ]
  },
  {
   "cell_type": "code",
   "execution_count": null,
   "id": "5fbd23c9",
   "metadata": {},
   "outputs": [],
   "source": []
  },
  {
   "cell_type": "code",
   "execution_count": null,
   "id": "0bd16609",
   "metadata": {},
   "outputs": [],
   "source": [
    "\"\"\"\n",
    "Q-2. Write an SQL query to find the position of the alphabet (‘a’) in the first name column ‘Amitabh’ from Worker table\n",
    "\n",
    "\"\"\""
   ]
  },
  {
   "cell_type": "code",
   "execution_count": 5,
   "id": "58d8958c",
   "metadata": {},
   "outputs": [
    {
     "name": "stdout",
     "output_type": "stream",
     "text": [
      "(1111, 'Sachin', 'Pitale', 'IT')\n",
      "(1112, 'Kunal', 'Singh', 'HR')\n",
      "(1113, 'Prathamesh', 'Pandit', 'HR')\n",
      "(1116, 'Amitabh', 'patane', 'Admin')\n",
      "(1118, 'Amit', 'Dube', 'IT')\n"
     ]
    }
   ],
   "source": [
    "import mysql.connector as dbcreation\n",
    "try:\n",
    "    mydb = dbcreation.connect(host=\"localhost\",user='root',passwd='Docker@123', database='sachin',use_pure=True)\n",
    "\n",
    "    query = \"SELECT * FROM Worker WHERE FirstName LIKE '%A%';\"\n",
    "    cursor = mydb.cursor()\n",
    "    cursor.execute(query)\n",
    "    for i in cursor.fetchall():\n",
    "        print(i)\n",
    "except Exception as e:\n",
    "    print (str(e))\n",
    "finally:\n",
    "    mydb.close()"
   ]
  },
  {
   "cell_type": "code",
   "execution_count": null,
   "id": "88cf7fc0",
   "metadata": {},
   "outputs": [],
   "source": []
  },
  {
   "cell_type": "code",
   "execution_count": 6,
   "id": "c015c519",
   "metadata": {},
   "outputs": [
    {
     "data": {
      "text/plain": [
       "'Q-3. Write an SQL query to print the name of employees having the highest salary in each department.'"
      ]
     },
     "execution_count": 6,
     "metadata": {},
     "output_type": "execute_result"
    }
   ],
   "source": [
    "\"Q-3. Write an SQL query to print the name of employees having the highest salary in each department.\""
   ]
  },
  {
   "cell_type": "code",
   "execution_count": 7,
   "id": "b799d009",
   "metadata": {},
   "outputs": [
    {
     "name": "stdout",
     "output_type": "stream",
     "text": [
      "('IT', 140000)\n",
      "('HR', 85000)\n",
      "('Admin', 80000)\n"
     ]
    }
   ],
   "source": [
    "import mysql.connector as dbcreation\n",
    "try:\n",
    "    mydb = dbcreation.connect(host=\"localhost\",user='root',passwd='Docker@123', database='sachin',use_pure=True)\n",
    "\n",
    "    query = \"SELECT DEPARTMENT, MAX(Salary) FROM Worker GROUP BY DEPARTMENT;\"\n",
    "    cursor = mydb.cursor()\n",
    "    cursor.execute(query)\n",
    "    for i in cursor.fetchall():\n",
    "        print(i)\n",
    "except Exception as e:\n",
    "    print (str(e))\n",
    "finally:\n",
    "    mydb.close()"
   ]
  },
  {
   "cell_type": "code",
   "execution_count": null,
   "id": "9878373e",
   "metadata": {},
   "outputs": [],
   "source": []
  }
 ],
 "metadata": {
  "kernelspec": {
   "display_name": "Python 3 (ipykernel)",
   "language": "python",
   "name": "python3"
  },
  "language_info": {
   "codemirror_mode": {
    "name": "ipython",
    "version": 3
   },
   "file_extension": ".py",
   "mimetype": "text/x-python",
   "name": "python",
   "nbconvert_exporter": "python",
   "pygments_lexer": "ipython3",
   "version": "3.9.7"
  }
 },
 "nbformat": 4,
 "nbformat_minor": 5
}
